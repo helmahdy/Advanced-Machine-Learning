{
  "nbformat": 4,
  "nbformat_minor": 0,
  "metadata": {
    "colab": {
      "name": " RNN-helmahdy_#3.ipynb",
      "provenance": [],
      "include_colab_link": true
    },
    "kernelspec": {
      "name": "python3",
      "display_name": "Python 3"
    },
    "language_info": {
      "name": "python"
    }
  },
  "cells": [
    {
      "cell_type": "markdown",
      "metadata": {
        "id": "view-in-github",
        "colab_type": "text"
      },
      "source": [
        "<a href=\"https://colab.research.google.com/github/helmahdy/Advanced-Machine-Learning/blob/main/RNN_helmahdy__3.ipynb\" target=\"_parent\"><img src=\"https://colab.research.google.com/assets/colab-badge.svg\" alt=\"Open In Colab\"/></a>"
      ]
    },
    {
      "cell_type": "code",
      "metadata": {
        "id": "dgUwHyTdjms1"
      },
      "source": [
        "import keras\n",
        "import tensorflow as tf\n",
        "import pandas as pd\n",
        "import numpy as np\n",
        "from keras.datasets import imdb\n",
        "from keras import preprocessing\n",
        "from keras.models import Sequential\n",
        "from keras.layers import Embedding, Flatten, Dense\n",
        "import os\n",
        "from keras.preprocessing.text import Tokenizer\n",
        "from keras.preprocessing.sequence import pad_sequences\n",
        "import matplotlib.pyplot as plt\n",
        "from google.colab import drive"
      ],
      "execution_count": null,
      "outputs": []
    },
    {
      "cell_type": "markdown",
      "metadata": {
        "id": "lIHfVPjff-or"
      },
      "source": [
        "# Preparing the IMBD data\n",
        "> We will restrict the movie reviews to the top 10,000 most common words (like we did the first time we worked with this dataset), and cut the reviews after only 150 words. Our network will simply learn 8-dimensional embeddings for each of the 10,000 words, turn the input integer sequences (2D integer tensor) into embedded sequences (3D float tensor), flatten the tensor to 2D, and train a single Dense layer on top for classification.\n",
        "\n",
        "\n",
        "\n",
        "\n",
        "\n",
        "\n",
        "\n",
        "\n",
        "\n"
      ]
    },
    {
      "cell_type": "code",
      "metadata": {
        "colab": {
          "base_uri": "https://localhost:8080/"
        },
        "id": "D69d_VuBf9wO",
        "outputId": "48a4b86e-2e00-4325-98e5-ef6782667dfe"
      },
      "source": [
        "\n",
        "# Number of words to consider as features\n",
        "max_features = 10000\n",
        "# Cut texts after this number of words \n",
        "# (among top max_features most common words)\n",
        "maxlen = 150\n",
        "\n",
        "# Load the data as lists of integers.\n",
        "(x_train, y_train), (x_test, y_test) = imdb.load_data(num_words=max_features)\n",
        "\n",
        "#Restrict training samples to 100\n",
        "x_train = x_train[0:100]\n",
        "\n",
        "# This turns our lists of integers\n",
        "# into a 2D integer tensor of shape `(samples, maxlen)`\n",
        "x_train = preprocessing.sequence.pad_sequences(x_train, maxlen=maxlen)\n",
        "x_test = preprocessing.sequence.pad_sequences(x_test, maxlen=maxlen)"
      ],
      "execution_count": null,
      "outputs": [
        {
          "output_type": "stream",
          "text": [
            "Downloading data from https://storage.googleapis.com/tensorflow/tf-keras-datasets/imdb.npz\n",
            "17465344/17464789 [==============================] - 0s 0us/step\n"
          ],
          "name": "stdout"
        },
        {
          "output_type": "stream",
          "text": [
            "<string>:6: VisibleDeprecationWarning: Creating an ndarray from ragged nested sequences (which is a list-or-tuple of lists-or-tuples-or ndarrays with different lengths or shapes) is deprecated. If you meant to do this, you must specify 'dtype=object' when creating the ndarray\n",
            "/usr/local/lib/python3.7/dist-packages/tensorflow/python/keras/datasets/imdb.py:159: VisibleDeprecationWarning: Creating an ndarray from ragged nested sequences (which is a list-or-tuple of lists-or-tuples-or ndarrays with different lengths or shapes) is deprecated. If you meant to do this, you must specify 'dtype=object' when creating the ndarray\n",
            "  x_train, y_train = np.array(xs[:idx]), np.array(labels[:idx])\n",
            "/usr/local/lib/python3.7/dist-packages/tensorflow/python/keras/datasets/imdb.py:160: VisibleDeprecationWarning: Creating an ndarray from ragged nested sequences (which is a list-or-tuple of lists-or-tuples-or ndarrays with different lengths or shapes) is deprecated. If you meant to do this, you must specify 'dtype=object' when creating the ndarray\n",
            "  x_test, y_test = np.array(xs[idx:]), np.array(labels[idx:])\n"
          ],
          "name": "stderr"
        }
      ]
    },
    {
      "cell_type": "code",
      "metadata": {
        "colab": {
          "base_uri": "https://localhost:8080/"
        },
        "id": "MH3qJaHIw5XG",
        "outputId": "b43d0878-6f4c-4c16-d681-f70bad18bd33"
      },
      "source": [
        "len(x_train)"
      ],
      "execution_count": null,
      "outputs": [
        {
          "output_type": "execute_result",
          "data": {
            "text/plain": [
              "100"
            ]
          },
          "metadata": {
            "tags": []
          },
          "execution_count": 39
        }
      ]
    },
    {
      "cell_type": "code",
      "metadata": {
        "colab": {
          "base_uri": "https://localhost:8080/"
        },
        "id": "sX2SGC9Kxz8I",
        "outputId": "376cf41c-b328-4f89-f3d8-7701406e86bf"
      },
      "source": [
        "model = Sequential()\n",
        "# We specify the maximum input length to our Embedding layer\n",
        "# so we can later flatten the embedded inputs\n",
        "model.add(Embedding(10000, 8, input_length=maxlen))\n",
        "# After the Embedding layer, \n",
        "# our activations have shape `(samples, maxlen, 8)`.\n",
        "\n",
        "# We flatten the 3D tensor of embeddings \n",
        "# into a 2D tensor of shape `(samples, maxlen * 8)`\n",
        "model.add(Flatten())\n",
        "\n",
        "# We add the classifier on top\n",
        "model.add(Dense(1, activation='sigmoid'))\n",
        "model.compile(optimizer='rmsprop', loss='binary_crossentropy', metrics=['acc'])\n",
        "model.summary()\n",
        "\n",
        "history = model.fit(x_train, y_train,\n",
        "                    epochs=10,\n",
        "                    batch_size=32,\n",
        "                    validation_split=0.2)"
      ],
      "execution_count": null,
      "outputs": [
        {
          "output_type": "stream",
          "text": [
            "Model: \"sequential\"\n",
            "_________________________________________________________________\n",
            "Layer (type)                 Output Shape              Param #   \n",
            "=================================================================\n",
            "embedding (Embedding)        (None, 150, 8)            80000     \n",
            "_________________________________________________________________\n",
            "flatten (Flatten)            (None, 1200)              0         \n",
            "_________________________________________________________________\n",
            "dense (Dense)                (None, 1)                 1201      \n",
            "=================================================================\n",
            "Total params: 81,201\n",
            "Trainable params: 81,201\n",
            "Non-trainable params: 0\n",
            "_________________________________________________________________\n",
            "Epoch 1/10\n",
            "3/3 [==============================] - 1s 109ms/step - loss: 0.6953 - acc: 0.4297 - val_loss: 0.6931 - val_acc: 0.5000\n",
            "Epoch 2/10\n",
            "3/3 [==============================] - 0s 20ms/step - loss: 0.6652 - acc: 0.8930 - val_loss: 0.6932 - val_acc: 0.4500\n",
            "Epoch 3/10\n",
            "3/3 [==============================] - 0s 19ms/step - loss: 0.6439 - acc: 0.9516 - val_loss: 0.6938 - val_acc: 0.4500\n",
            "Epoch 4/10\n",
            "3/3 [==============================] - 0s 20ms/step - loss: 0.6278 - acc: 0.9477 - val_loss: 0.6934 - val_acc: 0.6500\n",
            "Epoch 5/10\n",
            "3/3 [==============================] - 0s 18ms/step - loss: 0.6062 - acc: 0.9898 - val_loss: 0.6942 - val_acc: 0.6500\n",
            "Epoch 6/10\n",
            "3/3 [==============================] - 0s 19ms/step - loss: 0.5912 - acc: 0.9820 - val_loss: 0.6943 - val_acc: 0.6500\n",
            "Epoch 7/10\n",
            "3/3 [==============================] - 0s 22ms/step - loss: 0.5724 - acc: 0.9820 - val_loss: 0.6940 - val_acc: 0.6000\n",
            "Epoch 8/10\n",
            "3/3 [==============================] - 0s 19ms/step - loss: 0.5571 - acc: 1.0000 - val_loss: 0.6945 - val_acc: 0.6000\n",
            "Epoch 9/10\n",
            "3/3 [==============================] - 0s 22ms/step - loss: 0.5403 - acc: 0.9820 - val_loss: 0.6957 - val_acc: 0.6000\n",
            "Epoch 10/10\n",
            "3/3 [==============================] - 0s 21ms/step - loss: 0.5179 - acc: 0.9938 - val_loss: 0.6966 - val_acc: 0.6500\n"
          ],
          "name": "stdout"
        }
      ]
    },
    {
      "cell_type": "markdown",
      "metadata": {
        "id": "buw4q1z_yHZW"
      },
      "source": [
        "Results: training accuracy was 0.9938 compared to 0.8669 on the original model before making any changes. validation accuracy is 0.65 against 0.7554 for the original model. "
      ]
    },
    {
      "cell_type": "markdown",
      "metadata": {
        "id": "JkeV7H9Kylbp"
      },
      "source": [
        "# Using pre-trained word embeddings"
      ]
    },
    {
      "cell_type": "code",
      "metadata": {
        "colab": {
          "base_uri": "https://localhost:8080/"
        },
        "id": "_Ho1QiEwx0GA",
        "outputId": "3462b1f6-671d-4eae-b579-b4c41c4e865f"
      },
      "source": [
        "drive.mount('/content/gdrive')"
      ],
      "execution_count": null,
      "outputs": [
        {
          "output_type": "stream",
          "text": [
            "Drive already mounted at /content/gdrive; to attempt to forcibly remount, call drive.mount(\"/content/gdrive\", force_remount=True).\n"
          ],
          "name": "stdout"
        }
      ]
    },
    {
      "cell_type": "code",
      "metadata": {
        "id": "AzikqbtCyxR-"
      },
      "source": [
        "#let's collect the individual training reviews into a list of strings, one string per review, and let's also collect the review labels (positive / negative) into a labels list:\n",
        "imdb_dir = '/content/gdrive/MyDrive/Colab Notebooks/aclImdb'\n",
        "train_dir = os.path.join(imdb_dir,'train')\n",
        "labels = []\n",
        "texts = []\n",
        "\n",
        "for label_type in ['neg', 'pos']:\n",
        "    dir_name = os.path.join(train_dir, label_type)\n",
        "    for fname in os.listdir(dir_name):\n",
        "        if fname[-4:] == '.txt':\n",
        "            f = open(os.path.join(dir_name, fname))\n",
        "            texts.append(f.read())\n",
        "            f.close()\n",
        "            if label_type == 'neg':\n",
        "                labels.append(0)\n",
        "            else:\n",
        "                labels.append(1)\n",
        "                "
      ],
      "execution_count": null,
      "outputs": []
    },
    {
      "cell_type": "markdown",
      "metadata": {
        "id": "Ovb3699HLeux"
      },
      "source": [
        "We then vectorize the texts we collected, and prepare a training and validation split. Because pre-trained word embeddings are meant to be particularly useful on problems where little training data is available (otherwise, task-specific embeddings are likely to outperform them), we will add the following twist: we restrict the training data to its first 100 samples. So we will be learning to classify movie reviews after looking at just 100 examples..."
      ]
    },
    {
      "cell_type": "code",
      "metadata": {
        "id": "DOMYvK8BLaXq",
        "colab": {
          "base_uri": "https://localhost:8080/"
        },
        "outputId": "7491f454-be72-41b8-aeab-8b71cf7a16db"
      },
      "source": [
        "maxlen = 150  # We will cut reviews after 150 words\n",
        "training_samples = 100  # We will be training on 100 samples\n",
        "validation_samples = 10000  # We will be validating on 10000 samples\n",
        "max_words = 10000  # We will only consider the top 10,000 words in the dataset\n",
        "\n",
        "tokenizer = Tokenizer(num_words=max_words)\n",
        "tokenizer.fit_on_texts(texts)\n",
        "sequences = tokenizer.texts_to_sequences(texts)\n",
        "\n",
        "word_index = tokenizer.word_index\n",
        "print('Found %s unique tokens.' % len(word_index))\n",
        "\n",
        "data = pad_sequences(sequences, maxlen=maxlen)\n",
        "\n",
        "labels = np.asarray(labels)\n",
        "print('Shape of data tensor:', data.shape)\n",
        "print('Shape of label tensor:', labels.shape)\n",
        "\n",
        "# Split the data into a training set and a validation set\n",
        "# But first, shuffle the data, since we started from data\n",
        "# where sample are ordered (all negative first, then all positive).\n",
        "indices = np.arange(data.shape[0])\n",
        "np.random.shuffle(indices)\n",
        "data = data[indices]\n",
        "labels = labels[indices]\n",
        "\n",
        "x_train = data[:training_samples]\n",
        "y_train = labels[:training_samples]\n",
        "x_val = data[training_samples: training_samples + validation_samples]\n",
        "y_val = labels[training_samples: training_samples + validation_samples]"
      ],
      "execution_count": null,
      "outputs": [
        {
          "output_type": "stream",
          "text": [
            "Found 61971 unique tokens.\n",
            "Shape of data tensor: (11877, 150)\n",
            "Shape of label tensor: (11877,)\n"
          ],
          "name": "stdout"
        }
      ]
    },
    {
      "cell_type": "markdown",
      "metadata": {
        "id": "awbMdK6FLyYJ"
      },
      "source": [
        "We will download the GloVe word embeddings, then we will Pre-process the embeddings by building an index mapping words (as strings) to their vector representation (as number vectors).\n"
      ]
    },
    {
      "cell_type": "code",
      "metadata": {
        "id": "k8xuBrSCLx05",
        "colab": {
          "base_uri": "https://localhost:8080/"
        },
        "outputId": "cbbdef86-ece6-419b-e3c1-7c383b069ee8"
      },
      "source": [
        "glove_dir = '/content/gdrive/MyDrive/Colab Notebooks/glove.6B'\n",
        "embeddings_index = {}\n",
        "f = open(os.path.join(glove_dir, 'glove.6B.100d.txt'))\n",
        "for line in f:\n",
        "    values = line.split()\n",
        "    word = values[0]\n",
        "    coefs = np.asarray(values[1:], dtype='float32')\n",
        "    embeddings_index[word] = coefs\n",
        "f.close()\n",
        "\n",
        "print('Found %s word vectors.' % len(embeddings_index))"
      ],
      "execution_count": null,
      "outputs": [
        {
          "output_type": "stream",
          "text": [
            "Found 400000 word vectors.\n"
          ],
          "name": "stdout"
        }
      ]
    },
    {
      "cell_type": "markdown",
      "metadata": {
        "id": "V-gyeE_mSxhp"
      },
      "source": [
        "Then we build an embedding matrix that we will be able to load into an Embedding layer. It must be a matrix of shape (max_words, \n",
        "embedding_dim), where each entry i contains the embedding_dim-dimensional vector for the word of index i in our reference word index (built during tokenization)"
      ]
    },
    {
      "cell_type": "code",
      "metadata": {
        "id": "9x8jTsArMENp"
      },
      "source": [
        "embedding_dim = 100\n",
        "\n",
        "embedding_matrix = np.zeros((max_words, embedding_dim))\n",
        "for word, i in word_index.items():\n",
        "    embedding_vector = embeddings_index.get(word)\n",
        "    if i < max_words:\n",
        "        if embedding_vector is not None:\n",
        "            # Words not found in embedding index will be all-zeros.\n",
        "            embedding_matrix[i] = embedding_vector"
      ],
      "execution_count": null,
      "outputs": []
    },
    {
      "cell_type": "markdown",
      "metadata": {
        "id": "eVb9-_olS7jp"
      },
      "source": [
        "# Now we move to building and compiling the model"
      ]
    },
    {
      "cell_type": "code",
      "metadata": {
        "id": "Fz5mgea_MEyJ",
        "colab": {
          "base_uri": "https://localhost:8080/"
        },
        "outputId": "f211e3a2-1df6-486d-a505-b2c89f8a283e"
      },
      "source": [
        "#Building the model \n",
        "model = Sequential()\n",
        "model.add(Embedding(max_words, embedding_dim, input_length=maxlen))\n",
        "model.add(Flatten())\n",
        "model.add(Dense(32, activation='relu'))\n",
        "model.add(Dense(1, activation='sigmoid'))\n",
        "model.summary()"
      ],
      "execution_count": null,
      "outputs": [
        {
          "output_type": "stream",
          "text": [
            "Model: \"sequential\"\n",
            "_________________________________________________________________\n",
            "Layer (type)                 Output Shape              Param #   \n",
            "=================================================================\n",
            "embedding (Embedding)        (None, 150, 100)          1000000   \n",
            "_________________________________________________________________\n",
            "flatten (Flatten)            (None, 15000)             0         \n",
            "_________________________________________________________________\n",
            "dense (Dense)                (None, 32)                480032    \n",
            "_________________________________________________________________\n",
            "dense_1 (Dense)              (None, 1)                 33        \n",
            "=================================================================\n",
            "Total params: 1,480,065\n",
            "Trainable params: 1,480,065\n",
            "Non-trainable params: 0\n",
            "_________________________________________________________________\n"
          ],
          "name": "stdout"
        }
      ]
    },
    {
      "cell_type": "markdown",
      "metadata": {
        "id": "wHs4AGZGT4nw"
      },
      "source": [
        "Let's load the GloVe matrix we prepared into our Embedding layer, the first layer in our model. Then we freeze the embedding layer (we set its trainable attribute to False). when parts of a model are pre-trained (like Embedding layer), and parts are randomly initialized (like classifier), the pre-trained parts should not be updated during training to avoid forgetting what they already know\n"
      ]
    },
    {
      "cell_type": "code",
      "metadata": {
        "id": "0Lig1hUvTUN4"
      },
      "source": [
        "model.layers[0].set_weights([embedding_matrix])\n",
        "model.layers[0].trainable = False"
      ],
      "execution_count": null,
      "outputs": []
    },
    {
      "cell_type": "code",
      "metadata": {
        "id": "9vYpIM5YQg7n",
        "colab": {
          "base_uri": "https://localhost:8080/"
        },
        "outputId": "0ab2d815-cf80-47ed-f161-0cd82f348a6f"
      },
      "source": [
        "#compling the model\n",
        "model.compile(optimizer='rmsprop',\n",
        "              loss='binary_crossentropy',\n",
        "              metrics=['acc'])\n",
        "history = model.fit(x_train, y_train,\n",
        "                    epochs=10,\n",
        "                    batch_size=32,\n",
        "                    validation_data=(x_val, y_val))\n",
        "model.save_weights('pre_trained_glove_model.h5')"
      ],
      "execution_count": null,
      "outputs": [
        {
          "output_type": "stream",
          "text": [
            "Epoch 1/10\n",
            "4/4 [==============================] - 2s 345ms/step - loss: 2.4332 - acc: 0.4871 - val_loss: 0.7088 - val_acc: 0.5823\n",
            "Epoch 2/10\n",
            "4/4 [==============================] - 1s 273ms/step - loss: 0.6441 - acc: 0.7293 - val_loss: 0.8556 - val_acc: 0.5822\n",
            "Epoch 3/10\n",
            "4/4 [==============================] - 1s 263ms/step - loss: 0.4880 - acc: 0.6729 - val_loss: 0.7301 - val_acc: 0.5826\n",
            "Epoch 4/10\n",
            "4/4 [==============================] - 1s 259ms/step - loss: 0.2600 - acc: 0.9314 - val_loss: 0.7771 - val_acc: 0.4671\n",
            "Epoch 5/10\n",
            "4/4 [==============================] - 1s 279ms/step - loss: 0.2588 - acc: 0.9444 - val_loss: 0.6691 - val_acc: 0.5908\n",
            "Epoch 6/10\n",
            "4/4 [==============================] - 1s 287ms/step - loss: 0.1242 - acc: 1.0000 - val_loss: 0.8844 - val_acc: 0.5825\n",
            "Epoch 7/10\n",
            "4/4 [==============================] - 1s 274ms/step - loss: 0.0662 - acc: 1.0000 - val_loss: 0.8231 - val_acc: 0.5839\n",
            "Epoch 8/10\n",
            "4/4 [==============================] - 1s 298ms/step - loss: 0.0390 - acc: 1.0000 - val_loss: 1.0772 - val_acc: 0.5829\n",
            "Epoch 9/10\n",
            "4/4 [==============================] - 1s 284ms/step - loss: 0.0303 - acc: 1.0000 - val_loss: 0.8234 - val_acc: 0.5885\n",
            "Epoch 10/10\n",
            "4/4 [==============================] - 1s 284ms/step - loss: 0.0184 - acc: 1.0000 - val_loss: 0.7053 - val_acc: 0.5828\n"
          ],
          "name": "stdout"
        }
      ]
    },
    {
      "cell_type": "code",
      "metadata": {
        "id": "l4R3KewFQtOb",
        "colab": {
          "base_uri": "https://localhost:8080/",
          "height": 545
        },
        "outputId": "46b84ab8-a646-4b79-9843-e18c7cf3e54f"
      },
      "source": [
        "#Let's plot its performance over time:\n",
        "acc = history.history['acc']\n",
        "val_acc = history.history['val_acc']\n",
        "loss = history.history['loss']\n",
        "val_loss = history.history['val_loss']\n",
        "\n",
        "epochs = range(1, len(acc) + 1)\n",
        "\n",
        "plt.plot(epochs, acc, 'bo', label='Training acc')\n",
        "plt.plot(epochs, val_acc, 'b', label='Validation acc')\n",
        "plt.title('Training and validation accuracy')\n",
        "plt.legend()\n",
        "\n",
        "plt.figure()\n",
        "\n",
        "plt.plot(epochs, loss, 'bo', label='Training loss')\n",
        "plt.plot(epochs, val_loss, 'b', label='Validation loss')\n",
        "plt.title('Training and validation loss')\n",
        "plt.legend()\n",
        "\n",
        "plt.show()"
      ],
      "execution_count": null,
      "outputs": [
        {
          "output_type": "display_data",
          "data": {
            "image/png": "[encoded data removed]",
            "text/plain": [
              "<Figure size 432x288 with 1 Axes>"
            ]
          },
          "metadata": {
            "tags": [],
            "needs_background": "light"
          }
        },
        {
          "output_type": "display_data",
          "data": {
            "image/png": "[encoded data removed]",
            "text/plain": [
              "<Figure size 432x288 with 1 Axes>"
            ]
          },
          "metadata": {
            "tags": [],
            "needs_background": "light"
          }
        }
      ]
    },
    {
      "cell_type": "markdown",
      "metadata": {
        "id": "x8hVVsDGeTOS"
      },
      "source": [
        "# Train the same model without loading the pre-trained word embeddings\n",
        "\n",
        "> Now we Train the same model without loading the pre-trained word embeddings and without freezing the embedding layer. In that case, we would be learning a task-specific embedding of our input tokens, which is generally more powerful than pre-trained word embeddings when lots of data is available. However, in our case, we have only 100 training samples.\n",
        "\n"
      ]
    },
    {
      "cell_type": "code",
      "metadata": {
        "colab": {
          "base_uri": "https://localhost:8080/"
        },
        "id": "KyZmc8AcevPz",
        "outputId": "9ea290da-bf71-4dec-ab9b-b4bf6987f45a"
      },
      "source": [
        "from keras.layers import Embedding, Flatten, Dense\n",
        "\n",
        "model = Sequential()\n",
        "model.add(Embedding(max_words, embedding_dim, input_length=maxlen))\n",
        "model.add(Flatten())\n",
        "model.add(Dense(32, activation='relu'))\n",
        "model.add(Dense(1, activation='sigmoid'))\n",
        "model.summary()\n",
        "\n",
        "model.compile(optimizer='rmsprop',\n",
        "              loss='binary_crossentropy',\n",
        "              metrics=['acc'])\n",
        "history = model.fit(x_train, y_train,\n",
        "                    epochs=10,\n",
        "                    batch_size=32,\n",
        "                    validation_data=(x_val, y_val))"
      ],
      "execution_count": null,
      "outputs": [
        {
          "output_type": "stream",
          "text": [
            "Model: \"sequential_1\"\n",
            "_________________________________________________________________\n",
            "Layer (type)                 Output Shape              Param #   \n",
            "=================================================================\n",
            "embedding_1 (Embedding)      (None, 150, 100)          1000000   \n",
            "_________________________________________________________________\n",
            "flatten_1 (Flatten)          (None, 15000)             0         \n",
            "_________________________________________________________________\n",
            "dense_2 (Dense)              (None, 32)                480032    \n",
            "_________________________________________________________________\n",
            "dense_3 (Dense)              (None, 1)                 33        \n",
            "=================================================================\n",
            "Total params: 1,480,065\n",
            "Trainable params: 1,480,065\n",
            "Non-trainable params: 0\n",
            "_________________________________________________________________\n",
            "Epoch 1/10\n",
            "4/4 [==============================] - 2s 368ms/step - loss: 0.6852 - acc: 0.5973 - val_loss: 0.6965 - val_acc: 0.5824\n",
            "Epoch 2/10\n",
            "4/4 [==============================] - 1s 305ms/step - loss: 0.4143 - acc: 0.9006 - val_loss: 0.6826 - val_acc: 0.5829\n",
            "Epoch 3/10\n",
            "4/4 [==============================] - 1s 281ms/step - loss: 0.2481 - acc: 0.9908 - val_loss: 0.7011 - val_acc: 0.5823\n",
            "Epoch 4/10\n",
            "4/4 [==============================] - 1s 285ms/step - loss: 0.1429 - acc: 0.9845 - val_loss: 0.7698 - val_acc: 0.5825\n",
            "Epoch 5/10\n",
            "4/4 [==============================] - 1s 300ms/step - loss: 0.0765 - acc: 0.9939 - val_loss: 0.7117 - val_acc: 0.5834\n",
            "Epoch 6/10\n",
            "4/4 [==============================] - 1s 343ms/step - loss: 0.0385 - acc: 1.0000 - val_loss: 0.7113 - val_acc: 0.5855\n",
            "Epoch 7/10\n",
            "4/4 [==============================] - 1s 295ms/step - loss: 0.0264 - acc: 1.0000 - val_loss: 0.7625 - val_acc: 0.5829\n",
            "Epoch 8/10\n",
            "4/4 [==============================] - 1s 304ms/step - loss: 0.0173 - acc: 1.0000 - val_loss: 0.7642 - val_acc: 0.5827\n",
            "Epoch 9/10\n",
            "4/4 [==============================] - 1s 298ms/step - loss: 0.0121 - acc: 1.0000 - val_loss: 0.7978 - val_acc: 0.5825\n",
            "Epoch 10/10\n",
            "4/4 [==============================] - 1s 296ms/step - loss: 0.0090 - acc: 1.0000 - val_loss: 0.7213 - val_acc: 0.5732\n"
          ],
          "name": "stdout"
        }
      ]
    },
    {
      "cell_type": "code",
      "metadata": {
        "colab": {
          "base_uri": "https://localhost:8080/",
          "height": 545
        },
        "id": "xudzaHK_eysa",
        "outputId": "ea00b039-a497-40b7-da12-ae0d00ba895e"
      },
      "source": [
        "val_acc = history.history['val_acc']\n",
        "loss = history.history['loss']\n",
        "val_loss = history.history['val_loss']\n",
        "\n",
        "epochs = range(1, len(acc) + 1)\n",
        "\n",
        "plt.plot(epochs, acc, 'bo', label='Training acc')\n",
        "plt.plot(epochs, val_acc, 'b', label='Validation acc')\n",
        "plt.title('Training and validation accuracy')\n",
        "plt.legend()\n",
        "\n",
        "plt.figure()\n",
        "\n",
        "plt.plot(epochs, loss, 'bo', label='Training loss')\n",
        "plt.plot(epochs, val_loss, 'b', label='Validation loss')\n",
        "plt.title('Training and validation loss')\n",
        "plt.legend()\n",
        "\n",
        "plt.show()"
      ],
      "execution_count": null,
      "outputs": [
        {
          "output_type": "display_data",
          "data": {
            "image/png": "[encoded data removed]",
            "text/plain": [
              "<Figure size 432x288 with 1 Axes>"
            ]
          },
          "metadata": {
            "tags": [],
            "needs_background": "light"
          }
        },
        {
          "output_type": "display_data",
          "data": {
            "image/png": "[encoded data removed]",
            "text/plain": [
              "<Figure size 432x288 with 1 Axes>"
            ]
          },
          "metadata": {
            "tags": [],
            "needs_background": "light"
          }
        }
      ]
    },
    {
      "cell_type": "code",
      "metadata": {
        "id": "rja0iq2se28K"
      },
      "source": [
        "test_dir = os.path.join(imdb_dir, 'test')\n",
        "\n",
        "labels = []\n",
        "texts = []\n",
        "\n",
        "for label_type in ['neg', 'pos']:\n",
        "    dir_name = os.path.join(test_dir, label_type)\n",
        "    for fname in sorted(os.listdir(dir_name)):\n",
        "        if fname[-4:] == '.txt':\n",
        "            f = open(os.path.join(dir_name, fname))\n",
        "            texts.append(f.read())\n",
        "            f.close()\n",
        "            if label_type == 'neg':\n",
        "                labels.append(0)\n",
        "            else:\n",
        "                labels.append(1)\n",
        "\n",
        "sequences = tokenizer.texts_to_sequences(texts)\n",
        "x_test = pad_sequences(sequences, maxlen=maxlen)\n",
        "y_test = np.asarray(labels)"
      ],
      "execution_count": null,
      "outputs": []
    },
    {
      "cell_type": "code",
      "metadata": {
        "colab": {
          "base_uri": "https://localhost:8080/"
        },
        "id": "_W322WVHe6Uv",
        "outputId": "e26856d3-fa39-4277-9cac-e4cb82e157a7"
      },
      "source": [
        "#And let's load and evaluate the first model:\n",
        "model.load_weights('pre_trained_glove_model.h5')\n",
        "model.evaluate(x_test, y_test)"
      ],
      "execution_count": null,
      "outputs": [
        {
          "output_type": "stream",
          "text": [
            "440/440 [==============================] - 2s 4ms/step - loss: 0.7251 - acc: 0.5684\n"
          ],
          "name": "stdout"
        },
        {
          "output_type": "execute_result",
          "data": {
            "text/plain": [
              "[0.7251108288764954, 0.5684195756912231]"
            ]
          },
          "metadata": {
            "tags": []
          },
          "execution_count": 20
        }
      ]
    },
    {
      "cell_type": "markdown",
      "metadata": {
        "id": "lidHzl0krnZg"
      },
      "source": [
        "Results Summary:  for smaller training sample (only 100 sample), the pre-trained word embbeding model was overfitting but gave slightly better results than the task-specific embedding."
      ]
    }
  ]
}