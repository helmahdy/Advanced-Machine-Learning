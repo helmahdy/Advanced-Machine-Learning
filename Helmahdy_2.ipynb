{
  "nbformat": 4,
  "nbformat_minor": 0,
  "metadata": {
    "colab": {
      "name": "Helmahdy#2.ipynb",
      "provenance": [],
      "collapsed_sections": [],
      "toc_visible": true,
      "mount_file_id": "1rTZkIeiImXvwDdF0ZcRlTsEByk3fn7cL",
      "authorship_tag": "ABX9TyMD4CDtYEbJRAjvDC8yG909",
      "include_colab_link": true
    },
    "kernelspec": {
      "name": "python3",
      "display_name": "Python 3"
    },
    "language_info": {
      "name": "python"
    }
  },
  "cells": [
    {
      "cell_type": "markdown",
      "metadata": {
        "id": "view-in-github",
        "colab_type": "text"
      },
      "source": [
        "<a href=\"https://colab.research.google.com/github/helmahdy/Advanced-Machine-Learning/blob/main/Helmahdy_2.ipynb\" target=\"_parent\"><img src=\"https://colab.research.google.com/assets/colab-badge.svg\" alt=\"Open In Colab\"/></a>"
      ]
    },
    {
      "cell_type": "markdown",
      "metadata": {
        "id": "qO7n42m-8lg_"
      },
      "source": [
        "# **Convolution Networks**\n",
        "# Cats and Dogs Dataset"
      ]
    },
    {
      "cell_type": "code",
      "metadata": {
        "id": "a6KV_frulSE-"
      },
      "source": [
        "import pandas as pd\n",
        "from random import sample \n",
        "import os\n",
        "import shutil\n",
        "import keras\n",
        "from keras import layers\n",
        "from keras import models\n",
        "from keras import optimizers\n",
        "from keras.preprocessing.image import ImageDataGenerator\n",
        "import matplotlib.pyplot as plt\n",
        "import numpy as np\n",
        "from google.colab import drive"
      ],
      "execution_count": null,
      "outputs": []
    },
    {
      "cell_type": "markdown",
      "metadata": {
        "id": "9zOOY63ZoVzy"
      },
      "source": [
        "# Import Cats and Dogs dataset from Google Drive"
      ]
    },
    {
      "cell_type": "code",
      "metadata": {
        "colab": {
          "base_uri": "https://localhost:8080/"
        },
        "id": "PNSHWSgXmnDo",
        "outputId": "b0095689-b86e-4fef-9202-f11ce1bff12c"
      },
      "source": [
        "drive.mount('/content/gdrive')\n",
        "base_dir = '/content/gdrive/MyDrive/Colab Notebooks/cats_and_dogs_small'\n",
        "!ls '/content/gdrive/MyDrive/Colab Notebooks/cats_and_dogs_small'"
      ],
      "execution_count": null,
      "outputs": [
        {
          "output_type": "stream",
          "text": [
            "Mounted at /content/gdrive\n",
            "test  train  validation\n"
          ],
          "name": "stdout"
        }
      ]
    },
    {
      "cell_type": "markdown",
      "metadata": {
        "id": "dZaHSrdOozy_"
      },
      "source": [
        "# Read Cats and Dogs"
      ]
    },
    {
      "cell_type": "code",
      "metadata": {
        "colab": {
          "base_uri": "https://localhost:8080/"
        },
        "id": "y2FqeRrbofEv",
        "outputId": "399c3730-c51f-47c2-cf85-be2f9cefb760"
      },
      "source": [
        "# Directories for our training,\n",
        "# validation and test splits\n",
        "train_dir = os.path.join(base_dir, 'train')\n",
        "validation_dir = os.path.join(base_dir, 'validation')\n",
        "test_dir = os.path.join(base_dir, 'test')\n",
        "\n",
        "# Directory with our training cat pictures\n",
        "train_cats_dir = os.path.join(train_dir, 'cats')\n",
        "\n",
        "# Directory with our training dog pictures\n",
        "train_dogs_dir = os.path.join(train_dir, 'dogs')\n",
        "\n",
        "# Directory with our validation cat pictures\n",
        "validation_cats_dir = os.path.join(validation_dir, 'cats')\n",
        "\n",
        "# Directory with our validation dog pictures\n",
        "validation_dogs_dir = os.path.join(validation_dir, 'dogs')\n",
        "\n",
        "# Directory with our validation cat pictures\n",
        "test_cats_dir = os.path.join(test_dir, 'cats')\n",
        "\n",
        "# Directory with our validation dog pictures\n",
        "test_dogs_dir = os.path.join(test_dir, 'dogs')\n",
        "\n",
        "\n",
        "print('total training cat images:', len(os.listdir(train_cats_dir)))\n",
        "print('total training dog images:', len(os.listdir(train_dogs_dir)))\n",
        "print('total validation cat images:', len(os.listdir(validation_cats_dir)))\n",
        "print('total validation dog images:', len(os.listdir(validation_dogs_dir)))\n",
        "print('total test cat images:', len(os.listdir(test_cats_dir)))\n",
        "print('total test dog images:', len(os.listdir(test_dogs_dir)))\n"
      ],
      "execution_count": null,
      "outputs": [
        {
          "output_type": "stream",
          "text": [
            "total training cat images: 1000\n",
            "total training dog images: 1000\n",
            "total validation cat images: 500\n",
            "total validation dog images: 500\n",
            "total test cat images: 500\n",
            "total test dog images: 500\n"
          ],
          "name": "stdout"
        }
      ]
    },
    {
      "cell_type": "markdown",
      "metadata": {
        "id": "8wgtwwoippmT"
      },
      "source": [
        "# Building our Network"
      ]
    },
    {
      "cell_type": "markdown",
      "metadata": {
        "id": "2JzgHC3h6_0Y"
      },
      "source": [
        "MaxPooling2D stage serves both to augment the capacity of the network, and to further reduce the size of the feature maps, so that they aren't overly large when we reach the Flatten layer. we are ending the network with a single unit (a Dense layer of size 1) and a sigmoid activation. This unit will encode the probability that the network is looking at one class or the other."
      ]
    },
    {
      "cell_type": "code",
      "metadata": {
        "colab": {
          "base_uri": "https://localhost:8080/"
        },
        "id": "5extTtQepscq",
        "outputId": "7dc06911-3559-460b-ff9c-cda5c7998993"
      },
      "source": [
        "model = models.Sequential()\n",
        "model.add(layers.Conv2D(32, (3, 3), activation='relu',\n",
        "                        input_shape=(150, 150, 3)))\n",
        "model.add(layers.MaxPooling2D((2, 2)))\n",
        "model.add(layers.Conv2D(64, (3, 3), activation='relu'))\n",
        "model.add(layers.MaxPooling2D((2, 2)))\n",
        "model.add(layers.Conv2D(128, (3, 3), activation='relu'))\n",
        "model.add(layers.MaxPooling2D((2, 2)))\n",
        "model.add(layers.Conv2D(128, (3, 3), activation='relu'))\n",
        "model.add(layers.MaxPooling2D((2, 2)))\n",
        "model.add(layers.Flatten())\n",
        "model.add(layers.Dense(512, activation='relu'))\n",
        "model.add(layers.Dense(1, activation='sigmoid'))\n",
        "\n",
        "model.summary()\n"
      ],
      "execution_count": null,
      "outputs": [
        {
          "output_type": "stream",
          "text": [
            "Model: \"sequential\"\n",
            "_________________________________________________________________\n",
            "Layer (type)                 Output Shape              Param #   \n",
            "=================================================================\n",
            "conv2d (Conv2D)              (None, 148, 148, 32)      896       \n",
            "_________________________________________________________________\n",
            "max_pooling2d (MaxPooling2D) (None, 74, 74, 32)        0         \n",
            "_________________________________________________________________\n",
            "conv2d_1 (Conv2D)            (None, 72, 72, 64)        18496     \n",
            "_________________________________________________________________\n",
            "max_pooling2d_1 (MaxPooling2 (None, 36, 36, 64)        0         \n",
            "_________________________________________________________________\n",
            "conv2d_2 (Conv2D)            (None, 34, 34, 128)       73856     \n",
            "_________________________________________________________________\n",
            "max_pooling2d_2 (MaxPooling2 (None, 17, 17, 128)       0         \n",
            "_________________________________________________________________\n",
            "conv2d_3 (Conv2D)            (None, 15, 15, 128)       147584    \n",
            "_________________________________________________________________\n",
            "max_pooling2d_3 (MaxPooling2 (None, 7, 7, 128)         0         \n",
            "_________________________________________________________________\n",
            "flatten (Flatten)            (None, 6272)              0         \n",
            "_________________________________________________________________\n",
            "dense (Dense)                (None, 512)               3211776   \n",
            "_________________________________________________________________\n",
            "dense_1 (Dense)              (None, 1)                 513       \n",
            "=================================================================\n",
            "Total params: 3,453,121\n",
            "Trainable params: 3,453,121\n",
            "Non-trainable params: 0\n",
            "_________________________________________________________________\n"
          ],
          "name": "stdout"
        }
      ]
    },
    {
      "cell_type": "code",
      "metadata": {
        "id": "r0uT9RXs7SxH"
      },
      "source": [
        "# Model Compilation\n",
        "model.compile(loss='binary_crossentropy',\n",
        "              optimizer=optimizers.RMSprop(lr=1e-4),\n",
        "              metrics=['acc'])\n"
      ],
      "execution_count": null,
      "outputs": []
    },
    {
      "cell_type": "markdown",
      "metadata": {
        "id": "tiBpIJxW7lxU"
      },
      "source": [
        "# Data Preprocessing\n",
        "\n",
        "Formatting the data into pre-processed floating point tensors before being fed into our network. Instead of using RGB values that range from 0 to 255, we rescale them into a floating-point number from 0 to 1. We use class mode ‘binary’ to show that we will use two categories. \n"
      ]
    },
    {
      "cell_type": "code",
      "metadata": {
        "colab": {
          "base_uri": "https://localhost:8080/"
        },
        "id": "ru2wWwU377z8",
        "outputId": "8a55cdd6-1739-457e-dc22-28632a50cf65"
      },
      "source": [
        "# All images will be rescaled by 1./255\n",
        "train_datagen = ImageDataGenerator(rescale=1./255)\n",
        "test_datagen = ImageDataGenerator(rescale=1./255)\n",
        "\n",
        "train_generator = train_datagen.flow_from_directory(\n",
        "        # This is the target directory\n",
        "        train_dir,\n",
        "        # All images will be resized to 150x150\n",
        "        target_size=(150, 150),\n",
        "        batch_size=20,\n",
        "        # Since we use binary_crossentropy loss, we need binary labels\n",
        "        class_mode='binary')\n",
        "\n",
        "validation_generator = test_datagen.flow_from_directory(\n",
        "        validation_dir,\n",
        "        target_size=(150, 150),\n",
        "        batch_size=20,\n",
        "        class_mode='binary')"
      ],
      "execution_count": null,
      "outputs": [
        {
          "output_type": "stream",
          "text": [
            "Found 2000 images belonging to 2 classes.\n",
            "Found 1000 images belonging to 2 classes.\n"
          ],
          "name": "stdout"
        }
      ]
    },
    {
      "cell_type": "markdown",
      "metadata": {
        "id": "NPBLXLaI9-pz"
      },
      "source": [
        "Let's take a look at the output of one of these generators: it yields batches of 150x150 RGB images (shape (20, 150, 150, 3)) and binary labels (shape (20,)). 20 is the number of samples in each batch"
      ]
    },
    {
      "cell_type": "code",
      "metadata": {
        "colab": {
          "base_uri": "https://localhost:8080/"
        },
        "id": "BckHvSXt9__E",
        "outputId": "a97671c6-4ff9-40a4-a49c-48ea975c771f"
      },
      "source": [
        "for data_batch, labels_batch in train_generator:\n",
        "    print('data batch shape:', data_batch.shape)\n",
        "    print('labels batch shape:', labels_batch.shape)\n",
        "    break"
      ],
      "execution_count": null,
      "outputs": [
        {
          "output_type": "stream",
          "text": [
            "data batch shape: (20, 150, 150, 3)\n",
            "labels batch shape: (20,)\n"
          ],
          "name": "stdout"
        }
      ]
    },
    {
      "cell_type": "code",
      "metadata": {
        "colab": {
          "base_uri": "https://localhost:8080/"
        },
        "id": "N7qYQXNc-lVO",
        "outputId": "5c5abec9-3de5-4a64-fcf8-b3d90c81707b"
      },
      "source": [
        "#fit the model to the data using the generator\n",
        "history = model.fit_generator(\n",
        "      train_generator,\n",
        "      steps_per_epoch=100,\n",
        "      epochs=30,\n",
        "      validation_data=validation_generator,\n",
        "      validation_steps=50)"
      ],
      "execution_count": null,
      "outputs": [
        {
          "output_type": "stream",
          "text": [
            "/usr/local/lib/python3.7/dist-packages/tensorflow/python/keras/engine/training.py:1844: UserWarning: `Model.fit_generator` is deprecated and will be removed in a future version. Please use `Model.fit`, which supports generators.\n",
            "  warnings.warn('`Model.fit_generator` is deprecated and '\n"
          ],
          "name": "stderr"
        },
        {
          "output_type": "stream",
          "text": [
            "Epoch 1/30\n",
            "100/100 [==============================] - 856s 9s/step - loss: 0.6968 - acc: 0.5006 - val_loss: 0.6777 - val_acc: 0.5810\n",
            "Epoch 2/30\n",
            "100/100 [==============================] - 112s 1s/step - loss: 0.6662 - acc: 0.6043 - val_loss: 0.6385 - val_acc: 0.6280\n",
            "Epoch 3/30\n",
            "100/100 [==============================] - 111s 1s/step - loss: 0.6143 - acc: 0.6552 - val_loss: 0.6082 - val_acc: 0.6800\n",
            "Epoch 4/30\n",
            "100/100 [==============================] - 111s 1s/step - loss: 0.5754 - acc: 0.7092 - val_loss: 0.7051 - val_acc: 0.6080\n",
            "Epoch 5/30\n",
            "100/100 [==============================] - 111s 1s/step - loss: 0.5556 - acc: 0.7155 - val_loss: 0.5700 - val_acc: 0.6910\n",
            "Epoch 6/30\n",
            "100/100 [==============================] - 111s 1s/step - loss: 0.4974 - acc: 0.7477 - val_loss: 0.5763 - val_acc: 0.7010\n",
            "Epoch 7/30\n",
            "100/100 [==============================] - 109s 1s/step - loss: 0.4644 - acc: 0.7773 - val_loss: 0.5633 - val_acc: 0.6890\n",
            "Epoch 8/30\n",
            "100/100 [==============================] - 110s 1s/step - loss: 0.4338 - acc: 0.8005 - val_loss: 0.6042 - val_acc: 0.7030\n",
            "Epoch 9/30\n",
            "100/100 [==============================] - 110s 1s/step - loss: 0.4025 - acc: 0.8099 - val_loss: 0.5294 - val_acc: 0.7440\n",
            "Epoch 10/30\n",
            "100/100 [==============================] - 107s 1s/step - loss: 0.3940 - acc: 0.8210 - val_loss: 0.5553 - val_acc: 0.7310\n",
            "Epoch 11/30\n",
            "100/100 [==============================] - 110s 1s/step - loss: 0.3507 - acc: 0.8519 - val_loss: 0.5600 - val_acc: 0.7260\n",
            "Epoch 12/30\n",
            "100/100 [==============================] - 109s 1s/step - loss: 0.3550 - acc: 0.8485 - val_loss: 0.5698 - val_acc: 0.7290\n",
            "Epoch 13/30\n",
            "100/100 [==============================] - 108s 1s/step - loss: 0.3193 - acc: 0.8732 - val_loss: 0.5566 - val_acc: 0.7460\n",
            "Epoch 14/30\n",
            "100/100 [==============================] - 111s 1s/step - loss: 0.2836 - acc: 0.8776 - val_loss: 0.5648 - val_acc: 0.7430\n",
            "Epoch 15/30\n",
            "100/100 [==============================] - 110s 1s/step - loss: 0.2808 - acc: 0.8730 - val_loss: 0.5630 - val_acc: 0.7410\n",
            "Epoch 16/30\n",
            "100/100 [==============================] - 111s 1s/step - loss: 0.2398 - acc: 0.8993 - val_loss: 0.6358 - val_acc: 0.7260\n",
            "Epoch 17/30\n",
            "100/100 [==============================] - 111s 1s/step - loss: 0.2335 - acc: 0.9069 - val_loss: 0.6378 - val_acc: 0.7420\n",
            "Epoch 18/30\n",
            "100/100 [==============================] - 113s 1s/step - loss: 0.1929 - acc: 0.9329 - val_loss: 0.6235 - val_acc: 0.7450\n",
            "Epoch 19/30\n",
            "100/100 [==============================] - 110s 1s/step - loss: 0.1773 - acc: 0.9411 - val_loss: 0.6685 - val_acc: 0.7230\n",
            "Epoch 20/30\n",
            "100/100 [==============================] - 110s 1s/step - loss: 0.1648 - acc: 0.9432 - val_loss: 0.7073 - val_acc: 0.7300\n",
            "Epoch 21/30\n",
            "100/100 [==============================] - 110s 1s/step - loss: 0.1460 - acc: 0.9532 - val_loss: 0.7272 - val_acc: 0.7360\n",
            "Epoch 22/30\n",
            "100/100 [==============================] - 110s 1s/step - loss: 0.1173 - acc: 0.9641 - val_loss: 0.8256 - val_acc: 0.7340\n",
            "Epoch 23/30\n",
            "100/100 [==============================] - 111s 1s/step - loss: 0.1098 - acc: 0.9701 - val_loss: 0.7951 - val_acc: 0.7330\n",
            "Epoch 24/30\n",
            "100/100 [==============================] - 112s 1s/step - loss: 0.0886 - acc: 0.9746 - val_loss: 0.8323 - val_acc: 0.7370\n",
            "Epoch 25/30\n",
            "100/100 [==============================] - 115s 1s/step - loss: 0.0792 - acc: 0.9790 - val_loss: 0.7702 - val_acc: 0.7430\n",
            "Epoch 26/30\n",
            "100/100 [==============================] - 111s 1s/step - loss: 0.0689 - acc: 0.9800 - val_loss: 0.8689 - val_acc: 0.7320\n",
            "Epoch 27/30\n",
            "100/100 [==============================] - 112s 1s/step - loss: 0.0598 - acc: 0.9849 - val_loss: 0.9015 - val_acc: 0.7220\n",
            "Epoch 28/30\n",
            "100/100 [==============================] - 110s 1s/step - loss: 0.0452 - acc: 0.9890 - val_loss: 0.9495 - val_acc: 0.7450\n",
            "Epoch 29/30\n",
            "100/100 [==============================] - 111s 1s/step - loss: 0.0424 - acc: 0.9925 - val_loss: 1.1804 - val_acc: 0.7130\n",
            "Epoch 30/30\n",
            "100/100 [==============================] - 110s 1s/step - loss: 0.0416 - acc: 0.9830 - val_loss: 0.9336 - val_acc: 0.7530\n"
          ],
          "name": "stdout"
        }
      ]
    },
    {
      "cell_type": "code",
      "metadata": {
        "id": "_xn2268VUjos"
      },
      "source": [
        "model.save('cats_and_dogs_small_1.h5')"
      ],
      "execution_count": null,
      "outputs": []
    },
    {
      "cell_type": "markdown",
      "metadata": {
        "id": "niB-O6le-DSY"
      },
      "source": [
        "The model accuracy is a %98.30  with validation accuracy of 75.3%. The model is giving high accuracy on training set and low in validation set (overfitting).\n",
        "\n",
        "Let's use Matplotlib to plot accuracy and validation loss for the model. As we see the model is clearly overfitting."
      ]
    },
    {
      "cell_type": "code",
      "metadata": {
        "colab": {
          "base_uri": "https://localhost:8080/",
          "height": 545
        },
        "id": "9wyuL-b7-FuP",
        "outputId": "25f47d9c-d1e9-483d-85a5-4243e48c0b3d"
      },
      "source": [
        "acc = history.history['acc']\n",
        "val_acc = history.history['val_acc']\n",
        "loss = history.history['loss']\n",
        "val_loss = history.history['val_loss']\n",
        "\n",
        "epochs = range(len(acc))\n",
        "\n",
        "plt.plot(epochs, acc, 'bo', label='Training acc')\n",
        "plt.plot(epochs, val_acc, 'b', label='Validation acc')\n",
        "plt.title('Training and validation accuracy')\n",
        "plt.legend()\n",
        "\n",
        "plt.figure()\n",
        "\n",
        "plt.plot(epochs, loss, 'bo', label='Training loss')\n",
        "plt.plot(epochs, val_loss, 'b', label='Validation loss')\n",
        "plt.title('Training and validation loss')\n",
        "plt.legend()\n",
        "\n",
        "plt.show()\n"
      ],
      "execution_count": null,
      "outputs": [
        {
          "output_type": "display_data",
          "data": {
            "image/png": "[encoded data removed]",
            "text/plain": [
              "<Figure size 432x288 with 1 Axes>"
            ]
          },
          "metadata": {
            "tags": [],
            "needs_background": "light"
          }
        },
        {
          "output_type": "display_data",
          "data": {
            "image/png": "[encoded data removed]",
            "text/plain": [
              "<Figure size 432x288 with 1 Axes>"
            ]
          },
          "metadata": {
            "tags": [],
            "needs_background": "light"
          }
        }
      ]
    },
    {
      "cell_type": "markdown",
      "metadata": {
        "id": "Ww_pzBHhQlY8"
      },
      "source": [
        "#Using Drop out and Data Augmentation as techniques to prevent overfitting "
      ]
    },
    {
      "cell_type": "code",
      "metadata": {
        "colab": {
          "base_uri": "https://localhost:8080/"
        },
        "id": "EZ5NAMywSJlM",
        "outputId": "12c1d5d4-1d58-4206-f2f4-cebda47b9e2b"
      },
      "source": [
        "model = models.Sequential()\n",
        "model.add(layers.Conv2D(32, (3, 3), activation='relu',\n",
        "                        input_shape=(150, 150, 3)))\n",
        "model.add(layers.MaxPooling2D((2, 2)))\n",
        "model.add(layers.Conv2D(64, (3, 3), activation='relu'))\n",
        "model.add(layers.MaxPooling2D((2, 2)))\n",
        "model.add(layers.Conv2D(128, (3, 3), activation='relu'))\n",
        "model.add(layers.MaxPooling2D((2, 2)))\n",
        "model.add(layers.Conv2D(128, (3, 3), activation='relu'))\n",
        "model.add(layers.MaxPooling2D((2, 2)))\n",
        "model.add(layers.Flatten())\n",
        "model.add(layers.Dropout(0.5))  #random drop out 50%\n",
        "model.add(layers.Dense(512, activation='relu'))\n",
        "model.add(layers.Dense(1, activation='sigmoid'))\n",
        "\n",
        "# Model Compilation\n",
        "model.compile(loss='binary_crossentropy',\n",
        "              optimizer=optimizers.RMSprop(lr=1e-4),\n",
        "              metrics=['acc'])\n",
        "\n",
        "#Let's train the network using both data augmentation and dropout:\n",
        "train_datagen = ImageDataGenerator(\n",
        "    rescale=1./255,\n",
        "    rotation_range=40,\n",
        "    width_shift_range=0.2,\n",
        "    height_shift_range=0.2,\n",
        "    shear_range=0.2,\n",
        "    zoom_range=0.2,\n",
        "    horizontal_flip=True,)\n",
        "\n",
        "#validation data should not be augmented\n",
        "test_datagen = ImageDataGenerator(rescale=1./255)\n",
        "\n",
        "train_generator = train_datagen.flow_from_directory(\n",
        "        # This is the target directory\n",
        "        train_dir,\n",
        "        # All images will be resized to 150x150\n",
        "        target_size=(150, 150),\n",
        "        batch_size=20,\n",
        "        # Since we use binary_crossentropy loss, we need binary labels\n",
        "        class_mode='binary')\n",
        "\n",
        "validation_generator = test_datagen.flow_from_directory(\n",
        "        validation_dir,\n",
        "        target_size=(150, 150),\n",
        "        batch_size=20,\n",
        "        class_mode='binary')\n"
      ],
      "execution_count": null,
      "outputs": [
        {
          "output_type": "stream",
          "text": [
            "Found 2000 images belonging to 2 classes.\n",
            "Found 1000 images belonging to 2 classes.\n"
          ],
          "name": "stdout"
        }
      ]
    },
    {
      "cell_type": "code",
      "metadata": {
        "colab": {
          "base_uri": "https://localhost:8080/"
        },
        "id": "Dr7GMTqfY3Im",
        "outputId": "4f0338c2-9066-414d-f9f0-13c3817ff161"
      },
      "source": [
        "#fit the model to the data using the generator\n",
        "history = model.fit_generator(\n",
        "      train_generator,\n",
        "      steps_per_epoch=100,\n",
        "      epochs=100,\n",
        "      validation_data=validation_generator,\n",
        "      validation_steps=50)"
      ],
      "execution_count": null,
      "outputs": [
        {
          "output_type": "stream",
          "text": [
            "/usr/local/lib/python3.7/dist-packages/tensorflow/python/keras/engine/training.py:1844: UserWarning: `Model.fit_generator` is deprecated and will be removed in a future version. Please use `Model.fit`, which supports generators.\n",
            "  warnings.warn('`Model.fit_generator` is deprecated and '\n"
          ],
          "name": "stderr"
        },
        {
          "output_type": "stream",
          "text": [
            "Epoch 1/100\n",
            "100/100 [==============================] - 116s 1s/step - loss: 0.6963 - acc: 0.5037 - val_loss: 0.6897 - val_acc: 0.5200\n",
            "Epoch 2/100\n",
            "100/100 [==============================] - 120s 1s/step - loss: 0.6875 - acc: 0.5476 - val_loss: 0.6643 - val_acc: 0.6140\n",
            "Epoch 3/100\n",
            "100/100 [==============================] - 119s 1s/step - loss: 0.6772 - acc: 0.5749 - val_loss: 0.6496 - val_acc: 0.6240\n",
            "Epoch 4/100\n",
            "100/100 [==============================] - 118s 1s/step - loss: 0.6646 - acc: 0.5953 - val_loss: 0.6420 - val_acc: 0.6190\n",
            "Epoch 5/100\n",
            "100/100 [==============================] - 117s 1s/step - loss: 0.6444 - acc: 0.6199 - val_loss: 0.6426 - val_acc: 0.6010\n",
            "Epoch 6/100\n",
            "100/100 [==============================] - 118s 1s/step - loss: 0.6357 - acc: 0.6318 - val_loss: 0.6921 - val_acc: 0.6070\n",
            "Epoch 7/100\n",
            "100/100 [==============================] - 122s 1s/step - loss: 0.6130 - acc: 0.6651 - val_loss: 0.5986 - val_acc: 0.6620\n",
            "Epoch 8/100\n",
            "100/100 [==============================] - 123s 1s/step - loss: 0.5967 - acc: 0.6887 - val_loss: 0.6210 - val_acc: 0.6480\n",
            "Epoch 9/100\n",
            "100/100 [==============================] - 121s 1s/step - loss: 0.5855 - acc: 0.6920 - val_loss: 0.5850 - val_acc: 0.6680\n",
            "Epoch 10/100\n",
            "100/100 [==============================] - 120s 1s/step - loss: 0.5943 - acc: 0.6757 - val_loss: 0.5834 - val_acc: 0.6830\n",
            "Epoch 11/100\n",
            "100/100 [==============================] - 120s 1s/step - loss: 0.5947 - acc: 0.6877 - val_loss: 0.5649 - val_acc: 0.6960\n",
            "Epoch 12/100\n",
            "100/100 [==============================] - 125s 1s/step - loss: 0.5706 - acc: 0.7075 - val_loss: 0.5791 - val_acc: 0.6870\n",
            "Epoch 13/100\n",
            "100/100 [==============================] - 142s 1s/step - loss: 0.5876 - acc: 0.6834 - val_loss: 0.7388 - val_acc: 0.6240\n",
            "Epoch 14/100\n",
            "100/100 [==============================] - 142s 1s/step - loss: 0.5712 - acc: 0.6980 - val_loss: 0.5469 - val_acc: 0.7190\n",
            "Epoch 15/100\n",
            "100/100 [==============================] - 134s 1s/step - loss: 0.5634 - acc: 0.7080 - val_loss: 0.5352 - val_acc: 0.7240\n",
            "Epoch 16/100\n",
            "100/100 [==============================] - 125s 1s/step - loss: 0.5694 - acc: 0.7095 - val_loss: 0.6156 - val_acc: 0.6740\n",
            "Epoch 17/100\n",
            "100/100 [==============================] - 121s 1s/step - loss: 0.5557 - acc: 0.7101 - val_loss: 0.5668 - val_acc: 0.7020\n",
            "Epoch 18/100\n",
            "100/100 [==============================] - 125s 1s/step - loss: 0.5537 - acc: 0.7127 - val_loss: 0.5176 - val_acc: 0.7370\n",
            "Epoch 19/100\n",
            "100/100 [==============================] - 121s 1s/step - loss: 0.5530 - acc: 0.7005 - val_loss: 0.5341 - val_acc: 0.7260\n",
            "Epoch 20/100\n",
            "100/100 [==============================] - 118s 1s/step - loss: 0.5421 - acc: 0.7201 - val_loss: 0.5548 - val_acc: 0.7060\n",
            "Epoch 21/100\n",
            "100/100 [==============================] - 119s 1s/step - loss: 0.5278 - acc: 0.7315 - val_loss: 0.5126 - val_acc: 0.7410\n",
            "Epoch 22/100\n",
            "100/100 [==============================] - 114s 1s/step - loss: 0.5395 - acc: 0.7266 - val_loss: 0.5174 - val_acc: 0.7310\n",
            "Epoch 23/100\n",
            "100/100 [==============================] - 114s 1s/step - loss: 0.5315 - acc: 0.7337 - val_loss: 0.5516 - val_acc: 0.7120\n",
            "Epoch 24/100\n",
            "100/100 [==============================] - 118s 1s/step - loss: 0.5259 - acc: 0.7426 - val_loss: 0.4943 - val_acc: 0.7660\n",
            "Epoch 25/100\n",
            "100/100 [==============================] - 115s 1s/step - loss: 0.5311 - acc: 0.7269 - val_loss: 0.5495 - val_acc: 0.7170\n",
            "Epoch 26/100\n",
            "100/100 [==============================] - 115s 1s/step - loss: 0.5341 - acc: 0.7350 - val_loss: 0.5430 - val_acc: 0.7120\n",
            "Epoch 27/100\n",
            "100/100 [==============================] - 116s 1s/step - loss: 0.5209 - acc: 0.7402 - val_loss: 0.5331 - val_acc: 0.7290\n",
            "Epoch 28/100\n",
            "100/100 [==============================] - 119s 1s/step - loss: 0.5285 - acc: 0.7339 - val_loss: 0.5801 - val_acc: 0.7100\n",
            "Epoch 29/100\n",
            "100/100 [==============================] - 120s 1s/step - loss: 0.5021 - acc: 0.7469 - val_loss: 0.6733 - val_acc: 0.6700\n",
            "Epoch 30/100\n",
            "100/100 [==============================] - 117s 1s/step - loss: 0.5076 - acc: 0.7534 - val_loss: 0.4907 - val_acc: 0.7650\n",
            "Epoch 31/100\n",
            "100/100 [==============================] - 119s 1s/step - loss: 0.5043 - acc: 0.7524 - val_loss: 0.5394 - val_acc: 0.7290\n",
            "Epoch 32/100\n",
            "100/100 [==============================] - 118s 1s/step - loss: 0.5121 - acc: 0.7470 - val_loss: 0.5437 - val_acc: 0.7220\n",
            "Epoch 33/100\n",
            "100/100 [==============================] - 120s 1s/step - loss: 0.5042 - acc: 0.7596 - val_loss: 0.4743 - val_acc: 0.7740\n",
            "Epoch 34/100\n",
            "100/100 [==============================] - 118s 1s/step - loss: 0.5157 - acc: 0.7583 - val_loss: 0.4996 - val_acc: 0.7540\n",
            "Epoch 35/100\n",
            "100/100 [==============================] - 116s 1s/step - loss: 0.4878 - acc: 0.7597 - val_loss: 0.4996 - val_acc: 0.7430\n",
            "Epoch 36/100\n",
            "100/100 [==============================] - 117s 1s/step - loss: 0.4991 - acc: 0.7605 - val_loss: 0.5119 - val_acc: 0.7460\n",
            "Epoch 37/100\n",
            "100/100 [==============================] - 117s 1s/step - loss: 0.4785 - acc: 0.7803 - val_loss: 0.4817 - val_acc: 0.7660\n",
            "Epoch 38/100\n",
            "100/100 [==============================] - 118s 1s/step - loss: 0.4637 - acc: 0.7716 - val_loss: 0.5084 - val_acc: 0.7590\n",
            "Epoch 39/100\n",
            "100/100 [==============================] - 119s 1s/step - loss: 0.4831 - acc: 0.7816 - val_loss: 0.5511 - val_acc: 0.7320\n",
            "Epoch 40/100\n",
            "100/100 [==============================] - 120s 1s/step - loss: 0.5062 - acc: 0.7551 - val_loss: 0.4691 - val_acc: 0.7770\n",
            "Epoch 41/100\n",
            "100/100 [==============================] - 119s 1s/step - loss: 0.4681 - acc: 0.7727 - val_loss: 0.4993 - val_acc: 0.7550\n",
            "Epoch 42/100\n",
            "100/100 [==============================] - 120s 1s/step - loss: 0.4875 - acc: 0.7603 - val_loss: 0.4975 - val_acc: 0.7620\n",
            "Epoch 43/100\n",
            "100/100 [==============================] - 118s 1s/step - loss: 0.4706 - acc: 0.7780 - val_loss: 0.4814 - val_acc: 0.7710\n",
            "Epoch 44/100\n",
            "100/100 [==============================] - 117s 1s/step - loss: 0.4754 - acc: 0.7753 - val_loss: 0.5529 - val_acc: 0.7230\n",
            "Epoch 45/100\n",
            "100/100 [==============================] - 116s 1s/step - loss: 0.4661 - acc: 0.7760 - val_loss: 0.5218 - val_acc: 0.7490\n",
            "Epoch 46/100\n",
            "100/100 [==============================] - 117s 1s/step - loss: 0.4912 - acc: 0.7508 - val_loss: 0.5051 - val_acc: 0.7580\n",
            "Epoch 47/100\n",
            "100/100 [==============================] - 116s 1s/step - loss: 0.4566 - acc: 0.7844 - val_loss: 0.4932 - val_acc: 0.7670\n",
            "Epoch 48/100\n",
            "100/100 [==============================] - 120s 1s/step - loss: 0.4515 - acc: 0.7852 - val_loss: 0.5167 - val_acc: 0.7510\n",
            "Epoch 49/100\n",
            "100/100 [==============================] - 117s 1s/step - loss: 0.4689 - acc: 0.7699 - val_loss: 0.5596 - val_acc: 0.7250\n",
            "Epoch 50/100\n",
            "100/100 [==============================] - 117s 1s/step - loss: 0.4496 - acc: 0.7867 - val_loss: 0.5480 - val_acc: 0.7310\n",
            "Epoch 51/100\n",
            "100/100 [==============================] - 119s 1s/step - loss: 0.4652 - acc: 0.7822 - val_loss: 0.5084 - val_acc: 0.7610\n",
            "Epoch 52/100\n",
            "100/100 [==============================] - 117s 1s/step - loss: 0.4421 - acc: 0.7958 - val_loss: 0.4964 - val_acc: 0.7500\n",
            "Epoch 53/100\n",
            "100/100 [==============================] - 115s 1s/step - loss: 0.4552 - acc: 0.7778 - val_loss: 0.4795 - val_acc: 0.7750\n",
            "Epoch 54/100\n",
            "100/100 [==============================] - 116s 1s/step - loss: 0.4115 - acc: 0.8064 - val_loss: 0.4374 - val_acc: 0.7920\n",
            "Epoch 55/100\n",
            "100/100 [==============================] - 115s 1s/step - loss: 0.4314 - acc: 0.7980 - val_loss: 0.5085 - val_acc: 0.7610\n",
            "Epoch 56/100\n",
            "100/100 [==============================] - 116s 1s/step - loss: 0.4399 - acc: 0.7906 - val_loss: 0.4648 - val_acc: 0.7770\n",
            "Epoch 57/100\n",
            "100/100 [==============================] - 117s 1s/step - loss: 0.4306 - acc: 0.7848 - val_loss: 0.4804 - val_acc: 0.7760\n",
            "Epoch 58/100\n",
            "100/100 [==============================] - 117s 1s/step - loss: 0.4312 - acc: 0.8053 - val_loss: 0.4446 - val_acc: 0.7820\n",
            "Epoch 59/100\n",
            "100/100 [==============================] - 118s 1s/step - loss: 0.4335 - acc: 0.7986 - val_loss: 0.5248 - val_acc: 0.7400\n",
            "Epoch 60/100\n",
            "100/100 [==============================] - 117s 1s/step - loss: 0.4420 - acc: 0.8030 - val_loss: 0.4687 - val_acc: 0.7920\n",
            "Epoch 61/100\n",
            "100/100 [==============================] - 117s 1s/step - loss: 0.4476 - acc: 0.8048 - val_loss: 0.4908 - val_acc: 0.7600\n",
            "Epoch 62/100\n",
            "100/100 [==============================] - 118s 1s/step - loss: 0.4507 - acc: 0.7942 - val_loss: 0.4569 - val_acc: 0.7830\n",
            "Epoch 63/100\n",
            "100/100 [==============================] - 115s 1s/step - loss: 0.4565 - acc: 0.7829 - val_loss: 0.4639 - val_acc: 0.7960\n",
            "Epoch 64/100\n",
            "100/100 [==============================] - 116s 1s/step - loss: 0.4138 - acc: 0.8161 - val_loss: 0.4677 - val_acc: 0.7730\n",
            "Epoch 65/100\n",
            "100/100 [==============================] - 118s 1s/step - loss: 0.4219 - acc: 0.7944 - val_loss: 0.4290 - val_acc: 0.7960\n",
            "Epoch 66/100\n",
            "100/100 [==============================] - 118s 1s/step - loss: 0.4657 - acc: 0.7668 - val_loss: 0.4804 - val_acc: 0.7820\n",
            "Epoch 67/100\n",
            "100/100 [==============================] - 122s 1s/step - loss: 0.4033 - acc: 0.8311 - val_loss: 0.4685 - val_acc: 0.7840\n",
            "Epoch 68/100\n",
            "100/100 [==============================] - 121s 1s/step - loss: 0.4170 - acc: 0.8003 - val_loss: 0.4794 - val_acc: 0.7750\n",
            "Epoch 69/100\n",
            "100/100 [==============================] - 118s 1s/step - loss: 0.4482 - acc: 0.7955 - val_loss: 0.5149 - val_acc: 0.7660\n",
            "Epoch 70/100\n",
            "100/100 [==============================] - 117s 1s/step - loss: 0.4119 - acc: 0.8091 - val_loss: 0.6197 - val_acc: 0.7220\n",
            "Epoch 71/100\n",
            "100/100 [==============================] - 123s 1s/step - loss: 0.4343 - acc: 0.8006 - val_loss: 0.4706 - val_acc: 0.7800\n",
            "Epoch 72/100\n",
            "100/100 [==============================] - 133s 1s/step - loss: 0.4535 - acc: 0.7946 - val_loss: 0.4895 - val_acc: 0.7860\n",
            "Epoch 73/100\n",
            "100/100 [==============================] - 125s 1s/step - loss: 0.4170 - acc: 0.8042 - val_loss: 0.4712 - val_acc: 0.7840\n",
            "Epoch 74/100\n",
            "100/100 [==============================] - 126s 1s/step - loss: 0.4177 - acc: 0.8059 - val_loss: 0.4716 - val_acc: 0.7980\n",
            "Epoch 75/100\n",
            "100/100 [==============================] - 124s 1s/step - loss: 0.3785 - acc: 0.8335 - val_loss: 0.4498 - val_acc: 0.7820\n",
            "Epoch 76/100\n",
            "100/100 [==============================] - 124s 1s/step - loss: 0.4031 - acc: 0.8191 - val_loss: 0.4779 - val_acc: 0.7920\n",
            "Epoch 77/100\n",
            "100/100 [==============================] - 124s 1s/step - loss: 0.4242 - acc: 0.8070 - val_loss: 0.4667 - val_acc: 0.8070\n",
            "Epoch 78/100\n",
            "100/100 [==============================] - 122s 1s/step - loss: 0.3849 - acc: 0.8301 - val_loss: 0.4643 - val_acc: 0.7820\n",
            "Epoch 79/100\n",
            "100/100 [==============================] - 121s 1s/step - loss: 0.3879 - acc: 0.8189 - val_loss: 0.4503 - val_acc: 0.7980\n",
            "Epoch 80/100\n",
            "100/100 [==============================] - 121s 1s/step - loss: 0.4317 - acc: 0.7960 - val_loss: 0.5357 - val_acc: 0.7640\n",
            "Epoch 81/100\n",
            "100/100 [==============================] - 117s 1s/step - loss: 0.3767 - acc: 0.8327 - val_loss: 0.4653 - val_acc: 0.7950\n",
            "Epoch 82/100\n",
            "100/100 [==============================] - 115s 1s/step - loss: 0.3971 - acc: 0.8043 - val_loss: 0.5530 - val_acc: 0.7630\n",
            "Epoch 83/100\n",
            "100/100 [==============================] - 114s 1s/step - loss: 0.3958 - acc: 0.8166 - val_loss: 0.4496 - val_acc: 0.8070\n",
            "Epoch 84/100\n",
            "100/100 [==============================] - 114s 1s/step - loss: 0.3927 - acc: 0.8139 - val_loss: 0.5132 - val_acc: 0.7870\n",
            "Epoch 85/100\n",
            "100/100 [==============================] - 114s 1s/step - loss: 0.4080 - acc: 0.8123 - val_loss: 0.4655 - val_acc: 0.7890\n",
            "Epoch 86/100\n",
            "100/100 [==============================] - 116s 1s/step - loss: 0.4150 - acc: 0.8102 - val_loss: 0.4551 - val_acc: 0.8030\n",
            "Epoch 87/100\n",
            "100/100 [==============================] - 115s 1s/step - loss: 0.3809 - acc: 0.8267 - val_loss: 0.4489 - val_acc: 0.8100\n",
            "Epoch 88/100\n",
            "100/100 [==============================] - 116s 1s/step - loss: 0.3890 - acc: 0.8296 - val_loss: 0.4577 - val_acc: 0.7860\n",
            "Epoch 89/100\n",
            "100/100 [==============================] - 118s 1s/step - loss: 0.3913 - acc: 0.8208 - val_loss: 0.4342 - val_acc: 0.8050\n",
            "Epoch 90/100\n",
            "100/100 [==============================] - 118s 1s/step - loss: 0.3790 - acc: 0.8361 - val_loss: 0.4431 - val_acc: 0.8000\n",
            "Epoch 91/100\n",
            "100/100 [==============================] - 118s 1s/step - loss: 0.3633 - acc: 0.8563 - val_loss: 0.4159 - val_acc: 0.8160\n",
            "Epoch 92/100\n",
            "100/100 [==============================] - 117s 1s/step - loss: 0.3865 - acc: 0.8213 - val_loss: 0.4552 - val_acc: 0.7940\n",
            "Epoch 93/100\n",
            "100/100 [==============================] - 125s 1s/step - loss: 0.3832 - acc: 0.8226 - val_loss: 0.4776 - val_acc: 0.7980\n",
            "Epoch 94/100\n",
            "100/100 [==============================] - 116s 1s/step - loss: 0.3770 - acc: 0.8257 - val_loss: 0.5679 - val_acc: 0.7760\n",
            "Epoch 95/100\n",
            "100/100 [==============================] - 116s 1s/step - loss: 0.3856 - acc: 0.8231 - val_loss: 0.4494 - val_acc: 0.8010\n",
            "Epoch 96/100\n",
            "100/100 [==============================] - 118s 1s/step - loss: 0.3754 - acc: 0.8353 - val_loss: 0.4402 - val_acc: 0.8050\n",
            "Epoch 97/100\n",
            "100/100 [==============================] - 130s 1s/step - loss: 0.3990 - acc: 0.8245 - val_loss: 0.5279 - val_acc: 0.7890\n",
            "Epoch 98/100\n",
            "100/100 [==============================] - 128s 1s/step - loss: 0.3774 - acc: 0.8397 - val_loss: 0.4294 - val_acc: 0.8100\n",
            "Epoch 99/100\n",
            "100/100 [==============================] - 125s 1s/step - loss: 0.3704 - acc: 0.8278 - val_loss: 0.4961 - val_acc: 0.7980\n",
            "Epoch 100/100\n",
            "100/100 [==============================] - 116s 1s/step - loss: 0.3700 - acc: 0.8382 - val_loss: 0.4768 - val_acc: 0.7940\n"
          ],
          "name": "stdout"
        }
      ]
    },
    {
      "cell_type": "code",
      "metadata": {
        "id": "Imss9oZ7fH0U"
      },
      "source": [
        "model.save('cats_and_dogs_small_2.h5')"
      ],
      "execution_count": null,
      "outputs": []
    },
    {
      "cell_type": "markdown",
      "metadata": {
        "id": "Uu0q-ngu8G6R"
      },
      "source": [
        "We can see how training and validation accuracy are very close ( 84% and 79.4% respectively). \n",
        "\n",
        "Let's use Matplotlib to plot accuracy and loss for both training and validation after adding more training data\n"
      ]
    },
    {
      "cell_type": "code",
      "metadata": {
        "id": "rQtB65o7UXiR",
        "colab": {
          "base_uri": "https://localhost:8080/",
          "height": 545
        },
        "outputId": "762154fa-12b7-4255-f674-b2d25cd22730"
      },
      "source": [
        "acc = history.history['acc']\n",
        "val_acc = history.history['val_acc']\n",
        "loss = history.history['loss']\n",
        "val_loss = history.history['val_loss']\n",
        "\n",
        "epochs = range(len(acc))\n",
        "\n",
        "plt.plot(epochs, acc, 'bo', label='Training acc')\n",
        "plt.plot(epochs, val_acc, 'b', label='Validation acc')\n",
        "plt.title('Training and validation accuracy')\n",
        "plt.legend()\n",
        "\n",
        "plt.figure()\n",
        "\n",
        "plt.plot(epochs, loss, 'bo', label='Training loss')\n",
        "plt.plot(epochs, val_loss, 'b', label='Validation loss')\n",
        "plt.title('Training and validation loss')\n",
        "plt.legend()\n",
        "\n",
        "plt.show()\n"
      ],
      "execution_count": null,
      "outputs": [
        {
          "output_type": "display_data",
          "data": {
            "image/png": "[encoded data removed]",
            "text/plain": [
              "<Figure size 432x288 with 1 Axes>"
            ]
          },
          "metadata": {
            "tags": [],
            "needs_background": "light"
          }
        },
        {
          "output_type": "display_data",
          "data": {
            "image/png": "[encoded data removed]",
            "text/plain": [
              "<Figure size 432x288 with 1 Axes>"
            ]
          },
          "metadata": {
            "tags": [],
            "needs_background": "light"
          }
        }
      ]
    },
    {
      "cell_type": "markdown",
      "metadata": {
        "id": "XXds-miUgarf"
      },
      "source": [
        "#Inceasing training sample\n",
        "\n",
        "Here we increase training sample by adding 800 more pictures of cats and dogs, No changes in the size of Validation and test data. (486 cat images, 314 dog images)"
      ]
    },
    {
      "cell_type": "code",
      "metadata": {
        "id": "jM1rlRQ4UFpU",
        "colab": {
          "base_uri": "https://localhost:8080/"
        },
        "outputId": "5bf886ef-ced6-48fd-ff0c-6b66840e4736"
      },
      "source": [
        "#Adding more data points (800 images to training data)\n",
        "base_dir = '/content/gdrive/MyDrive/Colab Notebooks/cats_and_dogs_small'\n",
        "AddTrain = '/content/gdrive/MyDrive/Colab Notebooks/biggertrain'\n",
        "!ls '/content/gdrive/MyDrive/Colab Notebooks/biggertrain'"
      ],
      "execution_count": null,
      "outputs": [
        {
          "output_type": "stream",
          "text": [
            "train\n"
          ],
          "name": "stdout"
        }
      ]
    },
    {
      "cell_type": "code",
      "metadata": {
        "id": "Oz1T4s-sLLMp",
        "colab": {
          "base_uri": "https://localhost:8080/"
        },
        "outputId": "1788f795-0f1a-447a-9c39-771725547ab7"
      },
      "source": [
        "# Directories for our new training. validation and test splits stay the same\n",
        "train_dir = os.path.join(AddTrain, 'train')\n",
        "validation_dir = os.path.join(base_dir, 'validation')\n",
        "test_dir = os.path.join(base_dir, 'test')\n",
        "\n",
        "print('total training cat images:', len(os.listdir(train_cats_dir)))\n",
        "print('total training dog images:', len(os.listdir(train_dogs_dir)))\n",
        "print('total validation cat images:', len(os.listdir(validation_cats_dir)))\n",
        "print('total validation dog images:', len(os.listdir(validation_dogs_dir)))\n",
        "print('total test cat images:', len(os.listdir(test_cats_dir)))\n",
        "print('total test dog images:', len(os.listdir(test_dogs_dir)))\n"
      ],
      "execution_count": null,
      "outputs": [
        {
          "output_type": "stream",
          "text": [
            "total training cat images: 1486\n",
            "total training dog images: 1314\n",
            "total validation cat images: 500\n",
            "total validation dog images: 500\n",
            "total test cat images: 500\n",
            "total test dog images: 500\n"
          ],
          "name": "stdout"
        }
      ]
    },
    {
      "cell_type": "code",
      "metadata": {
        "id": "oVISGM646vxm",
        "colab": {
          "base_uri": "https://localhost:8080/"
        },
        "outputId": "85c8bb0b-3119-46a4-9d9a-2b9c8ac8b623"
      },
      "source": [
        "#Building the network with more training data\n",
        "model = models.Sequential()\n",
        "model.add(layers.Conv2D(32, (3, 3), activation='relu',\n",
        "                        input_shape=(150, 150, 3)))\n",
        "model.add(layers.MaxPooling2D((2, 2)))\n",
        "model.add(layers.Conv2D(64, (3, 3), activation='relu'))\n",
        "model.add(layers.MaxPooling2D((2, 2)))\n",
        "model.add(layers.Conv2D(128, (3, 3), activation='relu'))\n",
        "model.add(layers.MaxPooling2D((2, 2)))\n",
        "model.add(layers.Conv2D(128, (3, 3), activation='relu'))\n",
        "model.add(layers.MaxPooling2D((2, 2)))\n",
        "model.add(layers.Flatten())\n",
        "model.add(layers.Dense(512, activation='relu'))\n",
        "model.add(layers.Dense(1, activation='sigmoid'))\n",
        "\n",
        "# Model Compilation\n",
        "model.compile(loss='binary_crossentropy',\n",
        "              optimizer=optimizers.RMSprop(lr=1e-4),\n",
        "              metrics=['acc'])\n",
        "\n",
        "# All images will be rescaled by 1./255\n",
        "train_datagen = ImageDataGenerator(rescale=1./255)\n",
        "test_datagen = ImageDataGenerator(rescale=1./255)\n",
        "\n",
        "train_generator = train_datagen.flow_from_directory(\n",
        "        # This is the target directory\n",
        "        train_dir,\n",
        "        # All images will be resized to 150x150\n",
        "        target_size=(150, 150),\n",
        "        batch_size=20,\n",
        "        # Since we use binary_crossentropy loss, we need binary labels\n",
        "        class_mode='binary')\n",
        "\n",
        "validation_generator = test_datagen.flow_from_directory(\n",
        "        validation_dir,\n",
        "        target_size=(150, 150),\n",
        "        batch_size=20,\n",
        "        class_mode='binary')"
      ],
      "execution_count": null,
      "outputs": [
        {
          "output_type": "stream",
          "text": [
            "Found 2800 images belonging to 2 classes.\n",
            "Found 1000 images belonging to 2 classes.\n"
          ],
          "name": "stdout"
        }
      ]
    },
    {
      "cell_type": "code",
      "metadata": {
        "id": "yvO_nH_I7JBt",
        "colab": {
          "base_uri": "https://localhost:8080/"
        },
        "outputId": "64615c09-31c8-4f44-96f6-16395dd2e1fb"
      },
      "source": [
        "#fit the model to the data using the generator\n",
        "history = model.fit_generator(\n",
        "      train_generator,\n",
        "      steps_per_epoch=100,\n",
        "      epochs=30,\n",
        "      validation_data=validation_generator,\n",
        "      validation_steps=50)"
      ],
      "execution_count": null,
      "outputs": [
        {
          "output_type": "stream",
          "text": [
            "/usr/local/lib/python3.7/dist-packages/tensorflow/python/keras/engine/training.py:1844: UserWarning: `Model.fit_generator` is deprecated and will be removed in a future version. Please use `Model.fit`, which supports generators.\n",
            "  warnings.warn('`Model.fit_generator` is deprecated and '\n"
          ],
          "name": "stderr"
        },
        {
          "output_type": "stream",
          "text": [
            "Epoch 1/30\n",
            "100/100 [==============================] - 996s 10s/step - loss: 0.7022 - acc: 0.5104 - val_loss: 0.6787 - val_acc: 0.6240\n",
            "Epoch 2/30\n",
            "100/100 [==============================] - 213s 2s/step - loss: 0.6700 - acc: 0.6061 - val_loss: 0.6580 - val_acc: 0.5990\n",
            "Epoch 3/30\n",
            "100/100 [==============================] - 100s 999ms/step - loss: 0.6360 - acc: 0.6519 - val_loss: 0.6283 - val_acc: 0.6440\n",
            "Epoch 4/30\n",
            "100/100 [==============================] - 86s 862ms/step - loss: 0.5948 - acc: 0.6900 - val_loss: 0.6097 - val_acc: 0.6710\n",
            "Epoch 5/30\n",
            "100/100 [==============================] - 84s 842ms/step - loss: 0.5657 - acc: 0.7130 - val_loss: 0.5921 - val_acc: 0.6820\n",
            "Epoch 6/30\n",
            "100/100 [==============================] - 84s 842ms/step - loss: 0.5445 - acc: 0.7205 - val_loss: 0.5605 - val_acc: 0.7070\n",
            "Epoch 7/30\n",
            "100/100 [==============================] - 84s 839ms/step - loss: 0.5253 - acc: 0.7417 - val_loss: 0.5843 - val_acc: 0.6870\n",
            "Epoch 8/30\n",
            "100/100 [==============================] - 84s 839ms/step - loss: 0.4777 - acc: 0.7610 - val_loss: 0.5489 - val_acc: 0.7260\n",
            "Epoch 9/30\n",
            "100/100 [==============================] - 84s 838ms/step - loss: 0.4629 - acc: 0.7807 - val_loss: 0.5266 - val_acc: 0.7380\n",
            "Epoch 10/30\n",
            "100/100 [==============================] - 84s 839ms/step - loss: 0.4397 - acc: 0.7939 - val_loss: 0.8430 - val_acc: 0.6060\n",
            "Epoch 11/30\n",
            "100/100 [==============================] - 84s 840ms/step - loss: 0.4452 - acc: 0.7976 - val_loss: 0.5240 - val_acc: 0.7410\n",
            "Epoch 12/30\n",
            "100/100 [==============================] - 84s 840ms/step - loss: 0.4046 - acc: 0.8149 - val_loss: 0.5459 - val_acc: 0.7350\n",
            "Epoch 13/30\n",
            "100/100 [==============================] - 84s 838ms/step - loss: 0.3873 - acc: 0.8211 - val_loss: 0.5230 - val_acc: 0.7470\n",
            "Epoch 14/30\n",
            "100/100 [==============================] - 84s 842ms/step - loss: 0.3617 - acc: 0.8380 - val_loss: 0.5827 - val_acc: 0.7270\n",
            "Epoch 15/30\n",
            "100/100 [==============================] - 84s 841ms/step - loss: 0.3865 - acc: 0.8194 - val_loss: 0.6434 - val_acc: 0.7080\n",
            "Epoch 16/30\n",
            "100/100 [==============================] - 84s 842ms/step - loss: 0.3342 - acc: 0.8565 - val_loss: 0.5842 - val_acc: 0.7240\n",
            "Epoch 17/30\n",
            "100/100 [==============================] - 84s 843ms/step - loss: 0.3134 - acc: 0.8678 - val_loss: 0.5262 - val_acc: 0.7540\n",
            "Epoch 18/30\n",
            "100/100 [==============================] - 84s 843ms/step - loss: 0.2905 - acc: 0.8853 - val_loss: 0.5912 - val_acc: 0.7350\n",
            "Epoch 19/30\n",
            "100/100 [==============================] - 84s 846ms/step - loss: 0.2797 - acc: 0.8823 - val_loss: 0.5523 - val_acc: 0.7420\n",
            "Epoch 20/30\n",
            "100/100 [==============================] - 84s 842ms/step - loss: 0.2657 - acc: 0.8910 - val_loss: 0.5938 - val_acc: 0.7350\n",
            "Epoch 21/30\n",
            "100/100 [==============================] - 84s 842ms/step - loss: 0.2577 - acc: 0.9075 - val_loss: 0.5610 - val_acc: 0.7350\n",
            "Epoch 22/30\n",
            "100/100 [==============================] - 85s 850ms/step - loss: 0.2315 - acc: 0.9079 - val_loss: 0.5699 - val_acc: 0.7440\n",
            "Epoch 23/30\n",
            "100/100 [==============================] - 85s 848ms/step - loss: 0.1959 - acc: 0.9206 - val_loss: 0.5913 - val_acc: 0.7510\n",
            "Epoch 24/30\n",
            "100/100 [==============================] - 85s 846ms/step - loss: 0.2047 - acc: 0.9195 - val_loss: 0.6094 - val_acc: 0.7400\n",
            "Epoch 25/30\n",
            "100/100 [==============================] - 84s 845ms/step - loss: 0.1741 - acc: 0.9381 - val_loss: 0.6013 - val_acc: 0.7600\n",
            "Epoch 26/30\n",
            "100/100 [==============================] - 84s 844ms/step - loss: 0.1508 - acc: 0.9451 - val_loss: 0.7552 - val_acc: 0.7190\n",
            "Epoch 27/30\n",
            "100/100 [==============================] - 84s 843ms/step - loss: 0.1446 - acc: 0.9482 - val_loss: 1.0510 - val_acc: 0.6890\n",
            "Epoch 28/30\n",
            "100/100 [==============================] - 85s 846ms/step - loss: 0.1272 - acc: 0.9518 - val_loss: 0.7190 - val_acc: 0.7380\n",
            "Epoch 29/30\n",
            "100/100 [==============================] - 84s 843ms/step - loss: 0.1314 - acc: 0.9533 - val_loss: 0.8194 - val_acc: 0.7250\n",
            "Epoch 30/30\n",
            "100/100 [==============================] - 84s 842ms/step - loss: 0.0990 - acc: 0.9651 - val_loss: 0.6914 - val_acc: 0.7430\n"
          ],
          "name": "stdout"
        }
      ]
    },
    {
      "cell_type": "code",
      "metadata": {
        "id": "xkD19I6tS-lC"
      },
      "source": [
        "model.save('cats_and_dogs_small_3.h5')"
      ],
      "execution_count": null,
      "outputs": []
    },
    {
      "cell_type": "markdown",
      "metadata": {
        "id": "rYK04_TqGdc2"
      },
      "source": [
        "\n",
        "Let's plot our results after increaing training data:"
      ]
    },
    {
      "cell_type": "code",
      "metadata": {
        "id": "J1LF6etCGU51",
        "colab": {
          "base_uri": "https://localhost:8080/",
          "height": 545
        },
        "outputId": "f5680f4c-071b-4294-875c-231ee5aa6921"
      },
      "source": [
        "acc = history.history['acc']\n",
        "val_acc = history.history['val_acc']\n",
        "loss = history.history['loss']\n",
        "val_loss = history.history['val_loss']\n",
        "\n",
        "epochs = range(len(acc))\n",
        "\n",
        "plt.plot(epochs, acc, 'bo', label='Training acc')\n",
        "plt.plot(epochs, val_acc, 'b', label='Validation acc')\n",
        "plt.title('Training and validation accuracy')\n",
        "plt.legend()\n",
        "\n",
        "plt.figure()\n",
        "\n",
        "plt.plot(epochs, loss, 'bo', label='Training loss')\n",
        "plt.plot(epochs, val_loss, 'b', label='Validation loss')\n",
        "plt.title('Training and validation loss')\n",
        "plt.legend()\n",
        "\n",
        "plt.show()"
      ],
      "execution_count": null,
      "outputs": [
        {
          "output_type": "display_data",
          "data": {
            "image/png": "[encoded data removed]",
            "text/plain": [
              "<Figure size 432x288 with 1 Axes>"
            ]
          },
          "metadata": {
            "tags": [],
            "needs_background": "light"
          }
        },
        {
          "output_type": "display_data",
          "data": {
            "image/png": "[encoded data removed]",
            "text/plain": [
              "<Figure size 432x288 with 1 Axes>"
            ]
          },
          "metadata": {
            "tags": [],
            "needs_background": "light"
          }
        }
      ]
    },
    {
      "cell_type": "markdown",
      "metadata": {
        "id": "Lz0H0q4lHVSy"
      },
      "source": [
        "#Adding more Training data"
      ]
    },
    {
      "cell_type": "markdown",
      "metadata": {
        "id": "VQOl5tkoycsi"
      },
      "source": [
        "Here we increase training sample of dogs and cats to total of 4000. No changes in validation and test data."
      ]
    },
    {
      "cell_type": "code",
      "metadata": {
        "id": "bV9wF8yfHYjv",
        "colab": {
          "base_uri": "https://localhost:8080/"
        },
        "outputId": "48fe95f7-19dd-4cee-c82c-1ace960a3c9f"
      },
      "source": [
        "#Adding more data points (1300 images to training data)\n",
        "base_dir = '/content/gdrive/MyDrive/Colab Notebooks/cats_and_dogs_small'\n",
        "AddTrain2= '/content/gdrive/MyDrive/Colab Notebooks/finaltrain'\n",
        "!ls '/content/gdrive/MyDrive/Colab Notebooks/finaltrain'"
      ],
      "execution_count": null,
      "outputs": [
        {
          "output_type": "stream",
          "text": [
            "train\n"
          ],
          "name": "stdout"
        }
      ]
    },
    {
      "cell_type": "code",
      "metadata": {
        "colab": {
          "base_uri": "https://localhost:8080/"
        },
        "id": "Q3FMVEutc_KC",
        "outputId": "cac2e5a0-1dcf-46ee-9111-00e89dcb3bb8"
      },
      "source": [
        "# Directories for our new training. validation and test splits stay the same\n",
        "train_dir = os.path.join(AddTrain2, 'train')\n",
        "validation_dir = os.path.join(base_dir, 'validation')\n",
        "test_dir = os.path.join(base_dir, 'test')\n",
        "\n",
        "print('total training cat images:', len(os.listdir(train_cats_dir)))\n",
        "print('total training dog images:', len(os.listdir(train_dogs_dir)))\n",
        "print('total validation cat images:', len(os.listdir(validation_cats_dir)))\n",
        "print('total validation dog images:', len(os.listdir(validation_dogs_dir)))\n",
        "print('total test cat images:', len(os.listdir(test_cats_dir)))\n",
        "print('total test dog images:', len(os.listdir(test_dogs_dir)))\n"
      ],
      "execution_count": null,
      "outputs": [
        {
          "output_type": "stream",
          "text": [
            "total training cat images: 2000\n",
            "total training dog images: 2000\n",
            "total validation cat images: 500\n",
            "total validation dog images: 500\n",
            "total test cat images: 500\n",
            "total test dog images: 500\n"
          ],
          "name": "stdout"
        }
      ]
    },
    {
      "cell_type": "code",
      "metadata": {
        "colab": {
          "base_uri": "https://localhost:8080/"
        },
        "id": "8o-xiafKdD5j",
        "outputId": "ea8886e8-3692-4edf-b34f-16541eaaccdd"
      },
      "source": [
        "#Building the network with more training data\n",
        "model = models.Sequential()\n",
        "model.add(layers.Conv2D(32, (3, 3), activation='relu',\n",
        "                        input_shape=(150, 150, 3)))\n",
        "model.add(layers.MaxPooling2D((2, 2)))\n",
        "model.add(layers.Conv2D(64, (3, 3), activation='relu'))\n",
        "model.add(layers.MaxPooling2D((2, 2)))\n",
        "model.add(layers.Conv2D(128, (3, 3), activation='relu'))\n",
        "model.add(layers.MaxPooling2D((2, 2)))\n",
        "model.add(layers.Conv2D(128, (3, 3), activation='relu'))\n",
        "model.add(layers.MaxPooling2D((2, 2)))\n",
        "model.add(layers.Flatten())\n",
        "model.add(layers.Dense(512, activation='relu'))\n",
        "model.add(layers.Dense(1, activation='sigmoid'))\n",
        "\n",
        "# Model Compilation\n",
        "model.compile(loss='binary_crossentropy',\n",
        "              optimizer=optimizers.RMSprop(lr=1e-4),\n",
        "              metrics=['acc'])\n",
        "\n",
        "# All images will be rescaled by 1./255\n",
        "train_datagen = ImageDataGenerator(rescale=1./255)\n",
        "test_datagen = ImageDataGenerator(rescale=1./255)\n",
        "\n",
        "train_generator = train_datagen.flow_from_directory(\n",
        "        # This is the target directory\n",
        "        train_dir,\n",
        "        # All images will be resized to 150x150\n",
        "        target_size=(150, 150),\n",
        "        batch_size=20,\n",
        "        # Since we use binary_crossentropy loss, we need binary labels\n",
        "        class_mode='binary')\n",
        "\n",
        "validation_generator = test_datagen.flow_from_directory(\n",
        "        validation_dir,\n",
        "        target_size=(150, 150),\n",
        "        batch_size=20,\n",
        "        class_mode='binary')"
      ],
      "execution_count": null,
      "outputs": [
        {
          "output_type": "stream",
          "text": [
            "Found 4000 images belonging to 2 classes.\n",
            "Found 1000 images belonging to 2 classes.\n"
          ],
          "name": "stdout"
        }
      ]
    },
    {
      "cell_type": "code",
      "metadata": {
        "colab": {
          "base_uri": "https://localhost:8080/"
        },
        "id": "wSFLX_ZzdJ4S",
        "outputId": "2e987643-e6f6-49fb-810c-efdcbe6df0a5"
      },
      "source": [
        "#fit the model to the data using the generator\n",
        "history = model.fit_generator(\n",
        "      train_generator,\n",
        "      steps_per_epoch=100,\n",
        "      epochs=30,     \n",
        "      validation_data=validation_generator,\n",
        "      validation_steps=50)"
      ],
      "execution_count": null,
      "outputs": [
        {
          "output_type": "stream",
          "text": [
            "/usr/local/lib/python3.7/dist-packages/tensorflow/python/keras/engine/training.py:1844: UserWarning: `Model.fit_generator` is deprecated and will be removed in a future version. Please use `Model.fit`, which supports generators.\n",
            "  warnings.warn('`Model.fit_generator` is deprecated and '\n"
          ],
          "name": "stderr"
        },
        {
          "output_type": "stream",
          "text": [
            "Epoch 1/30\n",
            "100/100 [==============================] - 1074s 11s/step - loss: 0.6857 - acc: 0.5395 - val_loss: 0.6603 - val_acc: 0.6420\n",
            "Epoch 2/30\n",
            "100/100 [==============================] - 269s 3s/step - loss: 0.6627 - acc: 0.6110 - val_loss: 0.6310 - val_acc: 0.6580\n",
            "Epoch 3/30\n",
            "100/100 [==============================] - 152s 2s/step - loss: 0.6257 - acc: 0.6565 - val_loss: 0.5970 - val_acc: 0.6920\n",
            "Epoch 4/30\n",
            "100/100 [==============================] - 105s 1s/step - loss: 0.6031 - acc: 0.6765 - val_loss: 0.5641 - val_acc: 0.7220\n",
            "Epoch 5/30\n",
            "100/100 [==============================] - 90s 897ms/step - loss: 0.5747 - acc: 0.7015 - val_loss: 0.5371 - val_acc: 0.7400\n",
            "Epoch 6/30\n",
            "100/100 [==============================] - 88s 875ms/step - loss: 0.5624 - acc: 0.7180 - val_loss: 0.5249 - val_acc: 0.7380\n",
            "Epoch 7/30\n",
            "100/100 [==============================] - 86s 856ms/step - loss: 0.5342 - acc: 0.7295 - val_loss: 0.5092 - val_acc: 0.7490\n",
            "Epoch 8/30\n",
            "100/100 [==============================] - 85s 848ms/step - loss: 0.5227 - acc: 0.7490 - val_loss: 0.5140 - val_acc: 0.7330\n",
            "Epoch 9/30\n",
            "100/100 [==============================] - 85s 845ms/step - loss: 0.5074 - acc: 0.7560 - val_loss: 0.5136 - val_acc: 0.7350\n",
            "Epoch 10/30\n",
            "100/100 [==============================] - 85s 846ms/step - loss: 0.4918 - acc: 0.7535 - val_loss: 0.4474 - val_acc: 0.8050\n",
            "Epoch 11/30\n",
            "100/100 [==============================] - 85s 846ms/step - loss: 0.4542 - acc: 0.7955 - val_loss: 0.4308 - val_acc: 0.7880\n",
            "Epoch 12/30\n",
            "100/100 [==============================] - 84s 844ms/step - loss: 0.4363 - acc: 0.7995 - val_loss: 0.4237 - val_acc: 0.8010\n",
            "Epoch 13/30\n",
            "100/100 [==============================] - 84s 843ms/step - loss: 0.4407 - acc: 0.7935 - val_loss: 0.4494 - val_acc: 0.7870\n",
            "Epoch 14/30\n",
            "100/100 [==============================] - 84s 845ms/step - loss: 0.4224 - acc: 0.8095 - val_loss: 0.3815 - val_acc: 0.8220\n",
            "Epoch 15/30\n",
            "100/100 [==============================] - 84s 845ms/step - loss: 0.4170 - acc: 0.8090 - val_loss: 0.4369 - val_acc: 0.7980\n",
            "Epoch 16/30\n",
            "100/100 [==============================] - 84s 844ms/step - loss: 0.4003 - acc: 0.8155 - val_loss: 0.4021 - val_acc: 0.8220\n",
            "Epoch 17/30\n",
            "100/100 [==============================] - 85s 847ms/step - loss: 0.4021 - acc: 0.8175 - val_loss: 0.3534 - val_acc: 0.8400\n",
            "Epoch 18/30\n",
            "100/100 [==============================] - 85s 845ms/step - loss: 0.3712 - acc: 0.8385 - val_loss: 0.3491 - val_acc: 0.8480\n",
            "Epoch 19/30\n",
            "100/100 [==============================] - 84s 844ms/step - loss: 0.3609 - acc: 0.8415 - val_loss: 0.3279 - val_acc: 0.8570\n",
            "Epoch 20/30\n",
            "100/100 [==============================] - 84s 845ms/step - loss: 0.3499 - acc: 0.8525 - val_loss: 0.3223 - val_acc: 0.8710\n",
            "Epoch 21/30\n",
            "100/100 [==============================] - 85s 845ms/step - loss: 0.3380 - acc: 0.8560 - val_loss: 0.3308 - val_acc: 0.8540\n",
            "Epoch 22/30\n",
            "100/100 [==============================] - 85s 846ms/step - loss: 0.3285 - acc: 0.8515 - val_loss: 0.3234 - val_acc: 0.8470\n",
            "Epoch 23/30\n",
            "100/100 [==============================] - 85s 846ms/step - loss: 0.3029 - acc: 0.8735 - val_loss: 0.3431 - val_acc: 0.8510\n",
            "Epoch 24/30\n",
            "100/100 [==============================] - 84s 844ms/step - loss: 0.2843 - acc: 0.8805 - val_loss: 0.2658 - val_acc: 0.8970\n",
            "Epoch 25/30\n",
            "100/100 [==============================] - 84s 843ms/step - loss: 0.2851 - acc: 0.8835 - val_loss: 0.2607 - val_acc: 0.8960\n",
            "Epoch 26/30\n",
            "100/100 [==============================] - 85s 845ms/step - loss: 0.2758 - acc: 0.8920 - val_loss: 0.2491 - val_acc: 0.9070\n",
            "Epoch 27/30\n",
            "100/100 [==============================] - 84s 845ms/step - loss: 0.2702 - acc: 0.8895 - val_loss: 0.2663 - val_acc: 0.8870\n",
            "Epoch 28/30\n",
            "100/100 [==============================] - 85s 845ms/step - loss: 0.2516 - acc: 0.9015 - val_loss: 0.2495 - val_acc: 0.8980\n",
            "Epoch 29/30\n",
            "100/100 [==============================] - 84s 845ms/step - loss: 0.2345 - acc: 0.9105 - val_loss: 0.2682 - val_acc: 0.8980\n",
            "Epoch 30/30\n",
            "100/100 [==============================] - 85s 847ms/step - loss: 0.2179 - acc: 0.9120 - val_loss: 0.2545 - val_acc: 0.8910\n"
          ],
          "name": "stdout"
        }
      ]
    },
    {
      "cell_type": "code",
      "metadata": {
        "id": "ROuM3NDXdORC"
      },
      "source": [
        "model.save('cats_and_dogs_small_4.h5')"
      ],
      "execution_count": null,
      "outputs": []
    },
    {
      "cell_type": "markdown",
      "metadata": {
        "id": "4MBefVKhE0fr"
      },
      "source": [
        "Increasing training sample to 4000 images has resulted in very good results compared to earlier models we built so far. Training accuracy is 91% and validation accuracy is pretty close with 89% . Let's plot the results: "
      ]
    },
    {
      "cell_type": "code",
      "metadata": {
        "id": "StxO_miXdQs9",
        "colab": {
          "base_uri": "https://localhost:8080/",
          "height": 545
        },
        "outputId": "eee7f9e3-56e9-496f-8398-da39ee9a77c2"
      },
      "source": [
        "acc = history.history['acc']\n",
        "val_acc = history.history['val_acc']\n",
        "loss = history.history['loss']\n",
        "val_loss = history.history['val_loss']\n",
        "\n",
        "epochs = range(len(acc))\n",
        "\n",
        "plt.plot(epochs, acc, 'bo', label='Training acc')\n",
        "plt.plot(epochs, val_acc, 'b', label='Validation acc')\n",
        "plt.title('Training and validation accuracy')\n",
        "plt.legend()\n",
        "\n",
        "plt.figure()\n",
        "\n",
        "plt.plot(epochs, loss, 'bo', label='Training loss')\n",
        "plt.plot(epochs, val_loss, 'b', label='Validation loss')\n",
        "plt.title('Training and validation loss')\n",
        "plt.legend()\n",
        "\n",
        "plt.show()"
      ],
      "execution_count": null,
      "outputs": [
        {
          "output_type": "display_data",
          "data": {
            "image/png": "[encoded data removed]",
            "text/plain": [
              "<Figure size 432x288 with 1 Axes>"
            ]
          },
          "metadata": {
            "tags": [],
            "needs_background": "light"
          }
        },
        {
          "output_type": "display_data",
          "data": {
            "image/png": "[encoded data removed]",
            "text/plain": [
              "<Figure size 432x288 with 1 Axes>"
            ]
          },
          "metadata": {
            "tags": [],
            "needs_background": "light"
          }
        }
      ]
    },
    {
      "cell_type": "markdown",
      "metadata": {
        "id": "sGMd93omGp0f"
      },
      "source": [
        "#Using a pretrained network:"
      ]
    },
    {
      "cell_type": "markdown",
      "metadata": {
        "id": "rsnfGUmOI5Pl"
      },
      "source": [
        "We will use the VGG16 architecture by  recording the output of conv_base on our data and using these outputs as inputs to a new model. First, we will use it with the original dataset we used at the beginning (2000 training data, 1000 validation, 1000 test)"
      ]
    },
    {
      "cell_type": "code",
      "metadata": {
        "id": "bFnpZ8ehGT6o",
        "colab": {
          "base_uri": "https://localhost:8080/"
        },
        "outputId": "1d739213-0411-4713-e9e4-a83fa4fa76c7"
      },
      "source": [
        "from keras.applications import VGG16\n",
        "\n",
        "conv_base = VGG16(weights='imagenet',\n",
        "                  include_top=False,\n",
        "                  input_shape=(150, 150, 3))\n",
        "\n",
        "conv_base.summary()"
      ],
      "execution_count": null,
      "outputs": [
        {
          "output_type": "stream",
          "text": [
            "Downloading data from https://storage.googleapis.com/tensorflow/keras-applications/vgg16/vgg16_weights_tf_dim_ordering_tf_kernels_notop.h5\n",
            "58892288/58889256 [==============================] - 1s 0us/step\n",
            "Model: \"vgg16\"\n",
            "_________________________________________________________________\n",
            "Layer (type)                 Output Shape              Param #   \n",
            "=================================================================\n",
            "input_1 (InputLayer)         [(None, 150, 150, 3)]     0         \n",
            "_________________________________________________________________\n",
            "block1_conv1 (Conv2D)        (None, 150, 150, 64)      1792      \n",
            "_________________________________________________________________\n",
            "block1_conv2 (Conv2D)        (None, 150, 150, 64)      36928     \n",
            "_________________________________________________________________\n",
            "block1_pool (MaxPooling2D)   (None, 75, 75, 64)        0         \n",
            "_________________________________________________________________\n",
            "block2_conv1 (Conv2D)        (None, 75, 75, 128)       73856     \n",
            "_________________________________________________________________\n",
            "block2_conv2 (Conv2D)        (None, 75, 75, 128)       147584    \n",
            "_________________________________________________________________\n",
            "block2_pool (MaxPooling2D)   (None, 37, 37, 128)       0         \n",
            "_________________________________________________________________\n",
            "block3_conv1 (Conv2D)        (None, 37, 37, 256)       295168    \n",
            "_________________________________________________________________\n",
            "block3_conv2 (Conv2D)        (None, 37, 37, 256)       590080    \n",
            "_________________________________________________________________\n",
            "block3_conv3 (Conv2D)        (None, 37, 37, 256)       590080    \n",
            "_________________________________________________________________\n",
            "block3_pool (MaxPooling2D)   (None, 18, 18, 256)       0         \n",
            "_________________________________________________________________\n",
            "block4_conv1 (Conv2D)        (None, 18, 18, 512)       1180160   \n",
            "_________________________________________________________________\n",
            "block4_conv2 (Conv2D)        (None, 18, 18, 512)       2359808   \n",
            "_________________________________________________________________\n",
            "block4_conv3 (Conv2D)        (None, 18, 18, 512)       2359808   \n",
            "_________________________________________________________________\n",
            "block4_pool (MaxPooling2D)   (None, 9, 9, 512)         0         \n",
            "_________________________________________________________________\n",
            "block5_conv1 (Conv2D)        (None, 9, 9, 512)         2359808   \n",
            "_________________________________________________________________\n",
            "block5_conv2 (Conv2D)        (None, 9, 9, 512)         2359808   \n",
            "_________________________________________________________________\n",
            "block5_conv3 (Conv2D)        (None, 9, 9, 512)         2359808   \n",
            "_________________________________________________________________\n",
            "block5_pool (MaxPooling2D)   (None, 4, 4, 512)         0         \n",
            "=================================================================\n",
            "Total params: 14,714,688\n",
            "Trainable params: 14,714,688\n",
            "Non-trainable params: 0\n",
            "_________________________________________________________________\n"
          ],
          "name": "stdout"
        }
      ]
    },
    {
      "cell_type": "code",
      "metadata": {
        "colab": {
          "base_uri": "https://localhost:8080/"
        },
        "id": "fHSAbjUOKtTL",
        "outputId": "f535da4e-d769-4444-b947-afa62857e091"
      },
      "source": [
        "#We will start by running instances of the previously-introduced ImageDataGenerator to extract images and their labels as Numpy arrays.\n",
        "#Then We will extract features from these images simply by calling the predict method of the conv_base model.\n",
        "base_dir = '/content/gdrive/MyDrive/Colab Notebooks/cats_and_dogs_small'\n",
        "\n",
        "train_dir = os.path.join(base_dir, 'train')\n",
        "validation_dir = os.path.join(base_dir, 'validation')\n",
        "test_dir = os.path.join(base_dir, 'test')\n",
        "\n",
        "datagen = ImageDataGenerator(rescale=1./255)\n",
        "batch_size = 20\n",
        "\n",
        "def extract_features(directory, sample_count):\n",
        "    features = np.zeros(shape=(sample_count, 4, 4, 512))   #The final feature map has shape (4, 4, 512), on top of which we will stick a densely-connected classifier\n",
        "    labels = np.zeros(shape=(sample_count))\n",
        "    generator = datagen.flow_from_directory(\n",
        "        directory,\n",
        "        target_size=(150, 150),\n",
        "        batch_size=batch_size,\n",
        "        class_mode='binary')\n",
        "    i = 0\n",
        "    for inputs_batch, labels_batch in generator:\n",
        "        features_batch = conv_base.predict(inputs_batch)\n",
        "        features[i * batch_size : (i + 1) * batch_size] = features_batch\n",
        "        labels[i * batch_size : (i + 1) * batch_size] = labels_batch\n",
        "        i += 1\n",
        "        if i * batch_size >= sample_count:\n",
        "            # Note that since generators yield data indefinitely in a loop,\n",
        "            # we must `break` after every image has been seen once.\n",
        "            break\n",
        "    return features, labels\n",
        "\n",
        "train_features, train_labels = extract_features(train_dir, 2000)\n",
        "validation_features, validation_labels = extract_features(validation_dir, 1000)\n",
        "test_features, test_labels = extract_features(test_dir, 1000)"
      ],
      "execution_count": null,
      "outputs": [
        {
          "output_type": "stream",
          "text": [
            "Found 2000 images belonging to 2 classes.\n",
            "Found 1000 images belonging to 2 classes.\n",
            "Found 1000 images belonging to 2 classes.\n"
          ],
          "name": "stdout"
        }
      ]
    },
    {
      "cell_type": "markdown",
      "metadata": {
        "id": "reRWKGbwMGMF"
      },
      "source": [
        "The extracted features are currently of shape (samples, 4, 4, 512). We will feed them to a densely-connected classifier, so first we must flatten them to (samples, 8192):"
      ]
    },
    {
      "cell_type": "code",
      "metadata": {
        "id": "GFeDN0fzL9zs"
      },
      "source": [
        "train_features = np.reshape(train_features, (2000, 4 * 4 * 512))\n",
        "validation_features = np.reshape(validation_features, (1000, 4 * 4 * 512))\n",
        "test_features = np.reshape(test_features, (1000, 4 * 4 * 512))\n"
      ],
      "execution_count": null,
      "outputs": []
    },
    {
      "cell_type": "code",
      "metadata": {
        "colab": {
          "base_uri": "https://localhost:8080/"
        },
        "id": "MGVKktazMcEV",
        "outputId": "5a4ed343-2e16-4a3b-f3b1-711895246331"
      },
      "source": [
        "#Building the network \n",
        "model = models.Sequential()\n",
        "model.add(layers.Dense(256, activation='relu', input_dim=4 * 4 * 512))\n",
        "model.add(layers.Dropout(0.5))  #random drop put of 50%\n",
        "model.add(layers.Dense(1, activation='sigmoid'))\n",
        "\n",
        "model.compile(optimizer=optimizers.RMSprop(lr=2e-5),\n",
        "              loss='binary_crossentropy',\n",
        "              metrics=['acc'])\n",
        "\n",
        "#let's fit the model\n",
        "history = model.fit(train_features, train_labels,\n",
        "                    epochs=30,\n",
        "                    batch_size=20,\n",
        "                    validation_data=(validation_features, validation_labels))"
      ],
      "execution_count": null,
      "outputs": [
        {
          "output_type": "stream",
          "text": [
            "Epoch 1/30\n",
            "100/100 [==============================] - 2s 20ms/step - loss: 0.6409 - acc: 0.6329 - val_loss: 0.4457 - val_acc: 0.8230\n",
            "Epoch 2/30\n",
            "100/100 [==============================] - 2s 18ms/step - loss: 0.4404 - acc: 0.8037 - val_loss: 0.3694 - val_acc: 0.8580\n",
            "Epoch 3/30\n",
            "100/100 [==============================] - 2s 18ms/step - loss: 0.3653 - acc: 0.8410 - val_loss: 0.3250 - val_acc: 0.8800\n",
            "Epoch 4/30\n",
            "100/100 [==============================] - 2s 18ms/step - loss: 0.3057 - acc: 0.8828 - val_loss: 0.3020 - val_acc: 0.8880\n",
            "Epoch 5/30\n",
            "100/100 [==============================] - 2s 18ms/step - loss: 0.2726 - acc: 0.8960 - val_loss: 0.2899 - val_acc: 0.8930\n",
            "Epoch 6/30\n",
            "100/100 [==============================] - 2s 17ms/step - loss: 0.2853 - acc: 0.8787 - val_loss: 0.2804 - val_acc: 0.8920\n",
            "Epoch 7/30\n",
            "100/100 [==============================] - 2s 18ms/step - loss: 0.2459 - acc: 0.9055 - val_loss: 0.2773 - val_acc: 0.8940\n",
            "Epoch 8/30\n",
            "100/100 [==============================] - 2s 17ms/step - loss: 0.2299 - acc: 0.9178 - val_loss: 0.2588 - val_acc: 0.8980\n",
            "Epoch 9/30\n",
            "100/100 [==============================] - 2s 17ms/step - loss: 0.2205 - acc: 0.9180 - val_loss: 0.2534 - val_acc: 0.8980\n",
            "Epoch 10/30\n",
            "100/100 [==============================] - 2s 18ms/step - loss: 0.2101 - acc: 0.9189 - val_loss: 0.2489 - val_acc: 0.8980\n",
            "Epoch 11/30\n",
            "100/100 [==============================] - 2s 18ms/step - loss: 0.1988 - acc: 0.9249 - val_loss: 0.2485 - val_acc: 0.8980\n",
            "Epoch 12/30\n",
            "100/100 [==============================] - 2s 18ms/step - loss: 0.1850 - acc: 0.9259 - val_loss: 0.2452 - val_acc: 0.9000\n",
            "Epoch 13/30\n",
            "100/100 [==============================] - 2s 17ms/step - loss: 0.1736 - acc: 0.9455 - val_loss: 0.2403 - val_acc: 0.9020\n",
            "Epoch 14/30\n",
            "100/100 [==============================] - 2s 17ms/step - loss: 0.1721 - acc: 0.9394 - val_loss: 0.2397 - val_acc: 0.9020\n",
            "Epoch 15/30\n",
            "100/100 [==============================] - 2s 17ms/step - loss: 0.1707 - acc: 0.9380 - val_loss: 0.2403 - val_acc: 0.9010\n",
            "Epoch 16/30\n",
            "100/100 [==============================] - 2s 18ms/step - loss: 0.1641 - acc: 0.9402 - val_loss: 0.2401 - val_acc: 0.9010\n",
            "Epoch 17/30\n",
            "100/100 [==============================] - 2s 18ms/step - loss: 0.1494 - acc: 0.9455 - val_loss: 0.2355 - val_acc: 0.9030\n",
            "Epoch 18/30\n",
            "100/100 [==============================] - 2s 17ms/step - loss: 0.1366 - acc: 0.9571 - val_loss: 0.2410 - val_acc: 0.9050\n",
            "Epoch 19/30\n",
            "100/100 [==============================] - 2s 17ms/step - loss: 0.1333 - acc: 0.9571 - val_loss: 0.2375 - val_acc: 0.9050\n",
            "Epoch 20/30\n",
            "100/100 [==============================] - 2s 17ms/step - loss: 0.1362 - acc: 0.9552 - val_loss: 0.2335 - val_acc: 0.9020\n",
            "Epoch 21/30\n",
            "100/100 [==============================] - 2s 18ms/step - loss: 0.1152 - acc: 0.9615 - val_loss: 0.2402 - val_acc: 0.9020\n",
            "Epoch 22/30\n",
            "100/100 [==============================] - 2s 18ms/step - loss: 0.1293 - acc: 0.9648 - val_loss: 0.2357 - val_acc: 0.9050\n",
            "Epoch 23/30\n",
            "100/100 [==============================] - 2s 18ms/step - loss: 0.1103 - acc: 0.9625 - val_loss: 0.2361 - val_acc: 0.9060\n",
            "Epoch 24/30\n",
            "100/100 [==============================] - 2s 18ms/step - loss: 0.1137 - acc: 0.9644 - val_loss: 0.2339 - val_acc: 0.9040\n",
            "Epoch 25/30\n",
            "100/100 [==============================] - 2s 18ms/step - loss: 0.0966 - acc: 0.9721 - val_loss: 0.2452 - val_acc: 0.8980\n",
            "Epoch 26/30\n",
            "100/100 [==============================] - 2s 18ms/step - loss: 0.1056 - acc: 0.9677 - val_loss: 0.2345 - val_acc: 0.9030\n",
            "Epoch 27/30\n",
            "100/100 [==============================] - 2s 18ms/step - loss: 0.0965 - acc: 0.9707 - val_loss: 0.2331 - val_acc: 0.9030\n",
            "Epoch 28/30\n",
            "100/100 [==============================] - 2s 17ms/step - loss: 0.0989 - acc: 0.9746 - val_loss: 0.2332 - val_acc: 0.9040\n",
            "Epoch 29/30\n",
            "100/100 [==============================] - 2s 18ms/step - loss: 0.1101 - acc: 0.9620 - val_loss: 0.2390 - val_acc: 0.9040\n",
            "Epoch 30/30\n",
            "100/100 [==============================] - 2s 18ms/step - loss: 0.0919 - acc: 0.9687 - val_loss: 0.2366 - val_acc: 0.9040\n"
          ],
          "name": "stdout"
        }
      ]
    },
    {
      "cell_type": "code",
      "metadata": {
        "colab": {
          "base_uri": "https://localhost:8080/",
          "height": 545
        },
        "id": "dyG7PP_yMgN_",
        "outputId": "a6f492d5-7bd9-42d5-d920-07d099614642"
      },
      "source": [
        "#Let's take a look at the loss and accuracy curves during training:\n",
        "acc = history.history['acc']\n",
        "val_acc = history.history['val_acc']\n",
        "loss = history.history['loss']\n",
        "val_loss = history.history['val_loss']\n",
        "\n",
        "epochs = range(len(acc))\n",
        "\n",
        "plt.plot(epochs, acc, 'bo', label='Training acc')\n",
        "plt.plot(epochs, val_acc, 'b', label='Validation acc')\n",
        "plt.title('Training and validation accuracy')\n",
        "plt.legend()\n",
        "\n",
        "plt.figure()\n",
        "\n",
        "plt.plot(epochs, loss, 'bo', label='Training loss')\n",
        "plt.plot(epochs, val_loss, 'b', label='Validation loss')\n",
        "plt.title('Training and validation loss')\n",
        "plt.legend()\n",
        "\n",
        "plt.show()"
      ],
      "execution_count": null,
      "outputs": [
        {
          "output_type": "display_data",
          "data": {
            "image/png": "[encoded data removed]",
            "text/plain": [
              "<Figure size 432x288 with 1 Axes>"
            ]
          },
          "metadata": {
            "tags": [],
            "needs_background": "light"
          }
        },
        {
          "output_type": "display_data",
          "data": {
            "image/png": "[encoded data removed]",
            "text/plain": [
              "<Figure size 432x288 with 1 Axes>"
            ]
          },
          "metadata": {
            "tags": [],
            "needs_background": "light"
          }
        }
      ]
    },
    {
      "cell_type": "markdown",
      "metadata": {
        "id": "8Sywcmv2VPwz"
      },
      "source": [
        "Now We will use the pre-trained network with a bigger training set (2800 training data, 1000 validation, 1000 test)\n"
      ]
    },
    {
      "cell_type": "code",
      "metadata": {
        "id": "YbXXmPRYVPO0",
        "colab": {
          "base_uri": "https://localhost:8080/"
        },
        "outputId": "4f71b341-b210-49af-df88-3e705aafd870"
      },
      "source": [
        "# Directories for our new training. validation and test splits stay the same\n",
        "AddTrain = '/content/gdrive/MyDrive/Colab Notebooks/biggertrain'\n",
        "\n",
        "train_dir = os.path.join(AddTrain, 'train')\n",
        "validation_dir = os.path.join(base_dir, 'validation')\n",
        "test_dir = os.path.join(base_dir, 'test')\n",
        "\n",
        "datagen = ImageDataGenerator(rescale=1./255)\n",
        "batch_size = 20\n",
        "\n",
        "def extract_features(directory, sample_count):\n",
        "    features = np.zeros(shape=(sample_count, 4, 4, 512))   #The final feature map has shape (4, 4, 512), on top of which we will stick a densely-connected classifier\n",
        "    labels = np.zeros(shape=(sample_count))\n",
        "    generator = datagen.flow_from_directory(\n",
        "        directory,\n",
        "        target_size=(150, 150),\n",
        "        batch_size=batch_size,\n",
        "        class_mode='binary')\n",
        "    i = 0\n",
        "    for inputs_batch, labels_batch in generator:\n",
        "        features_batch = conv_base.predict(inputs_batch)\n",
        "        features[i * batch_size : (i + 1) * batch_size] = features_batch\n",
        "        labels[i * batch_size : (i + 1) * batch_size] = labels_batch\n",
        "        i += 1\n",
        "        if i * batch_size >= sample_count:\n",
        "            # Note that since generators yield data indefinitely in a loop,\n",
        "            # we must `break` after every image has been seen once.\n",
        "            break\n",
        "    return features, labels\n",
        "\n",
        "train_features, train_labels = extract_features(train_dir, 2800)\n",
        "validation_features, validation_labels = extract_features(validation_dir, 1000)\n",
        "test_features, test_labels = extract_features(test_dir, 1000)\n"
      ],
      "execution_count": null,
      "outputs": [
        {
          "output_type": "stream",
          "text": [
            "Found 2800 images belonging to 2 classes.\n",
            "Found 1000 images belonging to 2 classes.\n",
            "Found 1000 images belonging to 2 classes.\n"
          ],
          "name": "stdout"
        }
      ]
    },
    {
      "cell_type": "code",
      "metadata": {
        "colab": {
          "base_uri": "https://localhost:8080/"
        },
        "id": "_WniKNpXWm15",
        "outputId": "240e1a58-7732-44d5-b864-2f83e225948d"
      },
      "source": [
        "train_features = np.reshape(train_features, (2800, 4 * 4 * 512))\n",
        "validation_features = np.reshape(validation_features, (1000, 4 * 4 * 512))\n",
        "test_features = np.reshape(test_features, (1000, 4 * 4 * 512))\n",
        "\n",
        "#Building the network \n",
        "model = models.Sequential()\n",
        "model.add(layers.Dense(256, activation='relu', input_dim=4 * 4 * 512))\n",
        "model.add(layers.Dropout(0.5))  #random drop put of 50%\n",
        "model.add(layers.Dense(1, activation='sigmoid'))\n",
        "\n",
        "model.compile(optimizer=optimizers.RMSprop(lr=2e-5),\n",
        "              loss='binary_crossentropy',\n",
        "              metrics=['acc'])\n",
        "\n",
        "#let's fit the model\n",
        "history = model.fit(train_features, train_labels,\n",
        "                    epochs=30,\n",
        "                    batch_size=20,\n",
        "                    validation_data=(validation_features, validation_labels))"
      ],
      "execution_count": null,
      "outputs": [
        {
          "output_type": "stream",
          "text": [
            "Epoch 1/30\n",
            "140/140 [==============================] - 3s 19ms/step - loss: 0.6680 - acc: 0.6222 - val_loss: 0.4095 - val_acc: 0.8370\n",
            "Epoch 2/30\n",
            "140/140 [==============================] - 2s 17ms/step - loss: 0.4214 - acc: 0.8022 - val_loss: 0.3372 - val_acc: 0.8720\n",
            "Epoch 3/30\n",
            "140/140 [==============================] - 2s 17ms/step - loss: 0.3418 - acc: 0.8601 - val_loss: 0.3049 - val_acc: 0.8880\n",
            "Epoch 4/30\n",
            "140/140 [==============================] - 2s 17ms/step - loss: 0.3142 - acc: 0.8652 - val_loss: 0.2839 - val_acc: 0.8930\n",
            "Epoch 5/30\n",
            "140/140 [==============================] - 2s 17ms/step - loss: 0.2828 - acc: 0.8865 - val_loss: 0.2690 - val_acc: 0.8980\n",
            "Epoch 6/30\n",
            "140/140 [==============================] - 2s 17ms/step - loss: 0.2547 - acc: 0.8995 - val_loss: 0.2760 - val_acc: 0.8850\n",
            "Epoch 7/30\n",
            "140/140 [==============================] - 2s 17ms/step - loss: 0.2396 - acc: 0.9075 - val_loss: 0.2618 - val_acc: 0.8920\n",
            "Epoch 8/30\n",
            "140/140 [==============================] - 2s 17ms/step - loss: 0.2167 - acc: 0.9105 - val_loss: 0.2454 - val_acc: 0.9010\n",
            "Epoch 9/30\n",
            "140/140 [==============================] - 2s 17ms/step - loss: 0.2091 - acc: 0.9182 - val_loss: 0.2409 - val_acc: 0.9070\n",
            "Epoch 10/30\n",
            "140/140 [==============================] - 2s 17ms/step - loss: 0.1936 - acc: 0.9258 - val_loss: 0.2375 - val_acc: 0.9070\n",
            "Epoch 11/30\n",
            "140/140 [==============================] - 2s 17ms/step - loss: 0.1822 - acc: 0.9347 - val_loss: 0.2344 - val_acc: 0.9060\n",
            "Epoch 12/30\n",
            "140/140 [==============================] - 2s 17ms/step - loss: 0.1815 - acc: 0.9333 - val_loss: 0.2349 - val_acc: 0.9060\n",
            "Epoch 13/30\n",
            "140/140 [==============================] - 2s 17ms/step - loss: 0.1786 - acc: 0.9356 - val_loss: 0.2330 - val_acc: 0.9070\n",
            "Epoch 14/30\n",
            "140/140 [==============================] - 2s 17ms/step - loss: 0.1853 - acc: 0.9324 - val_loss: 0.2473 - val_acc: 0.8940\n",
            "Epoch 15/30\n",
            "140/140 [==============================] - 2s 17ms/step - loss: 0.1660 - acc: 0.9414 - val_loss: 0.2282 - val_acc: 0.9070\n",
            "Epoch 16/30\n",
            "140/140 [==============================] - 2s 17ms/step - loss: 0.1460 - acc: 0.9483 - val_loss: 0.2473 - val_acc: 0.8930\n",
            "Epoch 17/30\n",
            "140/140 [==============================] - 2s 17ms/step - loss: 0.1409 - acc: 0.9509 - val_loss: 0.2278 - val_acc: 0.9070\n",
            "Epoch 18/30\n",
            "140/140 [==============================] - 2s 18ms/step - loss: 0.1532 - acc: 0.9473 - val_loss: 0.2331 - val_acc: 0.9060\n",
            "Epoch 19/30\n",
            "140/140 [==============================] - 2s 17ms/step - loss: 0.1515 - acc: 0.9476 - val_loss: 0.2266 - val_acc: 0.9080\n",
            "Epoch 20/30\n",
            "140/140 [==============================] - 2s 17ms/step - loss: 0.1327 - acc: 0.9512 - val_loss: 0.2337 - val_acc: 0.9070\n",
            "Epoch 21/30\n",
            "140/140 [==============================] - 2s 17ms/step - loss: 0.1237 - acc: 0.9586 - val_loss: 0.2286 - val_acc: 0.9080\n",
            "Epoch 22/30\n",
            "140/140 [==============================] - 2s 17ms/step - loss: 0.1169 - acc: 0.9575 - val_loss: 0.2332 - val_acc: 0.9040\n",
            "Epoch 23/30\n",
            "140/140 [==============================] - 2s 17ms/step - loss: 0.1128 - acc: 0.9642 - val_loss: 0.2262 - val_acc: 0.9090\n",
            "Epoch 24/30\n",
            "140/140 [==============================] - 2s 17ms/step - loss: 0.1159 - acc: 0.9609 - val_loss: 0.2286 - val_acc: 0.9070\n",
            "Epoch 25/30\n",
            "140/140 [==============================] - 2s 17ms/step - loss: 0.1000 - acc: 0.9713 - val_loss: 0.2271 - val_acc: 0.9110\n",
            "Epoch 26/30\n",
            "140/140 [==============================] - 2s 17ms/step - loss: 0.1044 - acc: 0.9664 - val_loss: 0.2431 - val_acc: 0.9050\n",
            "Epoch 27/30\n",
            "140/140 [==============================] - 2s 17ms/step - loss: 0.1095 - acc: 0.9594 - val_loss: 0.2420 - val_acc: 0.9040\n",
            "Epoch 28/30\n",
            "140/140 [==============================] - 2s 17ms/step - loss: 0.0984 - acc: 0.9669 - val_loss: 0.2371 - val_acc: 0.9050\n",
            "Epoch 29/30\n",
            "140/140 [==============================] - 2s 18ms/step - loss: 0.0906 - acc: 0.9672 - val_loss: 0.2308 - val_acc: 0.9110\n",
            "Epoch 30/30\n",
            "140/140 [==============================] - 2s 17ms/step - loss: 0.0854 - acc: 0.9763 - val_loss: 0.2394 - val_acc: 0.9050\n"
          ],
          "name": "stdout"
        }
      ]
    },
    {
      "cell_type": "code",
      "metadata": {
        "colab": {
          "base_uri": "https://localhost:8080/",
          "height": 545
        },
        "id": "KrpmoLcwWt6P",
        "outputId": "80fcb3ca-79b9-408a-f216-0d22da523d6e"
      },
      "source": [
        "#Let's take a look at the loss and accuracy curves during training:\n",
        "acc = history.history['acc']\n",
        "val_acc = history.history['val_acc']\n",
        "loss = history.history['loss']\n",
        "val_loss = history.history['val_loss']\n",
        "\n",
        "epochs = range(len(acc))\n",
        "\n",
        "plt.plot(epochs, acc, 'bo', label='Training acc')\n",
        "plt.plot(epochs, val_acc, 'b', label='Validation acc')\n",
        "plt.title('Training and validation accuracy')\n",
        "plt.legend()\n",
        "\n",
        "plt.figure()\n",
        "\n",
        "plt.plot(epochs, loss, 'bo', label='Training loss')\n",
        "plt.plot(epochs, val_loss, 'b', label='Validation loss')\n",
        "plt.title('Training and validation loss')\n",
        "plt.legend()\n",
        "\n",
        "plt.show() "
      ],
      "execution_count": null,
      "outputs": [
        {
          "output_type": "display_data",
          "data": {
            "image/png": "[encoded data removed]",
            "text/plain": [
              "<Figure size 432x288 with 1 Axes>"
            ]
          },
          "metadata": {
            "tags": [],
            "needs_background": "light"
          }
        },
        {
          "output_type": "display_data",
          "data": {
            "image/png": "[encoded data removed]",
            "text/plain": [
              "<Figure size 432x288 with 1 Axes>"
            ]
          },
          "metadata": {
            "tags": [],
            "needs_background": "light"
          }
        }
      ]
    },
    {
      "cell_type": "markdown",
      "metadata": {
        "id": "cdRkCSIBW3hv"
      },
      "source": [
        "Now We will use the pre-trained network with a bigger training set (4000 training data, 1000 validation, 1000 test)"
      ]
    },
    {
      "cell_type": "code",
      "metadata": {
        "colab": {
          "base_uri": "https://localhost:8080/"
        },
        "id": "3utB91hKXFZI",
        "outputId": "bf5fde73-cd94-45b2-ce86-68dc1a3ba259"
      },
      "source": [
        "AddTrain2= '/content/gdrive/MyDrive/Colab Notebooks/finaltrain'\n",
        "# Directories for our new training. validation and test splits stay the same\n",
        "train_dir = os.path.join(AddTrain2, 'train')\n",
        "validation_dir = os.path.join(base_dir, 'validation')\n",
        "test_dir = os.path.join(base_dir, 'test')\n",
        "\n",
        "datagen = ImageDataGenerator(rescale=1./255)\n",
        "batch_size = 20\n",
        "\n",
        "def extract_features(directory, sample_count):\n",
        "    features = np.zeros(shape=(sample_count, 4, 4, 512))   #The final feature map has shape (4, 4, 512), on top of which we will stick a densely-connected classifier\n",
        "    labels = np.zeros(shape=(sample_count))\n",
        "    generator = datagen.flow_from_directory(\n",
        "        directory,\n",
        "        target_size=(150, 150),\n",
        "        batch_size=batch_size,\n",
        "        class_mode='binary')\n",
        "    i = 0\n",
        "    for inputs_batch, labels_batch in generator:\n",
        "        features_batch = conv_base.predict(inputs_batch)\n",
        "        features[i * batch_size : (i + 1) * batch_size] = features_batch\n",
        "        labels[i * batch_size : (i + 1) * batch_size] = labels_batch\n",
        "        i += 1\n",
        "        if i * batch_size >= sample_count:\n",
        "            # Note that since generators yield data indefinitely in a loop,\n",
        "            # we must `break` after every image has been seen once.\n",
        "            break\n",
        "    return features, labels\n",
        "\n",
        "train_features, train_labels = extract_features(train_dir, 4000)\n",
        "validation_features, validation_labels = extract_features(validation_dir, 1000)\n",
        "test_features, test_labels = extract_features(test_dir, 1000)"
      ],
      "execution_count": null,
      "outputs": [
        {
          "output_type": "stream",
          "text": [
            "Found 4000 images belonging to 2 classes.\n",
            "Found 1000 images belonging to 2 classes.\n",
            "Found 1000 images belonging to 2 classes.\n"
          ],
          "name": "stdout"
        }
      ]
    },
    {
      "cell_type": "code",
      "metadata": {
        "id": "KC0C-CFGeYue"
      },
      "source": [
        "\n",
        "train_features = np.reshape(train_features, (4000, 4 * 4 * 512))\n",
        "validation_features = np.reshape(validation_features, (1000, 4 * 4 * 512))\n",
        "test_features = np.reshape(test_features, (1000, 4 * 4 * 512))"
      ],
      "execution_count": null,
      "outputs": []
    },
    {
      "cell_type": "code",
      "metadata": {
        "id": "phmuMugrXciI"
      },
      "source": [
        "#Building the network \n",
        "model = models.Sequential()\n",
        "model.add(layers.Dense(256, activation='relu', input_dim=4 * 4 * 512))\n",
        "model.add(layers.Dropout(0.5))  #random drop put of 50%\n",
        "model.add(layers.Dense(1, activation='sigmoid'))\n",
        "\n",
        "model.compile(optimizer=optimizers.RMSprop(lr=2e-5),\n",
        "              loss='binary_crossentropy',\n",
        "              metrics=['acc'])\n"
      ],
      "execution_count": null,
      "outputs": []
    },
    {
      "cell_type": "code",
      "metadata": {
        "colab": {
          "base_uri": "https://localhost:8080/"
        },
        "id": "YOII6ZSrcQC1",
        "outputId": "aefc701e-af24-4692-fc29-670d88ac20b3"
      },
      "source": [
        "#let's fit the model\n",
        "history = model.fit(train_features, train_labels,\n",
        "                    epochs=30,\n",
        "                    batch_size=20,\n",
        "                    validation_data=(validation_features, validation_labels))"
      ],
      "execution_count": null,
      "outputs": [
        {
          "output_type": "stream",
          "text": [
            "Epoch 1/30\n",
            "200/200 [==============================] - 6s 27ms/step - loss: 0.6368 - acc: 0.6187 - val_loss: 0.3574 - val_acc: 0.8570\n",
            "Epoch 2/30\n",
            "200/200 [==============================] - 5s 27ms/step - loss: 0.3770 - acc: 0.8382 - val_loss: 0.2881 - val_acc: 0.8860\n",
            "Epoch 3/30\n",
            "200/200 [==============================] - 5s 26ms/step - loss: 0.3012 - acc: 0.8739 - val_loss: 0.2527 - val_acc: 0.8980\n",
            "Epoch 4/30\n",
            "200/200 [==============================] - 6s 29ms/step - loss: 0.2781 - acc: 0.8867 - val_loss: 0.2322 - val_acc: 0.9080\n",
            "Epoch 5/30\n",
            "200/200 [==============================] - 6s 28ms/step - loss: 0.2558 - acc: 0.8912 - val_loss: 0.2130 - val_acc: 0.9200\n",
            "Epoch 6/30\n",
            "200/200 [==============================] - 5s 26ms/step - loss: 0.2240 - acc: 0.9131 - val_loss: 0.1991 - val_acc: 0.9240\n",
            "Epoch 7/30\n",
            "200/200 [==============================] - 5s 26ms/step - loss: 0.2206 - acc: 0.9135 - val_loss: 0.1882 - val_acc: 0.9340\n",
            "Epoch 8/30\n",
            "200/200 [==============================] - 5s 25ms/step - loss: 0.2032 - acc: 0.9126 - val_loss: 0.1761 - val_acc: 0.9370\n",
            "Epoch 9/30\n",
            "200/200 [==============================] - 5s 25ms/step - loss: 0.1952 - acc: 0.9216 - val_loss: 0.1721 - val_acc: 0.9370\n",
            "Epoch 10/30\n",
            "200/200 [==============================] - 6s 28ms/step - loss: 0.1849 - acc: 0.9245 - val_loss: 0.1605 - val_acc: 0.9410\n",
            "Epoch 11/30\n",
            "200/200 [==============================] - 5s 27ms/step - loss: 0.1768 - acc: 0.9329 - val_loss: 0.1558 - val_acc: 0.9400\n",
            "Epoch 12/30\n",
            "200/200 [==============================] - 5s 26ms/step - loss: 0.1638 - acc: 0.9445 - val_loss: 0.1517 - val_acc: 0.9430\n",
            "Epoch 13/30\n",
            "200/200 [==============================] - 5s 26ms/step - loss: 0.1635 - acc: 0.9336 - val_loss: 0.1440 - val_acc: 0.9440\n",
            "Epoch 14/30\n",
            "200/200 [==============================] - 5s 26ms/step - loss: 0.1554 - acc: 0.9454 - val_loss: 0.1380 - val_acc: 0.9540\n",
            "Epoch 15/30\n",
            "200/200 [==============================] - 5s 26ms/step - loss: 0.1461 - acc: 0.9468 - val_loss: 0.1367 - val_acc: 0.9520\n",
            "Epoch 16/30\n",
            "200/200 [==============================] - 5s 27ms/step - loss: 0.1433 - acc: 0.9431 - val_loss: 0.1295 - val_acc: 0.9540\n",
            "Epoch 17/30\n",
            "200/200 [==============================] - 6s 28ms/step - loss: 0.1413 - acc: 0.9444 - val_loss: 0.1250 - val_acc: 0.9550\n",
            "Epoch 18/30\n",
            "200/200 [==============================] - 5s 27ms/step - loss: 0.1384 - acc: 0.9520 - val_loss: 0.1216 - val_acc: 0.9570\n",
            "Epoch 19/30\n",
            "200/200 [==============================] - 5s 27ms/step - loss: 0.1273 - acc: 0.9541 - val_loss: 0.1288 - val_acc: 0.9520\n",
            "Epoch 20/30\n",
            "200/200 [==============================] - 5s 27ms/step - loss: 0.1211 - acc: 0.9561 - val_loss: 0.1129 - val_acc: 0.9570\n",
            "Epoch 21/30\n",
            "200/200 [==============================] - 6s 28ms/step - loss: 0.1196 - acc: 0.9598 - val_loss: 0.1087 - val_acc: 0.9580\n",
            "Epoch 22/30\n",
            "200/200 [==============================] - 5s 27ms/step - loss: 0.1082 - acc: 0.9667 - val_loss: 0.1067 - val_acc: 0.9620\n",
            "Epoch 23/30\n",
            "200/200 [==============================] - 5s 27ms/step - loss: 0.1139 - acc: 0.9621 - val_loss: 0.1019 - val_acc: 0.9620\n",
            "Epoch 24/30\n",
            "200/200 [==============================] - 5s 26ms/step - loss: 0.1089 - acc: 0.9588 - val_loss: 0.0985 - val_acc: 0.9620\n",
            "Epoch 25/30\n",
            "200/200 [==============================] - 5s 26ms/step - loss: 0.1015 - acc: 0.9601 - val_loss: 0.0953 - val_acc: 0.9660\n",
            "Epoch 26/30\n",
            "200/200 [==============================] - 5s 27ms/step - loss: 0.1040 - acc: 0.9678 - val_loss: 0.0924 - val_acc: 0.9660\n",
            "Epoch 27/30\n",
            "200/200 [==============================] - 5s 27ms/step - loss: 0.0960 - acc: 0.9679 - val_loss: 0.0896 - val_acc: 0.9690\n",
            "Epoch 28/30\n",
            "200/200 [==============================] - 5s 27ms/step - loss: 0.1023 - acc: 0.9677 - val_loss: 0.0871 - val_acc: 0.9690\n",
            "Epoch 29/30\n",
            "200/200 [==============================] - 5s 25ms/step - loss: 0.1004 - acc: 0.9662 - val_loss: 0.0836 - val_acc: 0.9710\n",
            "Epoch 30/30\n",
            "200/200 [==============================] - 5s 27ms/step - loss: 0.0827 - acc: 0.9721 - val_loss: 0.0813 - val_acc: 0.9740\n"
          ],
          "name": "stdout"
        }
      ]
    },
    {
      "cell_type": "code",
      "metadata": {
        "id": "79nVH1VQXgzD",
        "colab": {
          "base_uri": "https://localhost:8080/",
          "height": 545
        },
        "outputId": "758dd732-35e8-4e08-8469-79ad33b3a315"
      },
      "source": [
        "#Let's take a look at the loss and accuracy curves during training:\n",
        "acc = history.history['acc']\n",
        "val_acc = history.history['val_acc']\n",
        "loss = history.history['loss']\n",
        "val_loss = history.history['val_loss']\n",
        "\n",
        "epochs = range(len(acc))\n",
        "\n",
        "plt.plot(epochs, acc, 'bo', label='Training acc')\n",
        "plt.plot(epochs, val_acc, 'b', label='Validation acc')\n",
        "plt.title('Training and validation accuracy')\n",
        "plt.legend()\n",
        "\n",
        "plt.figure()\n",
        "\n",
        "plt.plot(epochs, loss, 'bo', label='Training loss')\n",
        "plt.plot(epochs, val_loss, 'b', label='Validation loss')\n",
        "plt.title('Training and validation loss')\n",
        "plt.legend()\n",
        "\n",
        "plt.show() "
      ],
      "execution_count": null,
      "outputs": [
        {
          "output_type": "display_data",
          "data": {
            "image/png": "[encoded data removed]",
            "text/plain": [
              "<Figure size 432x288 with 1 Axes>"
            ]
          },
          "metadata": {
            "tags": [],
            "needs_background": "light"
          }
        },
        {
          "output_type": "display_data",
          "data": {
            "image/png": "[encoded data removed]",
            "text/plain": [
              "<Figure size 432x288 with 1 Axes>"
            ]
          },
          "metadata": {
            "tags": [],
            "needs_background": "light"
          }
        }
      ]
    },
    {
      "cell_type": "markdown",
      "metadata": {
        "id": "qdmyhcG5XjS8"
      },
      "source": [
        "#Results' Summary :"
      ]
    },
    {
      "cell_type": "code",
      "metadata": {
        "id": "rC-XXgToXtw5",
        "colab": {
          "base_uri": "https://localhost:8080/",
          "height": 266
        },
        "outputId": "5088db14-685e-4786-fa98-c474333f4c18"
      },
      "source": [
        "results = pd.read_excel('/content/drive/MyDrive/Colab Notebooks/Convnet Results.xlsx', dtype=None)\n",
        "results"
      ],
      "execution_count": null,
      "outputs": [
        {
          "output_type": "execute_result",
          "data": {
            "text/html": [
              "<div>\n",
              "<style scoped>\n",
              "    .dataframe tbody tr th:only-of-type {\n",
              "        vertical-align: middle;\n",
              "    }\n",
              "\n",
              "    .dataframe tbody tr th {\n",
              "        vertical-align: top;\n",
              "    }\n",
              "\n",
              "    .dataframe thead th {\n",
              "        text-align: right;\n",
              "    }\n",
              "</style>\n",
              "<table border=\"1\" class=\"dataframe\">\n",
              "  <thead>\n",
              "    <tr style=\"text-align: right;\">\n",
              "      <th></th>\n",
              "      <th>Model &amp; training size</th>\n",
              "      <th>Training Loss</th>\n",
              "      <th>Training accuracy</th>\n",
              "      <th>Validation Loss</th>\n",
              "      <th>Validation Accuracy</th>\n",
              "    </tr>\n",
              "  </thead>\n",
              "  <tbody>\n",
              "    <tr>\n",
              "      <th>0</th>\n",
              "      <td>Original Model (2000 training sample)</td>\n",
              "      <td>0.0416</td>\n",
              "      <td>0.9830</td>\n",
              "      <td>0.9336</td>\n",
              "      <td>0.753</td>\n",
              "    </tr>\n",
              "    <tr>\n",
              "      <th>1</th>\n",
              "      <td>Original Model after applying  Dropout and Dat...</td>\n",
              "      <td>0.3700</td>\n",
              "      <td>0.8382</td>\n",
              "      <td>0.4768</td>\n",
              "      <td>0.794</td>\n",
              "    </tr>\n",
              "    <tr>\n",
              "      <th>2</th>\n",
              "      <td>Increasing training sample to 2800</td>\n",
              "      <td>0.0990</td>\n",
              "      <td>0.9651</td>\n",
              "      <td>0.6914</td>\n",
              "      <td>0.743</td>\n",
              "    </tr>\n",
              "    <tr>\n",
              "      <th>3</th>\n",
              "      <td>Increaing training sample to 4000</td>\n",
              "      <td>0.2179</td>\n",
              "      <td>0.9120</td>\n",
              "      <td>0.2545</td>\n",
              "      <td>0.891</td>\n",
              "    </tr>\n",
              "    <tr>\n",
              "      <th>4</th>\n",
              "      <td>Using pretrained convnet with Original sample</td>\n",
              "      <td>0.0919</td>\n",
              "      <td>0.9687</td>\n",
              "      <td>0.2366</td>\n",
              "      <td>0.904</td>\n",
              "    </tr>\n",
              "    <tr>\n",
              "      <th>5</th>\n",
              "      <td>Using pretrained convnet with 2000 training sa...</td>\n",
              "      <td>0.0854</td>\n",
              "      <td>0.9763</td>\n",
              "      <td>0.2394</td>\n",
              "      <td>0.905</td>\n",
              "    </tr>\n",
              "    <tr>\n",
              "      <th>6</th>\n",
              "      <td>Using pretrained convnet with 4000 training sa...</td>\n",
              "      <td>0.0827</td>\n",
              "      <td>0.9721</td>\n",
              "      <td>0.0813</td>\n",
              "      <td>0.974</td>\n",
              "    </tr>\n",
              "  </tbody>\n",
              "</table>\n",
              "</div>"
            ],
            "text/plain": [
              "                               Model & training size  ...  Validation Accuracy\n",
              "0              Original Model (2000 training sample)  ...                0.753\n",
              "1  Original Model after applying  Dropout and Dat...  ...                0.794\n",
              "2                 Increasing training sample to 2800  ...                0.743\n",
              "3                  Increaing training sample to 4000  ...                0.891\n",
              "4     Using pretrained convnet with Original sample   ...                0.904\n",
              "5  Using pretrained convnet with 2000 training sa...  ...                0.905\n",
              "6  Using pretrained convnet with 4000 training sa...  ...                0.974\n",
              "\n",
              "[7 rows x 5 columns]"
            ]
          },
          "metadata": {
            "tags": []
          },
          "execution_count": 26
        }
      ]
    },
    {
      "cell_type": "markdown",
      "metadata": {
        "id": "OJRUcwAUI7xV"
      },
      "source": [
        "\n",
        "![image.png](data:image/png;base64,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)"
      ]
    },
    {
      "cell_type": "markdown",
      "metadata": {
        "id": "C2uVUG9ZJN3x"
      },
      "source": [
        "\n",
        "\n",
        "1.   Dropout and Data Augmentation are good techniques to prevent overfitting. Data Augmentation is a powerful technique when working with small image dataset. In our data, after implemting both techniques training accuracy dropped but validtion accuracy increased to a percentage close to the accuracy on training. \n",
        "2.   Most importantly, Increasing training sample can do much better results. When we increased our training sample from 2000 to 2800, the model was still overfitting. However, when the sample was increased to 4000, the model didn't seem to overfit and the accuracy on training and validation were 91% and 89% respectively. \n",
        "3. Out of all models we build, a pretrained network gave the best the results even with the original training sample size. Increasing the training sample increased both the accuracy and the loss on training and validtion datasets. With a 4000 training sample, we achieved accuracy of 97.2% on training and 97.4% on validation with training loss of 0.082  on training and 0.081 on validation. \n",
        "\n"
      ]
    }
  ]
}