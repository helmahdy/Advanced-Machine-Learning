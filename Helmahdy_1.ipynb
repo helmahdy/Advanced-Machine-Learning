{
  "nbformat": 4,
  "nbformat_minor": 0,
  "metadata": {
    "kernelspec": {
      "display_name": "Python 3",
      "language": "python",
      "name": "python3"
    },
    "language_info": {
      "codemirror_mode": {
        "name": "ipython",
        "version": 3
      },
      "file_extension": ".py",
      "mimetype": "text/x-python",
      "name": "python",
      "nbconvert_exporter": "python",
      "pygments_lexer": "ipython3",
      "version": "3.5.2"
    },
    "colab": {
      "name": "Helmahdy_1.ipynb",
      "provenance": [],
      "include_colab_link": true
    }
  },
  "cells": [
    {
      "cell_type": "markdown",
      "metadata": {
        "id": "view-in-github",
        "colab_type": "text"
      },
      "source": [
        "<a href=\"https://colab.research.google.com/github/helmahdy/Advanced-Machine-Learning/blob/main/Helmahdy_1.ipynb\" target=\"_parent\"><img src=\"https://colab.research.google.com/assets/colab-badge.svg\" alt=\"Open In Colab\"/></a>"
      ]
    },
    {
      "cell_type": "markdown",
      "metadata": {
        "id": "KHuaZCr9Jslf"
      },
      "source": [
        "# Preparing the data"
      ]
    },
    {
      "cell_type": "code",
      "metadata": {
        "collapsed": true,
        "id": "Np7kqXRvdEtI",
        "colab": {
          "base_uri": "https://localhost:8080/"
        },
        "outputId": "79cb501c-244c-43e7-c8e8-53414182c645"
      },
      "source": [
        "import keras\n",
        "from keras.datasets import imdb\n",
        "import numpy as np\n",
        "\n",
        "(train_data, train_labels), (test_data, test_labels) = imdb.load_data(num_words=10000)\n",
        "\n",
        "def vectorize_sequences(sequences, dimension=10000):\n",
        "    # Create an all-zero matrix of shape (len(sequences), dimension)\n",
        "    results = np.zeros((len(sequences), dimension))\n",
        "    for i, sequence in enumerate(sequences):\n",
        "        results[i, sequence] = 1.  # set specific indices of results[i] to 1s\n",
        "    return results\n",
        "\n",
        "# Our vectorized training data\n",
        "x_train = vectorize_sequences(train_data)\n",
        "# Our vectorized test data\n",
        "x_test = vectorize_sequences(test_data)\n",
        "\n",
        "\n",
        "# Our vectorized labels\n",
        "y_train = np.asarray(train_labels).astype('float32')\n",
        "y_test = np.asarray(test_labels).astype('float32')"
      ],
      "execution_count": null,
      "outputs": [
        {
          "output_type": "stream",
          "text": [
            "<string>:6: VisibleDeprecationWarning: Creating an ndarray from ragged nested sequences (which is a list-or-tuple of lists-or-tuples-or ndarrays with different lengths or shapes) is deprecated. If you meant to do this, you must specify 'dtype=object' when creating the ndarray\n",
            "/usr/local/lib/python3.6/dist-packages/tensorflow/python/keras/datasets/imdb.py:159: VisibleDeprecationWarning: Creating an ndarray from ragged nested sequences (which is a list-or-tuple of lists-or-tuples-or ndarrays with different lengths or shapes) is deprecated. If you meant to do this, you must specify 'dtype=object' when creating the ndarray\n",
            "  x_train, y_train = np.array(xs[:idx]), np.array(labels[:idx])\n",
            "/usr/local/lib/python3.6/dist-packages/tensorflow/python/keras/datasets/imdb.py:160: VisibleDeprecationWarning: Creating an ndarray from ragged nested sequences (which is a list-or-tuple of lists-or-tuples-or ndarrays with different lengths or shapes) is deprecated. If you meant to do this, you must specify 'dtype=object' when creating the ndarray\n",
            "  x_test, y_test = np.array(xs[idx:]), np.array(labels[idx:])\n"
          ],
          "name": "stderr"
        }
      ]
    },
    {
      "cell_type": "markdown",
      "metadata": {
        "id": "xmwX8K9UNhvy"
      },
      "source": [
        "# Building the network"
      ]
    },
    {
      "cell_type": "markdown",
      "metadata": {
        "id": "ltnJ_Ha3NriZ"
      },
      "source": [
        "##Original Model:\r\n",
        "Two hidden layers, each has 16 hidden units"
      ]
    },
    {
      "cell_type": "code",
      "metadata": {
        "id": "B5vQmhsZNfNr"
      },
      "source": [
        "from keras import models\r\n",
        "from keras import layers\r\n",
        "\r\n",
        "Original_model = models.Sequential()\r\n",
        "Original_model.add(layers.Dense(16, activation='relu', input_shape=(10000,)))\r\n",
        "Original_model.add(layers.Dense(16, activation='relu'))\r\n",
        "Original_model.add(layers.Dense(1, activation='sigmoid'))\r\n",
        "\r\n",
        "Original_model.compile(optimizer='rmsprop',\r\n",
        "              loss='binary_crossentropy',\r\n",
        "              metrics=['accuracy'])"
      ],
      "execution_count": null,
      "outputs": []
    },
    {
      "cell_type": "markdown",
      "metadata": {
        "id": "KMoz88dzdEtJ"
      },
      "source": [
        "# Increasing Hidden layers:\n",
        "Here we have 3 hidden layers, each with 16 hiddent units:\n",
        " improve model performance on validation dataset\n"
      ]
    },
    {
      "cell_type": "code",
      "metadata": {
        "collapsed": true,
        "id": "q7dctYuIdEtK"
      },
      "source": [
        "Bigger_model = models.Sequential()\n",
        "Bigger_model.add(layers.Dense(16, activation='relu', input_shape=(10000,)))\n",
        "Bigger_model.add(layers.Dense(16, activation='relu'))\n",
        "Bigger_model.add(layers.Dense(16, activation='relu'))\n",
        "Bigger_model.add(layers.Dense(1, activation='sigmoid'))\n",
        "\n",
        "\n",
        "Bigger_model.compile(optimizer='rmsprop',\n",
        "              loss='binary_crossentropy',\n",
        "              metrics=['accuracy'])"
      ],
      "execution_count": null,
      "outputs": []
    },
    {
      "cell_type": "markdown",
      "metadata": {
        "id": "Vf3xx5GwdEtM"
      },
      "source": [
        "## Splitting dataset into validation and training\n",
        "\n",
        "In order to monitor during training the accuracy of the model on data that it has never seen before, we will create a \"validation set\" by \n",
        "setting apart 10,000 samples from the original training data:"
      ]
    },
    {
      "cell_type": "code",
      "metadata": {
        "collapsed": true,
        "id": "ZlOpJHs2dEtN"
      },
      "source": [
        "x_val = x_train[:10000]\n",
        "partial_x_train = x_train[10000:]\n",
        "\n",
        "y_val = y_train[:10000]\n",
        "partial_y_train = y_train[10000:]"
      ],
      "execution_count": null,
      "outputs": []
    },
    {
      "cell_type": "markdown",
      "metadata": {
        "collapsed": true,
        "id": "h_RfTbftdEtN"
      },
      "source": [
        "We will now train our model for 20 epochs , in mini-batches of 512 \n",
        "samples. At this same time we will monitor loss and accuracy on the 10,000 samples that we set apart. This is done by passing the \n",
        "validation data as the `validation_data` argument:"
      ]
    },
    {
      "cell_type": "code",
      "metadata": {
        "id": "Ftie3ddrdEtN",
        "colab": {
          "base_uri": "https://localhost:8080/"
        },
        "outputId": "f53ba713-74e6-4c4a-cbd4-6d827c87c971"
      },
      "source": [
        "Original_history = Original_model.fit(partial_x_train,\n",
        "                    partial_y_train,\n",
        "                    epochs=20,\n",
        "                    batch_size=512,\n",
        "                    validation_data=(x_val, y_val))"
      ],
      "execution_count": null,
      "outputs": [
        {
          "output_type": "stream",
          "text": [
            "Epoch 1/20\n",
            "30/30 [==============================] - 1s 44ms/step - loss: 5.1703e-04 - accuracy: 0.9999 - val_loss: 1.3946 - val_accuracy: 0.8594\n",
            "Epoch 2/20\n",
            "30/30 [==============================] - 1s 37ms/step - loss: 1.0292e-05 - accuracy: 1.0000 - val_loss: 1.3945 - val_accuracy: 0.8596\n",
            "Epoch 3/20\n",
            "30/30 [==============================] - 1s 37ms/step - loss: 7.5636e-06 - accuracy: 1.0000 - val_loss: 1.4035 - val_accuracy: 0.8599\n",
            "Epoch 4/20\n",
            "30/30 [==============================] - 1s 35ms/step - loss: 6.3246e-06 - accuracy: 1.0000 - val_loss: 1.4193 - val_accuracy: 0.8592\n",
            "Epoch 5/20\n",
            "30/30 [==============================] - 1s 36ms/step - loss: 5.0660e-06 - accuracy: 1.0000 - val_loss: 1.4574 - val_accuracy: 0.8594\n",
            "Epoch 6/20\n",
            "30/30 [==============================] - 1s 36ms/step - loss: 3.7808e-04 - accuracy: 0.9998 - val_loss: 1.5370 - val_accuracy: 0.8573\n",
            "Epoch 7/20\n",
            "30/30 [==============================] - 1s 36ms/step - loss: 5.9224e-06 - accuracy: 1.0000 - val_loss: 1.5223 - val_accuracy: 0.8597\n",
            "Epoch 8/20\n",
            "30/30 [==============================] - 1s 36ms/step - loss: 3.4358e-06 - accuracy: 1.0000 - val_loss: 1.5297 - val_accuracy: 0.8602\n",
            "Epoch 9/20\n",
            "30/30 [==============================] - 1s 37ms/step - loss: 2.7337e-06 - accuracy: 1.0000 - val_loss: 1.5394 - val_accuracy: 0.8603\n",
            "Epoch 10/20\n",
            "30/30 [==============================] - 1s 36ms/step - loss: 2.2453e-06 - accuracy: 1.0000 - val_loss: 1.5613 - val_accuracy: 0.8605\n",
            "Epoch 11/20\n",
            "30/30 [==============================] - 1s 37ms/step - loss: 1.6931e-06 - accuracy: 1.0000 - val_loss: 1.6049 - val_accuracy: 0.8595\n",
            "Epoch 12/20\n",
            "30/30 [==============================] - 1s 36ms/step - loss: 5.7453e-04 - accuracy: 0.9997 - val_loss: 1.6512 - val_accuracy: 0.8603\n",
            "Epoch 13/20\n",
            "30/30 [==============================] - 1s 37ms/step - loss: 1.7837e-06 - accuracy: 1.0000 - val_loss: 1.6468 - val_accuracy: 0.8601\n",
            "Epoch 14/20\n",
            "30/30 [==============================] - 1s 36ms/step - loss: 1.2684e-06 - accuracy: 1.0000 - val_loss: 1.6505 - val_accuracy: 0.8611\n",
            "Epoch 15/20\n",
            "30/30 [==============================] - 1s 36ms/step - loss: 1.0421e-06 - accuracy: 1.0000 - val_loss: 1.6549 - val_accuracy: 0.8610\n",
            "Epoch 16/20\n",
            "30/30 [==============================] - 1s 37ms/step - loss: 8.7646e-07 - accuracy: 1.0000 - val_loss: 1.6647 - val_accuracy: 0.8615\n",
            "Epoch 17/20\n",
            "30/30 [==============================] - 1s 36ms/step - loss: 7.1571e-07 - accuracy: 1.0000 - val_loss: 1.6925 - val_accuracy: 0.8610\n",
            "Epoch 18/20\n",
            "30/30 [==============================] - 1s 36ms/step - loss: 4.6249e-04 - accuracy: 0.9999 - val_loss: 1.7997 - val_accuracy: 0.8554\n",
            "Epoch 19/20\n",
            "30/30 [==============================] - 1s 37ms/step - loss: 1.8083e-06 - accuracy: 1.0000 - val_loss: 1.7413 - val_accuracy: 0.8597\n",
            "Epoch 20/20\n",
            "30/30 [==============================] - 1s 36ms/step - loss: 6.5673e-07 - accuracy: 1.0000 - val_loss: 1.7403 - val_accuracy: 0.8591\n"
          ],
          "name": "stdout"
        }
      ]
    },
    {
      "cell_type": "code",
      "metadata": {
        "colab": {
          "base_uri": "https://localhost:8080/"
        },
        "id": "KOK0RjUxQTC_",
        "outputId": "8b2d4df4-e782-4382-e350-d2539d010726"
      },
      "source": [
        "Bigger_history= Bigger_model.fit(partial_x_train,\r\n",
        "                    partial_y_train,\r\n",
        "                    epochs=20,\r\n",
        "                    batch_size=512,\r\n",
        "                    validation_data=(x_val, y_val))"
      ],
      "execution_count": null,
      "outputs": [
        {
          "output_type": "stream",
          "text": [
            "Epoch 1/20\n",
            "30/30 [==============================] - 1s 43ms/step - loss: 8.5526e-06 - accuracy: 1.0000 - val_loss: 1.6666 - val_accuracy: 0.8499\n",
            "Epoch 2/20\n",
            "30/30 [==============================] - 1s 36ms/step - loss: 0.0081 - accuracy: 0.9987 - val_loss: 1.5809 - val_accuracy: 0.8579\n",
            "Epoch 3/20\n",
            "30/30 [==============================] - 1s 37ms/step - loss: 6.3519e-06 - accuracy: 1.0000 - val_loss: 1.5877 - val_accuracy: 0.8578\n",
            "Epoch 4/20\n",
            "30/30 [==============================] - 1s 37ms/step - loss: 5.4386e-06 - accuracy: 1.0000 - val_loss: 1.5956 - val_accuracy: 0.8572\n",
            "Epoch 5/20\n",
            "30/30 [==============================] - 1s 36ms/step - loss: 4.6619e-06 - accuracy: 1.0000 - val_loss: 1.6090 - val_accuracy: 0.8579\n",
            "Epoch 6/20\n",
            "30/30 [==============================] - 1s 36ms/step - loss: 3.7521e-06 - accuracy: 1.0000 - val_loss: 1.6472 - val_accuracy: 0.8581\n",
            "Epoch 7/20\n",
            "30/30 [==============================] - 1s 37ms/step - loss: 2.4092e-06 - accuracy: 1.0000 - val_loss: 1.7377 - val_accuracy: 0.8592\n",
            "Epoch 8/20\n",
            "30/30 [==============================] - 1s 37ms/step - loss: 0.0054 - accuracy: 0.9990 - val_loss: 1.8045 - val_accuracy: 0.8549\n",
            "Epoch 9/20\n",
            "30/30 [==============================] - 1s 36ms/step - loss: 2.6385e-05 - accuracy: 1.0000 - val_loss: 1.8814 - val_accuracy: 0.8510\n",
            "Epoch 10/20\n",
            "30/30 [==============================] - 1s 36ms/step - loss: 1.0693e-05 - accuracy: 1.0000 - val_loss: 1.8303 - val_accuracy: 0.8541\n",
            "Epoch 11/20\n",
            "30/30 [==============================] - 1s 36ms/step - loss: 2.1959e-06 - accuracy: 1.0000 - val_loss: 1.8246 - val_accuracy: 0.8558\n",
            "Epoch 12/20\n",
            "30/30 [==============================] - 1s 37ms/step - loss: 1.3732e-06 - accuracy: 1.0000 - val_loss: 1.8346 - val_accuracy: 0.8554\n",
            "Epoch 13/20\n",
            "30/30 [==============================] - 1s 37ms/step - loss: 9.6280e-07 - accuracy: 1.0000 - val_loss: 1.8643 - val_accuracy: 0.8560\n",
            "Epoch 14/20\n",
            "30/30 [==============================] - 1s 37ms/step - loss: 6.0595e-07 - accuracy: 1.0000 - val_loss: 1.9618 - val_accuracy: 0.8561\n",
            "Epoch 15/20\n",
            "30/30 [==============================] - 1s 36ms/step - loss: 0.0025 - accuracy: 0.9993 - val_loss: 2.0178 - val_accuracy: 0.8564\n",
            "Epoch 16/20\n",
            "30/30 [==============================] - 1s 37ms/step - loss: 1.2270e-06 - accuracy: 1.0000 - val_loss: 1.9924 - val_accuracy: 0.8575\n",
            "Epoch 17/20\n",
            "30/30 [==============================] - 1s 37ms/step - loss: 6.4145e-07 - accuracy: 1.0000 - val_loss: 1.9871 - val_accuracy: 0.8573\n",
            "Epoch 18/20\n",
            "30/30 [==============================] - 1s 36ms/step - loss: 4.5215e-07 - accuracy: 1.0000 - val_loss: 1.9863 - val_accuracy: 0.8586\n",
            "Epoch 19/20\n",
            "30/30 [==============================] - 1s 35ms/step - loss: 3.3403e-07 - accuracy: 1.0000 - val_loss: 1.9910 - val_accuracy: 0.8578\n",
            "Epoch 20/20\n",
            "30/30 [==============================] - 1s 36ms/step - loss: 2.6376e-07 - accuracy: 1.0000 - val_loss: 2.0057 - val_accuracy: 0.8579\n"
          ],
          "name": "stdout"
        }
      ]
    },
    {
      "cell_type": "code",
      "metadata": {
        "colab": {
          "base_uri": "https://localhost:8080/"
        },
        "id": "eu5ifuqDsCuX",
        "outputId": "48d8f827-dd56-4300-b5fb-f8ac6952c48f"
      },
      "source": [
        "Bigger_model.fit(x_train, y_train, epochs=4, batch_size=512)\r\n",
        "results = model.evaluate(x_test, y_test)"
      ],
      "execution_count": null,
      "outputs": [
        {
          "output_type": "stream",
          "text": [
            "Epoch 1/4\n",
            "49/49 [==============================] - 4s 77ms/step - loss: 0.6190 - accuracy: 0.9423\n",
            "Epoch 2/4\n",
            "49/49 [==============================] - 4s 79ms/step - loss: 0.2444 - accuracy: 0.9555\n",
            "Epoch 3/4\n",
            "49/49 [==============================] - 3s 65ms/step - loss: 0.1402 - accuracy: 0.9643\n",
            "Epoch 4/4\n",
            "49/49 [==============================] - 3s 67ms/step - loss: 0.1059 - accuracy: 0.9708\n",
            "782/782 [==============================] - 11s 13ms/step - loss: 1.6732 - accuracy: 0.8801\n"
          ],
          "name": "stdout"
        }
      ]
    },
    {
      "cell_type": "markdown",
      "metadata": {
        "id": "dipUGQgAdEtN"
      },
      "source": [
        "Results summary: Increasing hidden layers hasn't changed accuracy on training data and slightly decreased accuracy on validation from %85.91 to %85795. We will keep experimenting with parameters to get better results "
      ]
    },
    {
      "cell_type": "code",
      "metadata": {
        "id": "ZABtUfO-dEtO",
        "colab": {
          "base_uri": "https://localhost:8080/"
        },
        "outputId": "2f4d8cce-024d-4227-8792-8d47c7231a9c"
      },
      "source": [
        "# `model.fit()` returns a `History` object. This object has a member `history`, which is a dictionary containing data \n",
        "#about everything that happened during training.\n",
        "\n",
        "history_dict1 = Original_history.history\n",
        "history_dict1.keys()\n",
        "\n",
        "history_dict2 = Bigger_history.history\n",
        "history_dict1.keys()"
      ],
      "execution_count": null,
      "outputs": [
        {
          "output_type": "execute_result",
          "data": {
            "text/plain": [
              "dict_keys(['loss', 'accuracy', 'val_loss', 'val_accuracy'])"
            ]
          },
          "metadata": {
            "tags": []
          },
          "execution_count": 39
        }
      ]
    },
    {
      "cell_type": "markdown",
      "metadata": {
        "id": "eV62SFHndEtO"
      },
      "source": [
        "Let's use Matplotlib to plot validation loss for the original model and bigger model"
      ]
    },
    {
      "cell_type": "code",
      "metadata": {
        "id": "-A7a-kqSdEtO",
        "colab": {
          "base_uri": "https://localhost:8080/",
          "height": 294
        },
        "outputId": "25a95f10-873e-4850-9995-8a14eb5425a0"
      },
      "source": [
        "import matplotlib.pyplot as plt\n",
        "\n",
        "epochs = range(1, 21)\n",
        "original_val_loss = Original_history.history['val_loss']\n",
        "bigger_model_val_loss = Bigger_history.history['val_loss']\n",
        "\n",
        "\n",
        "# bo is for \"blue dot\"\n",
        "plt.plot(epochs, original_val_loss, 'bo', label='Original model')\n",
        "# \"b\" is for \"blue line\"\n",
        "plt.plot(epochs, bigger_model_val_loss, 'b', label='Bigger model')\n",
        "plt.title('Validation Loss')\n",
        "plt.xlabel('Epochs')\n",
        "plt.ylabel('Validation loss')\n",
        "plt.legend()\n",
        "\n",
        "plt.show()\n"
      ],
      "execution_count": null,
      "outputs": [
        {
          "output_type": "display_data",
          "data": {
            "image/png": "[encoded data removed]",
            "text/plain": [
              "<Figure size 432x288 with 1 Axes>"
            ]
          },
          "metadata": {
            "tags": [],
            "needs_background": "light"
          }
        }
      ]
    },
    {
      "cell_type": "markdown",
      "metadata": {
        "id": "gTWbJ07pWFhN"
      },
      "source": [
        "We can see here how the validation loss using bigger model was small after 5 epochs compared to the orignal model with 2 hidden layers"
      ]
    },
    {
      "cell_type": "code",
      "metadata": {
        "id": "zfQgvyemdEtP",
        "colab": {
          "base_uri": "https://localhost:8080/",
          "height": 294
        },
        "outputId": "327e0059-be34-45af-dd24-52a9c455aa68"
      },
      "source": [
        "plt.clf()   # clear figure\n",
        "Original_accuracy = Original_history.history['val_accuracy']\n",
        "Bigger_accuracy = Bigger_history.history['val_accuracy']\n",
        "\n",
        "plt.plot(epochs, Original_accuracy, 'bo', label='Original acc')\n",
        "plt.plot(epochs, Bigger_accuracy, 'b', label='Bigger acc')\n",
        "plt.title('Validation accuracy')\n",
        "plt.xlabel('Epochs')\n",
        "plt.ylabel('Validation Accuracy')\n",
        "plt.legend()\n",
        "\n",
        "plt.show()"
      ],
      "execution_count": null,
      "outputs": [
        {
          "output_type": "display_data",
          "data": {
            "image/png": "[encoded data removed]",
            "text/plain": [
              "<Figure size 432x288 with 1 Axes>"
            ]
          },
          "metadata": {
            "tags": [],
            "needs_background": "light"
          }
        }
      ]
    },
    {
      "cell_type": "markdown",
      "metadata": {
        "id": "rwdZ_0tY-3HC"
      },
      "source": [
        "Let's evaluate it on our test data:"
      ]
    },
    {
      "cell_type": "code",
      "metadata": {
        "id": "PRgHVBLDdEtQ",
        "colab": {
          "base_uri": "https://localhost:8080/"
        },
        "outputId": "b8e814f5-2f78-4e7e-e847-b78f5313dd2c"
      },
      "source": [
        "model = models.Sequential()\n",
        "model.add(layers.Dense(16, activation='relu', input_shape=(10000,)))\n",
        "model.add(layers.Dense(16, activation='relu'))\n",
        "model.add(layers.Dense(16, activation='relu'))\n",
        "model.add(layers.Dense(1, activation='sigmoid'))\n",
        "\n",
        "model.compile(optimizer='rmsprop',\n",
        "              loss='binary_crossentropy',\n",
        "              metrics=['accuracy'])\n",
        "\n",
        "model.fit(x_train, y_train, epochs=4, batch_size=512)\n",
        "results = model.evaluate(x_test, y_test)"
      ],
      "execution_count": null,
      "outputs": [
        {
          "output_type": "stream",
          "text": [
            "Epoch 1/20\n",
            "49/49 [==============================] - 2s 29ms/step - loss: 0.5550 - accuracy: 0.7272\n",
            "Epoch 2/20\n",
            "49/49 [==============================] - 1s 28ms/step - loss: 0.2637 - accuracy: 0.9099\n",
            "Epoch 3/20\n",
            "49/49 [==============================] - 1s 29ms/step - loss: 0.1963 - accuracy: 0.9301\n",
            "Epoch 4/20\n",
            "49/49 [==============================] - 1s 29ms/step - loss: 0.1599 - accuracy: 0.9432\n",
            "Epoch 5/20\n",
            "49/49 [==============================] - 1s 28ms/step - loss: 0.1429 - accuracy: 0.9501\n",
            "Epoch 6/20\n",
            "49/49 [==============================] - 1s 29ms/step - loss: 0.1179 - accuracy: 0.9597\n",
            "Epoch 7/20\n",
            "49/49 [==============================] - 1s 29ms/step - loss: 0.1064 - accuracy: 0.9642\n",
            "Epoch 8/20\n",
            "49/49 [==============================] - 1s 29ms/step - loss: 0.0833 - accuracy: 0.9741\n",
            "Epoch 9/20\n",
            "49/49 [==============================] - 1s 29ms/step - loss: 0.0703 - accuracy: 0.9778\n",
            "Epoch 10/20\n",
            "49/49 [==============================] - 1s 29ms/step - loss: 0.0617 - accuracy: 0.9809\n",
            "Epoch 11/20\n",
            "49/49 [==============================] - 1s 29ms/step - loss: 0.0490 - accuracy: 0.9858\n",
            "Epoch 12/20\n",
            "49/49 [==============================] - 1s 30ms/step - loss: 0.0419 - accuracy: 0.9872\n",
            "Epoch 13/20\n",
            "49/49 [==============================] - 1s 29ms/step - loss: 0.0313 - accuracy: 0.9915\n",
            "Epoch 14/20\n",
            "49/49 [==============================] - 1s 29ms/step - loss: 0.0326 - accuracy: 0.9910\n",
            "Epoch 15/20\n",
            "49/49 [==============================] - 1s 29ms/step - loss: 0.0211 - accuracy: 0.9948\n",
            "Epoch 16/20\n",
            "49/49 [==============================] - 1s 29ms/step - loss: 0.0191 - accuracy: 0.9946\n",
            "Epoch 17/20\n",
            "49/49 [==============================] - 1s 29ms/step - loss: 0.0123 - accuracy: 0.9968\n",
            "Epoch 18/20\n",
            "49/49 [==============================] - 1s 29ms/step - loss: 0.0105 - accuracy: 0.9973\n",
            "Epoch 19/20\n",
            "49/49 [==============================] - 1s 30ms/step - loss: 0.0103 - accuracy: 0.9972\n",
            "Epoch 20/20\n",
            "49/49 [==============================] - 1s 29ms/step - loss: 0.0077 - accuracy: 0.9981\n",
            "782/782 [==============================] - 2s 2ms/step - loss: 0.9298 - accuracy: 0.8514\n"
          ],
          "name": "stdout"
        }
      ]
    },
    {
      "cell_type": "code",
      "metadata": {
        "id": "weUyiYD5dEtQ",
        "colab": {
          "base_uri": "https://localhost:8080/"
        },
        "outputId": "499829be-565c-4992-f769-191a554c2995"
      },
      "source": [
        "results"
      ],
      "execution_count": null,
      "outputs": [
        {
          "output_type": "execute_result",
          "data": {
            "text/plain": [
              "[0.9298104643821716, 0.8514000177383423]"
            ]
          },
          "metadata": {
            "tags": []
          },
          "execution_count": 44
        }
      ]
    },
    {
      "cell_type": "markdown",
      "metadata": {
        "id": "6JjJnO6ydEtR"
      },
      "source": [
        "On Unseen data, the 3 hidden layer model achieved an accuracy of 85%. "
      ]
    },
    {
      "cell_type": "code",
      "metadata": {
        "colab": {
          "base_uri": "https://localhost:8080/",
          "height": 294
        },
        "id": "r8NA-cz6JzJb",
        "outputId": "c035c9fd-ed40-40b0-a99f-cf7b9187327e"
      },
      "source": [
        "import matplotlib.pyplot as plt\r\n",
        "\r\n",
        "acc = Bigger_history.history['accuracy']\r\n",
        "val_acc = Bigger_history.history['val_accuracy']\r\n",
        "loss = Bigger_history.history['loss']\r\n",
        "val_loss = Bigger_history.history['val_loss']\r\n",
        "\r\n",
        "\r\n",
        "acc_values = history_dict2['accuracy']\r\n",
        "val_acc_values = history_dict2['val_accuracy']\r\n",
        "\r\n",
        "plt.plot(epochs, acc, 'bo', label='Training acc')\r\n",
        "plt.plot(epochs, val_acc, 'b', label='Validation acc')\r\n",
        "plt.title('Training and validation accuracy')\r\n",
        "plt.xlabel('Epochs')\r\n",
        "plt.ylabel('Loss')\r\n",
        "plt.legend()\r\n",
        "\r\n",
        "plt.show()"
      ],
      "execution_count": null,
      "outputs": [
        {
          "output_type": "display_data",
          "data": {
            "image/png": "[encoded data removed]",
            "text/plain": [
              "<Figure size 432x288 with 1 Axes>"
            ]
          },
          "metadata": {
            "tags": [],
            "needs_background": "light"
          }
        }
      ]
    },
    {
      "cell_type": "markdown",
      "metadata": {
        "id": "LGSoXfjxLZvw"
      },
      "source": [
        "As we can see training and validation accuracy hasn't increased nor decreased on our bigger model with one more layer. Next we will try adding more hidden units."
      ]
    },
    {
      "cell_type": "markdown",
      "metadata": {
        "id": "s9gKTQYmcPIj"
      },
      "source": [
        "##Adding more hiddin units to the hidden layers: \r\n",
        "\r\n",
        "For this section we see how increaing the hidden units in each layer had improved model accuracy to 100% on training data, 88.96% on validation data, and 88% on test data as the results show below:\r\n"
      ]
    },
    {
      "cell_type": "code",
      "metadata": {
        "colab": {
          "base_uri": "https://localhost:8080/"
        },
        "id": "kbAct6H8cjS8",
        "outputId": "a6dadcd2-02ea-4eff-9178-d9892e4afd91"
      },
      "source": [
        "model = models.Sequential()\r\n",
        "model.add(layers.Dense(512, activation='relu', input_shape=(10000,)))\r\n",
        "model.add(layers.Dense(512, activation='relu'))\r\n",
        "model.add(layers.Dense(512, activation='relu'))\r\n",
        "model.add(layers.Dense(1, activation='sigmoid'))\r\n",
        "\r\n",
        "model.compile(optimizer='rmsprop',\r\n",
        "              loss='binary_crossentropy',\r\n",
        "              metrics=['accuracy'])\r\n",
        "\r\n",
        "history= model.fit(partial_x_train,\r\n",
        "                    partial_y_train,\r\n",
        "                    epochs=20,\r\n",
        "                    batch_size=512,\r\n",
        "                    validation_data=(x_val, y_val))\r\n"
      ],
      "execution_count": null,
      "outputs": [
        {
          "output_type": "stream",
          "text": [
            "Epoch 1/20\n",
            "30/30 [==============================] - 10s 329ms/step - loss: 0.7047 - accuracy: 0.6279 - val_loss: 0.3866 - val_accuracy: 0.8268\n",
            "Epoch 2/20\n",
            "30/30 [==============================] - 9s 313ms/step - loss: 0.2926 - accuracy: 0.8792 - val_loss: 0.3793 - val_accuracy: 0.8470\n",
            "Epoch 3/20\n",
            "30/30 [==============================] - 9s 313ms/step - loss: 0.1613 - accuracy: 0.9365 - val_loss: 0.3760 - val_accuracy: 0.8529\n",
            "Epoch 4/20\n",
            "30/30 [==============================] - 13s 455ms/step - loss: 0.0688 - accuracy: 0.9782 - val_loss: 0.4291 - val_accuracy: 0.8760\n",
            "Epoch 5/20\n",
            "30/30 [==============================] - 9s 314ms/step - loss: 0.0369 - accuracy: 0.9885 - val_loss: 0.4890 - val_accuracy: 0.8836\n",
            "Epoch 6/20\n",
            "30/30 [==============================] - 9s 313ms/step - loss: 0.0017 - accuracy: 0.9998 - val_loss: 0.6422 - val_accuracy: 0.8885\n",
            "Epoch 7/20\n",
            "30/30 [==============================] - 9s 313ms/step - loss: 6.2134e-05 - accuracy: 1.0000 - val_loss: 0.7783 - val_accuracy: 0.8894\n",
            "Epoch 8/20\n",
            "30/30 [==============================] - 9s 314ms/step - loss: 7.7329e-06 - accuracy: 1.0000 - val_loss: 0.8888 - val_accuracy: 0.8887\n",
            "Epoch 9/20\n",
            "30/30 [==============================] - 9s 317ms/step - loss: 1.5525e-06 - accuracy: 1.0000 - val_loss: 0.9827 - val_accuracy: 0.8894\n",
            "Epoch 10/20\n",
            "30/30 [==============================] - 9s 316ms/step - loss: 2.6748e-07 - accuracy: 1.0000 - val_loss: 1.0695 - val_accuracy: 0.8893\n",
            "Epoch 11/20\n",
            "30/30 [==============================] - 9s 318ms/step - loss: 8.7049e-08 - accuracy: 1.0000 - val_loss: 1.1355 - val_accuracy: 0.8887\n",
            "Epoch 12/20\n",
            "30/30 [==============================] - 9s 315ms/step - loss: 3.2860e-08 - accuracy: 1.0000 - val_loss: 1.1978 - val_accuracy: 0.8881\n",
            "Epoch 13/20\n",
            "30/30 [==============================] - 9s 315ms/step - loss: 1.6871e-08 - accuracy: 1.0000 - val_loss: 1.2481 - val_accuracy: 0.8895\n",
            "Epoch 14/20\n",
            "30/30 [==============================] - 9s 317ms/step - loss: 7.9718e-09 - accuracy: 1.0000 - val_loss: 1.2848 - val_accuracy: 0.8893\n",
            "Epoch 15/20\n",
            "30/30 [==============================] - 9s 318ms/step - loss: 5.8417e-09 - accuracy: 1.0000 - val_loss: 1.3104 - val_accuracy: 0.8884\n",
            "Epoch 16/20\n",
            "30/30 [==============================] - 9s 318ms/step - loss: 4.1508e-09 - accuracy: 1.0000 - val_loss: 1.3288 - val_accuracy: 0.8894\n",
            "Epoch 17/20\n",
            "30/30 [==============================] - 10s 320ms/step - loss: 3.3224e-09 - accuracy: 1.0000 - val_loss: 1.3433 - val_accuracy: 0.8893\n",
            "Epoch 18/20\n",
            "30/30 [==============================] - 9s 318ms/step - loss: 2.6437e-09 - accuracy: 1.0000 - val_loss: 1.3552 - val_accuracy: 0.8897\n",
            "Epoch 19/20\n",
            "30/30 [==============================] - 9s 316ms/step - loss: 2.3657e-09 - accuracy: 1.0000 - val_loss: 1.3653 - val_accuracy: 0.8894\n",
            "Epoch 20/20\n",
            "30/30 [==============================] - 9s 316ms/step - loss: 2.1264e-09 - accuracy: 1.0000 - val_loss: 1.3738 - val_accuracy: 0.8896\n"
          ],
          "name": "stdout"
        }
      ]
    },
    {
      "cell_type": "code",
      "metadata": {
        "colab": {
          "base_uri": "https://localhost:8080/"
        },
        "id": "caYiF3d0djVm",
        "outputId": "8671920d-82b4-4024-fa2a-c2afaa531a4c"
      },
      "source": [
        "model.fit(x_train, y_train, epochs=4, batch_size=512)\r\n",
        "results = model.evaluate(x_test, y_test)"
      ],
      "execution_count": null,
      "outputs": [
        {
          "output_type": "stream",
          "text": [
            "Epoch 1/4\n",
            "49/49 [==============================] - 13s 260ms/step - loss: 0.6353 - accuracy: 0.9370\n",
            "Epoch 2/4\n",
            "49/49 [==============================] - 12s 250ms/step - loss: 0.0847 - accuracy: 0.9735\n",
            "Epoch 3/4\n",
            "49/49 [==============================] - 12s 252ms/step - loss: 0.0684 - accuracy: 0.9851\n",
            "Epoch 4/4\n",
            "49/49 [==============================] - 12s 250ms/step - loss: 0.0687 - accuracy: 0.9884\n",
            "782/782 [==============================] - 10s 13ms/step - loss: 0.7731 - accuracy: 0.8809\n"
          ],
          "name": "stdout"
        }
      ]
    },
    {
      "cell_type": "markdown",
      "metadata": {
        "id": "OtTEqVg7OuxL"
      },
      "source": [
        "Let's look at the loss and accuracy on both our training and validation datasets"
      ]
    },
    {
      "cell_type": "code",
      "metadata": {
        "colab": {
          "base_uri": "https://localhost:8080/"
        },
        "id": "TF6-IgYHQEbB",
        "outputId": "728c9ec8-9905-4dbb-eadf-cd123801f060"
      },
      "source": [
        "history_dict = history.history\r\n",
        "history_dict.keys()"
      ],
      "execution_count": null,
      "outputs": [
        {
          "output_type": "execute_result",
          "data": {
            "text/plain": [
              "dict_keys(['loss', 'accuracy', 'val_loss', 'val_accuracy'])"
            ]
          },
          "metadata": {
            "tags": []
          },
          "execution_count": 56
        }
      ]
    },
    {
      "cell_type": "code",
      "metadata": {
        "colab": {
          "base_uri": "https://localhost:8080/",
          "height": 294
        },
        "id": "pPEwC2ndOuaH",
        "outputId": "5f52599c-8f98-4c3d-8581-ef526afa50ab"
      },
      "source": [
        "\r\n",
        "acc = history.history['accuracy']\r\n",
        "val_acc = history.history['val_accuracy']\r\n",
        "loss = history.history['loss']\r\n",
        "val_loss = history.history['val_loss']\r\n",
        "\r\n",
        "epochs = range(1, len(acc) + 1)\r\n",
        "\r\n",
        "# \"bo\" is for \"blue dot\"\r\n",
        "plt.plot(epochs, loss, 'bo', label='Training loss')\r\n",
        "# b is for \"solid blue line\"\r\n",
        "plt.plot(epochs, val_loss, 'b', label='Validation loss')\r\n",
        "plt.title('Training and validation loss')\r\n",
        "plt.xlabel('Epochs')\r\n",
        "plt.ylabel('Loss')\r\n",
        "plt.legend()\r\n",
        "\r\n",
        "plt.show()"
      ],
      "execution_count": null,
      "outputs": [
        {
          "output_type": "display_data",
          "data": {
            "image/png": "[encoded data removed]",
            "text/plain": [
              "<Figure size 432x288 with 1 Axes>"
            ]
          },
          "metadata": {
            "tags": [],
            "needs_background": "light"
          }
        }
      ]
    },
    {
      "cell_type": "code",
      "metadata": {
        "colab": {
          "base_uri": "https://localhost:8080/",
          "height": 294
        },
        "id": "ebnu6Ak5PFUg",
        "outputId": "a2200019-3f32-44ff-822b-6f51ca99de64"
      },
      "source": [
        "plt.clf()   # clear figure\r\n",
        "acc_values = history_dict['accuracy']\r\n",
        "val_acc_values = history_dict['val_accuracy']\r\n",
        "\r\n",
        "plt.plot(epochs, acc, 'bo', label='Training acc')\r\n",
        "plt.plot(epochs, val_acc, 'b', label='Validation acc')\r\n",
        "plt.title('Training and validation accuracy')\r\n",
        "plt.xlabel('Epochs')\r\n",
        "plt.ylabel('Loss')\r\n",
        "plt.legend()\r\n",
        "\r\n",
        "plt.show()"
      ],
      "execution_count": null,
      "outputs": [
        {
          "output_type": "display_data",
          "data": {
            "image/png": "[encoded data removed]",
            "text/plain": [
              "<Figure size 432x288 with 1 Axes>"
            ]
          },
          "metadata": {
            "tags": [],
            "needs_background": "light"
          }
        }
      ]
    },
    {
      "cell_type": "markdown",
      "metadata": {
        "id": "G_6kNm7COuDp"
      },
      "source": [
        "Looking at the results above, it seems like our model is overfitting which means that it is not generalizing better on validation data"
      ]
    },
    {
      "cell_type": "markdown",
      "metadata": {
        "id": "S5-3INU6eEda"
      },
      "source": [
        "# Using MSE as a loss function:"
      ]
    },
    {
      "cell_type": "markdown",
      "metadata": {
        "id": "C85B9JTtDTMR"
      },
      "source": [
        "Since mse is better used for regression problems, using Mse as a loss function instead of binary_crossentropy in this classification problem has decreased accuracy for both training and validation data as the results show below:"
      ]
    },
    {
      "cell_type": "code",
      "metadata": {
        "colab": {
          "base_uri": "https://localhost:8080/"
        },
        "id": "v0jyGnsWCT6H",
        "outputId": "1af8f333-d856-4fbe-d865-e98a5999c3d0"
      },
      "source": [
        "model = models.Sequential()\r\n",
        "model.add(layers.Dense(16, activation='relu', input_shape=(10000,)))\r\n",
        "model.add(layers.Dense(16, activation='relu'))\r\n",
        "model.add(layers.Dense(1, activation='sigmoid'))\r\n",
        "\r\n",
        "model.compile(optimizer='rmsprop',\r\n",
        "              loss='mse',\r\n",
        "              metrics=['accuracy'])\r\n",
        "\r\n",
        "history_u = model.fit(partial_x_train,\r\n",
        "                    partial_y_train,\r\n",
        "                    epochs=20,\r\n",
        "                    batch_size=512,\r\n",
        "                    validation_data=(x_val, y_val))\r\n"
      ],
      "execution_count": null,
      "outputs": [
        {
          "output_type": "stream",
          "text": [
            "Epoch 1/20\n",
            "30/30 [==============================] - 2s 32ms/step - loss: 0.2086 - accuracy: 0.7014 - val_loss: 0.1239 - val_accuracy: 0.8646\n",
            "Epoch 2/20\n",
            "30/30 [==============================] - 1s 23ms/step - loss: 0.0986 - accuracy: 0.9036 - val_loss: 0.0949 - val_accuracy: 0.8869\n",
            "Epoch 3/20\n",
            "30/30 [==============================] - 1s 23ms/step - loss: 0.0682 - accuracy: 0.9332 - val_loss: 0.0881 - val_accuracy: 0.8857\n",
            "Epoch 4/20\n",
            "30/30 [==============================] - 1s 23ms/step - loss: 0.0514 - accuracy: 0.9500 - val_loss: 0.0834 - val_accuracy: 0.8878\n",
            "Epoch 5/20\n",
            "30/30 [==============================] - 1s 23ms/step - loss: 0.0396 - accuracy: 0.9611 - val_loss: 0.0889 - val_accuracy: 0.8788\n",
            "Epoch 6/20\n",
            "30/30 [==============================] - 1s 23ms/step - loss: 0.0324 - accuracy: 0.9706 - val_loss: 0.0872 - val_accuracy: 0.8789\n",
            "Epoch 7/20\n",
            "30/30 [==============================] - 1s 23ms/step - loss: 0.0260 - accuracy: 0.9778 - val_loss: 0.0852 - val_accuracy: 0.8840\n",
            "Epoch 8/20\n",
            "30/30 [==============================] - 1s 24ms/step - loss: 0.0220 - accuracy: 0.9802 - val_loss: 0.0915 - val_accuracy: 0.8774\n",
            "Epoch 9/20\n",
            "30/30 [==============================] - 1s 24ms/step - loss: 0.0175 - accuracy: 0.9844 - val_loss: 0.0908 - val_accuracy: 0.8781\n",
            "Epoch 10/20\n",
            "30/30 [==============================] - 1s 23ms/step - loss: 0.0152 - accuracy: 0.9874 - val_loss: 0.0927 - val_accuracy: 0.8765\n",
            "Epoch 11/20\n",
            "30/30 [==============================] - 1s 24ms/step - loss: 0.0117 - accuracy: 0.9907 - val_loss: 0.0969 - val_accuracy: 0.8733\n",
            "Epoch 12/20\n",
            "30/30 [==============================] - 1s 23ms/step - loss: 0.0106 - accuracy: 0.9918 - val_loss: 0.0982 - val_accuracy: 0.8734\n",
            "Epoch 13/20\n",
            "30/30 [==============================] - 1s 24ms/step - loss: 0.0077 - accuracy: 0.9944 - val_loss: 0.1018 - val_accuracy: 0.8688\n",
            "Epoch 14/20\n",
            "30/30 [==============================] - 1s 24ms/step - loss: 0.0076 - accuracy: 0.9942 - val_loss: 0.1011 - val_accuracy: 0.8713\n",
            "Epoch 15/20\n",
            "30/30 [==============================] - 1s 24ms/step - loss: 0.0066 - accuracy: 0.9946 - val_loss: 0.1024 - val_accuracy: 0.8721\n",
            "Epoch 16/20\n",
            "30/30 [==============================] - 1s 24ms/step - loss: 0.0052 - accuracy: 0.9960 - val_loss: 0.1045 - val_accuracy: 0.8685\n",
            "Epoch 17/20\n",
            "30/30 [==============================] - 1s 23ms/step - loss: 0.0051 - accuracy: 0.9958 - val_loss: 0.1061 - val_accuracy: 0.8690\n",
            "Epoch 18/20\n",
            "30/30 [==============================] - 1s 23ms/step - loss: 0.0036 - accuracy: 0.9971 - val_loss: 0.1247 - val_accuracy: 0.8477\n",
            "Epoch 19/20\n",
            "30/30 [==============================] - 1s 24ms/step - loss: 0.0043 - accuracy: 0.9967 - val_loss: 0.1094 - val_accuracy: 0.8664\n",
            "Epoch 20/20\n",
            "30/30 [==============================] - 1s 24ms/step - loss: 0.0036 - accuracy: 0.9967 - val_loss: 0.1098 - val_accuracy: 0.8653\n"
          ],
          "name": "stdout"
        }
      ]
    },
    {
      "cell_type": "code",
      "metadata": {
        "colab": {
          "base_uri": "https://localhost:8080/"
        },
        "id": "WpNCfONADyJF",
        "outputId": "c0dfbff8-d3b4-4939-e97a-631e1d45d33c"
      },
      "source": [
        "model.fit(x_train, y_train, epochs=4, batch_size=512)\r\n",
        "results = model.evaluate(x_test, y_test)"
      ],
      "execution_count": null,
      "outputs": [
        {
          "output_type": "stream",
          "text": [
            "Epoch 1/4\n",
            "49/49 [==============================] - 1s 18ms/step - loss: 0.0442 - accuracy: 0.9466\n",
            "Epoch 2/4\n",
            "49/49 [==============================] - 1s 19ms/step - loss: 0.0320 - accuracy: 0.9628\n",
            "Epoch 3/4\n",
            "49/49 [==============================] - 1s 19ms/step - loss: 0.0255 - accuracy: 0.9722\n",
            "Epoch 4/4\n",
            "49/49 [==============================] - 1s 18ms/step - loss: 0.0212 - accuracy: 0.9782\n",
            "782/782 [==============================] - 1s 2ms/step - loss: 0.1132 - accuracy: 0.8624\n"
          ],
          "name": "stdout"
        }
      ]
    },
    {
      "cell_type": "markdown",
      "metadata": {
        "id": "-4NrnlOJD7lZ"
      },
      "source": [
        "# Using 'tanh' as activation function instead of 'relu'"
      ]
    },
    {
      "cell_type": "markdown",
      "metadata": {
        "id": "xu4nmNNWEfWf"
      },
      "source": [
        "Using 'tanh' instead of 'relu' as an activation function for the same model has dropped accuracy on validation and test dataset but seemed to increase accuracy on training dataset."
      ]
    },
    {
      "cell_type": "code",
      "metadata": {
        "colab": {
          "base_uri": "https://localhost:8080/"
        },
        "id": "nLMbanj7EUhO",
        "outputId": "f3e56db1-76f3-4dab-940a-4a7f6ac26fe0"
      },
      "source": [
        "model = models.Sequential()\r\n",
        "model.add(layers.Dense(16, activation='tanh', input_shape=(10000,)))\r\n",
        "model.add(layers.Dense(16, activation='tanh'))\r\n",
        "model.add(layers.Dense(1, activation='sigmoid'))\r\n",
        "\r\n",
        "model.compile(optimizer='rmsprop',\r\n",
        "              loss='binary_crossentropy',\r\n",
        "              metrics=['accuracy'])\r\n",
        "\r\n",
        "history_u = model.fit(partial_x_train,\r\n",
        "                    partial_y_train,\r\n",
        "                    epochs=20,\r\n",
        "                    batch_size=512,\r\n",
        "                    validation_data=(x_val, y_val))"
      ],
      "execution_count": null,
      "outputs": [
        {
          "output_type": "stream",
          "text": [
            "Epoch 1/20\n",
            "30/30 [==============================] - 2s 32ms/step - loss: 0.5704 - accuracy: 0.7049 - val_loss: 0.3608 - val_accuracy: 0.8701\n",
            "Epoch 2/20\n",
            "30/30 [==============================] - 1s 23ms/step - loss: 0.2947 - accuracy: 0.9033 - val_loss: 0.2861 - val_accuracy: 0.8888\n",
            "Epoch 3/20\n",
            "30/30 [==============================] - 1s 23ms/step - loss: 0.1948 - accuracy: 0.9360 - val_loss: 0.2882 - val_accuracy: 0.8824\n",
            "Epoch 4/20\n",
            "30/30 [==============================] - 1s 24ms/step - loss: 0.1438 - accuracy: 0.9533 - val_loss: 0.2833 - val_accuracy: 0.8865\n",
            "Epoch 5/20\n",
            "30/30 [==============================] - 1s 23ms/step - loss: 0.1060 - accuracy: 0.9664 - val_loss: 0.3111 - val_accuracy: 0.8849\n",
            "Epoch 6/20\n",
            "30/30 [==============================] - 1s 23ms/step - loss: 0.0821 - accuracy: 0.9745 - val_loss: 0.3742 - val_accuracy: 0.8709\n",
            "Epoch 7/20\n",
            "30/30 [==============================] - 1s 23ms/step - loss: 0.0632 - accuracy: 0.9822 - val_loss: 0.3942 - val_accuracy: 0.8770\n",
            "Epoch 8/20\n",
            "30/30 [==============================] - 1s 23ms/step - loss: 0.0455 - accuracy: 0.9875 - val_loss: 0.4299 - val_accuracy: 0.8748\n",
            "Epoch 9/20\n",
            "30/30 [==============================] - 1s 24ms/step - loss: 0.0320 - accuracy: 0.9921 - val_loss: 0.4704 - val_accuracy: 0.8729\n",
            "Epoch 10/20\n",
            "30/30 [==============================] - 1s 24ms/step - loss: 0.0226 - accuracy: 0.9949 - val_loss: 0.5158 - val_accuracy: 0.8707\n",
            "Epoch 11/20\n",
            "30/30 [==============================] - 1s 23ms/step - loss: 0.0144 - accuracy: 0.9974 - val_loss: 0.6094 - val_accuracy: 0.8645\n",
            "Epoch 12/20\n",
            "30/30 [==============================] - 1s 23ms/step - loss: 0.0108 - accuracy: 0.9985 - val_loss: 0.6388 - val_accuracy: 0.8652\n",
            "Epoch 13/20\n",
            "30/30 [==============================] - 1s 23ms/step - loss: 0.0070 - accuracy: 0.9996 - val_loss: 0.6334 - val_accuracy: 0.8670\n",
            "Epoch 14/20\n",
            "30/30 [==============================] - 1s 23ms/step - loss: 0.0084 - accuracy: 0.9980 - val_loss: 0.6697 - val_accuracy: 0.8642\n",
            "Epoch 15/20\n",
            "30/30 [==============================] - 1s 24ms/step - loss: 0.0027 - accuracy: 0.9999 - val_loss: 0.7137 - val_accuracy: 0.8643\n",
            "Epoch 16/20\n",
            "30/30 [==============================] - 1s 24ms/step - loss: 0.0016 - accuracy: 0.9999 - val_loss: 0.8346 - val_accuracy: 0.8507\n",
            "Epoch 17/20\n",
            "30/30 [==============================] - 1s 23ms/step - loss: 0.0358 - accuracy: 0.9894 - val_loss: 0.7789 - val_accuracy: 0.8603\n",
            "Epoch 18/20\n",
            "30/30 [==============================] - 1s 25ms/step - loss: 7.5144e-04 - accuracy: 1.0000 - val_loss: 0.8184 - val_accuracy: 0.8609\n",
            "Epoch 19/20\n",
            "30/30 [==============================] - 1s 24ms/step - loss: 0.0052 - accuracy: 0.9986 - val_loss: 0.8627 - val_accuracy: 0.8585\n",
            "Epoch 20/20\n",
            "30/30 [==============================] - 1s 24ms/step - loss: 4.0862e-04 - accuracy: 1.0000 - val_loss: 0.8730 - val_accuracy: 0.8589\n"
          ],
          "name": "stdout"
        }
      ]
    },
    {
      "cell_type": "code",
      "metadata": {
        "colab": {
          "base_uri": "https://localhost:8080/"
        },
        "id": "3jJphhhvHCWA",
        "outputId": "06763a95-8a11-4b7b-a8a7-ca9d29336f6a"
      },
      "source": [
        "model.fit(x_train, y_train, epochs=4, batch_size=512)\r\n",
        "results = model.evaluate(x_test, y_test)"
      ],
      "execution_count": null,
      "outputs": [
        {
          "output_type": "stream",
          "text": [
            "Epoch 1/4\n",
            "49/49 [==============================] - 1s 20ms/step - loss: 0.0448 - accuracy: 0.9466\n",
            "Epoch 2/4\n",
            "49/49 [==============================] - 1s 19ms/step - loss: 0.0331 - accuracy: 0.9629\n",
            "Epoch 3/4\n",
            "49/49 [==============================] - 1s 20ms/step - loss: 0.0270 - accuracy: 0.9704\n",
            "Epoch 4/4\n",
            "49/49 [==============================] - 1s 19ms/step - loss: 0.0232 - accuracy: 0.9758\n",
            "782/782 [==============================] - 2s 2ms/step - loss: 0.1167 - accuracy: 0.8590\n"
          ],
          "name": "stdout"
        }
      ]
    },
    {
      "cell_type": "markdown",
      "metadata": {
        "id": "B35MKT2ZHRVg"
      },
      "source": [
        "# DROPOUT as a reguliarization method to prevent overfitting\r\n",
        "\r\n",
        "To improve model performance on validation dataset, a number of output features of the layer will be randomly dropped out. we will use a dropout rate of 0.5 on the model we have build earlier:"
      ]
    },
    {
      "cell_type": "code",
      "metadata": {
        "colab": {
          "base_uri": "https://localhost:8080/"
        },
        "id": "SYPAlpe1JFlP",
        "outputId": "317ae20a-fe64-45d0-9b4e-03a46b7ab4d3"
      },
      "source": [
        "dpt_model = models.Sequential()\r\n",
        "dpt_model.add(layers.Dense(512, activation='relu', input_shape=(10000,)))\r\n",
        "dpt_model.add(layers.Dropout(0.5))\r\n",
        "dpt_model.add(layers.Dense(512, activation='relu'))\r\n",
        "dpt_model.add(layers.Dropout(0.5))\r\n",
        "dpt_model.add(layers.Dense(1, activation='sigmoid'))\r\n",
        "\r\n",
        "dpt_model.compile(optimizer='rmsprop',\r\n",
        "                  loss='binary_crossentropy',\r\n",
        "                  metrics=['acc'])\r\n",
        "\r\n",
        "dpt_model_hist = dpt_model.fit(x_train, y_train,\r\n",
        "                               epochs=20,\r\n",
        "                               batch_size=512,\r\n",
        "                               validation_data=(x_test, y_test))\r\n"
      ],
      "execution_count": null,
      "outputs": [
        {
          "output_type": "stream",
          "text": [
            "Epoch 1/20\n",
            "49/49 [==============================] - 22s 445ms/step - loss: 0.5984 - acc: 0.7014 - val_loss: 0.3171 - val_acc: 0.8670\n",
            "Epoch 2/20\n",
            "49/49 [==============================] - 17s 344ms/step - loss: 0.2527 - acc: 0.8999 - val_loss: 0.3622 - val_acc: 0.8518\n",
            "Epoch 3/20\n",
            "49/49 [==============================] - 17s 347ms/step - loss: 0.1836 - acc: 0.9284 - val_loss: 0.3284 - val_acc: 0.8735\n",
            "Epoch 4/20\n",
            "49/49 [==============================] - 17s 341ms/step - loss: 0.1183 - acc: 0.9573 - val_loss: 0.5213 - val_acc: 0.8156\n",
            "Epoch 5/20\n",
            "49/49 [==============================] - 17s 343ms/step - loss: 0.0770 - acc: 0.9739 - val_loss: 0.4193 - val_acc: 0.8826\n",
            "Epoch 6/20\n",
            "49/49 [==============================] - 17s 342ms/step - loss: 0.0554 - acc: 0.9855 - val_loss: 0.5348 - val_acc: 0.8826\n",
            "Epoch 7/20\n",
            "49/49 [==============================] - 17s 342ms/step - loss: 0.0383 - acc: 0.9890 - val_loss: 0.6404 - val_acc: 0.8799\n",
            "Epoch 8/20\n",
            "49/49 [==============================] - 17s 343ms/step - loss: 0.0598 - acc: 0.9874 - val_loss: 0.6585 - val_acc: 0.8812\n",
            "Epoch 9/20\n",
            "49/49 [==============================] - 17s 341ms/step - loss: 0.0082 - acc: 0.9986 - val_loss: 0.5944 - val_acc: 0.8808\n",
            "Epoch 10/20\n",
            "49/49 [==============================] - 17s 344ms/step - loss: 0.0056 - acc: 0.9994 - val_loss: 0.8710 - val_acc: 0.8780\n",
            "Epoch 11/20\n",
            "49/49 [==============================] - 17s 341ms/step - loss: 0.0504 - acc: 0.9926 - val_loss: 0.7995 - val_acc: 0.8812\n",
            "Epoch 12/20\n",
            "49/49 [==============================] - 17s 340ms/step - loss: 0.0033 - acc: 0.9996 - val_loss: 0.9354 - val_acc: 0.8724\n",
            "Epoch 13/20\n",
            "49/49 [==============================] - 17s 342ms/step - loss: 0.0058 - acc: 0.9984 - val_loss: 2.5847 - val_acc: 0.7682\n",
            "Epoch 14/20\n",
            "49/49 [==============================] - 17s 341ms/step - loss: 0.1028 - acc: 0.9828 - val_loss: 1.0092 - val_acc: 0.8774\n",
            "Epoch 15/20\n",
            "49/49 [==============================] - 17s 340ms/step - loss: 0.0303 - acc: 0.9954 - val_loss: 0.9460 - val_acc: 0.8796\n",
            "Epoch 16/20\n",
            "49/49 [==============================] - 17s 342ms/step - loss: 0.0043 - acc: 0.9992 - val_loss: 1.0271 - val_acc: 0.8778\n",
            "Epoch 17/20\n",
            "49/49 [==============================] - 17s 344ms/step - loss: 0.0037 - acc: 0.9993 - val_loss: 1.1506 - val_acc: 0.8794\n",
            "Epoch 18/20\n",
            "49/49 [==============================] - 17s 343ms/step - loss: 0.0196 - acc: 0.9971 - val_loss: 1.0649 - val_acc: 0.8776\n",
            "Epoch 19/20\n",
            "49/49 [==============================] - 17s 340ms/step - loss: 0.0127 - acc: 0.9980 - val_loss: 1.0550 - val_acc: 0.8772\n",
            "Epoch 20/20\n",
            "49/49 [==============================] - 17s 340ms/step - loss: 0.0394 - acc: 0.9956 - val_loss: 1.2060 - val_acc: 0.8683\n"
          ],
          "name": "stdout"
        }
      ]
    },
    {
      "cell_type": "code",
      "metadata": {
        "colab": {
          "base_uri": "https://localhost:8080/"
        },
        "id": "WDDYu7NRs3JH",
        "outputId": "f93ad673-2bb6-42b0-89ba-59749557d04b"
      },
      "source": [
        "model.fit(x_train, y_train, epochs=4, batch_size=512)\r\n",
        "results = model.evaluate(x_test, y_test)"
      ],
      "execution_count": null,
      "outputs": [
        {
          "output_type": "stream",
          "text": [
            "Epoch 1/4\n",
            "49/49 [==============================] - 13s 257ms/step - loss: 3.0963e-09 - accuracy: 1.0000\n",
            "Epoch 2/4\n",
            "49/49 [==============================] - 13s 257ms/step - loss: 2.2012e-09 - accuracy: 1.0000\n",
            "Epoch 3/4\n",
            "49/49 [==============================] - 13s 258ms/step - loss: 1.7245e-09 - accuracy: 1.0000\n",
            "Epoch 4/4\n",
            "49/49 [==============================] - 13s 257ms/step - loss: 1.4305e-09 - accuracy: 1.0000\n",
            "782/782 [==============================] - 10s 13ms/step - loss: 1.7704 - accuracy: 0.8798\n"
          ],
          "name": "stdout"
        }
      ]
    },
    {
      "cell_type": "markdown",
      "metadata": {
        "id": "MScQtsxKSgZU"
      },
      "source": [
        "**Let's plot the results**:\r\n"
      ]
    },
    {
      "cell_type": "code",
      "metadata": {
        "colab": {
          "base_uri": "https://localhost:8080/",
          "height": 278
        },
        "id": "lVlKTNGpShOh",
        "outputId": "1a22d7aa-e150-42d9-99be-97a603439c36"
      },
      "source": [
        "dpt_model_val_loss = dpt_model_hist.history['val_loss']\r\n",
        "\r\n",
        "plt.plot(epochs, original_val_loss, 'b+', label='Original model')\r\n",
        "plt.plot(epochs, dpt_model_val_loss, 'bo', label='Dropout-regularized model')\r\n",
        "plt.xlabel('Epochs')\r\n",
        "plt.ylabel('Validation loss')\r\n",
        "plt.legend()\r\n",
        "\r\n",
        "plt.show()\r\n"
      ],
      "execution_count": null,
      "outputs": [
        {
          "output_type": "display_data",
          "data": {
            "image/png": "[encoded data removed]",
            "text/plain": [
              "<Figure size 432x288 with 1 Axes>"
            ]
          },
          "metadata": {
            "tags": [],
            "needs_background": "light"
          }
        }
      ]
    },
    {
      "cell_type": "markdown",
      "metadata": {
        "id": "8tSZ6CcrShFo"
      },
      "source": [
        "In this graph, we can see the different validation loss on both the original model and the regularized model"
      ]
    },
    {
      "cell_type": "markdown",
      "metadata": {
        "id": "PAas9_gJrKzz"
      },
      "source": [
        "Here we tried increasing the hidden layers and use same dropout rate and same units number and we can see how the model did better"
      ]
    },
    {
      "cell_type": "code",
      "metadata": {
        "colab": {
          "base_uri": "https://localhost:8080/"
        },
        "id": "sIsu9CZLo9Q8",
        "outputId": "60cf99ba-892f-45ab-d97c-27ce7acf9c50"
      },
      "source": [
        "dpt_model = models.Sequential()\r\n",
        "dpt_model.add(layers.Dense(512, activation='relu', input_shape=(10000,)))\r\n",
        "dpt_model.add(layers.Dropout(0.5))\r\n",
        "dpt_model.add(layers.Dense(512, activation='relu'))\r\n",
        "dpt_model.add(layers.Dropout(0.5))\r\n",
        "dpt_model.add(layers.Dense(512, activation='relu'))\r\n",
        "dpt_model.add(layers.Dropout(0.5))\r\n",
        "dpt_model.add(layers.Dense(1, activation='sigmoid'))\r\n",
        "\r\n",
        "dpt_model.compile(optimizer='rmsprop',\r\n",
        "                  loss='binary_crossentropy',\r\n",
        "                  metrics=['acc'])\r\n",
        "\r\n",
        "dpt_model_hist = dpt_model.fit(x_train, y_train,\r\n",
        "                               epochs=20,\r\n",
        "                               batch_size=512,\r\n",
        "                               validation_data=(x_test, y_test))"
      ],
      "execution_count": null,
      "outputs": [
        {
          "output_type": "stream",
          "text": [
            "Epoch 1/20\n",
            "49/49 [==============================] - 25s 492ms/step - loss: 0.6301 - acc: 0.6721 - val_loss: 0.3542 - val_acc: 0.8468\n",
            "Epoch 2/20\n",
            "49/49 [==============================] - 22s 455ms/step - loss: 0.2828 - acc: 0.8869 - val_loss: 0.3394 - val_acc: 0.8483\n",
            "Epoch 3/20\n",
            "49/49 [==============================] - 18s 363ms/step - loss: 0.1883 - acc: 0.9296 - val_loss: 0.3048 - val_acc: 0.8849\n",
            "Epoch 4/20\n",
            "49/49 [==============================] - 18s 363ms/step - loss: 0.1246 - acc: 0.9553 - val_loss: 0.3696 - val_acc: 0.8710\n",
            "Epoch 5/20\n",
            "49/49 [==============================] - 18s 363ms/step - loss: 0.0724 - acc: 0.9754 - val_loss: 0.4503 - val_acc: 0.8852\n",
            "Epoch 6/20\n",
            "49/49 [==============================] - 18s 362ms/step - loss: 0.0617 - acc: 0.9850 - val_loss: 0.5522 - val_acc: 0.8832\n",
            "Epoch 7/20\n",
            "49/49 [==============================] - 18s 361ms/step - loss: 0.0178 - acc: 0.9954 - val_loss: 0.9848 - val_acc: 0.8622\n",
            "Epoch 8/20\n",
            "49/49 [==============================] - 18s 362ms/step - loss: 0.0816 - acc: 0.9888 - val_loss: 0.7495 - val_acc: 0.8825\n",
            "Epoch 9/20\n",
            "49/49 [==============================] - 18s 363ms/step - loss: 0.0178 - acc: 0.9964 - val_loss: 0.6675 - val_acc: 0.8816\n",
            "Epoch 10/20\n",
            "49/49 [==============================] - 18s 363ms/step - loss: 0.0089 - acc: 0.9984 - val_loss: 0.7640 - val_acc: 0.8525\n",
            "Epoch 11/20\n",
            "49/49 [==============================] - 18s 362ms/step - loss: 0.0074 - acc: 0.9990 - val_loss: 1.0025 - val_acc: 0.8805\n",
            "Epoch 12/20\n",
            "49/49 [==============================] - 18s 362ms/step - loss: 0.0256 - acc: 0.9969 - val_loss: 0.6425 - val_acc: 0.8827\n",
            "Epoch 13/20\n",
            "49/49 [==============================] - 18s 363ms/step - loss: 0.0046 - acc: 0.9994 - val_loss: 0.8222 - val_acc: 0.8791\n",
            "Epoch 14/20\n",
            "49/49 [==============================] - 18s 361ms/step - loss: 0.0089 - acc: 0.9980 - val_loss: 0.8624 - val_acc: 0.8814\n",
            "Epoch 15/20\n",
            "49/49 [==============================] - 18s 364ms/step - loss: 0.0099 - acc: 0.9977 - val_loss: 1.0324 - val_acc: 0.8821\n",
            "Epoch 16/20\n",
            "49/49 [==============================] - 18s 363ms/step - loss: 0.0038 - acc: 0.9993 - val_loss: 1.4463 - val_acc: 0.8800\n",
            "Epoch 17/20\n",
            "49/49 [==============================] - 18s 362ms/step - loss: 0.0071 - acc: 0.9987 - val_loss: 1.2610 - val_acc: 0.8785\n",
            "Epoch 18/20\n",
            "49/49 [==============================] - 18s 364ms/step - loss: 0.0032 - acc: 0.9995 - val_loss: 1.4137 - val_acc: 0.8778\n",
            "Epoch 19/20\n",
            "49/49 [==============================] - 19s 382ms/step - loss: 0.0084 - acc: 0.9985 - val_loss: 1.1221 - val_acc: 0.8752\n",
            "Epoch 20/20\n",
            "49/49 [==============================] - 18s 377ms/step - loss: 0.0059 - acc: 0.9990 - val_loss: 1.1816 - val_acc: 0.8734\n"
          ],
          "name": "stdout"
        }
      ]
    },
    {
      "cell_type": "code",
      "metadata": {
        "colab": {
          "base_uri": "https://localhost:8080/"
        },
        "id": "pa8fXlVGrINF",
        "outputId": "2d202297-4472-4750-ce8f-8eafb8a7852a"
      },
      "source": [
        "model.fit(x_train, y_train, epochs=4, batch_size=512)\r\n",
        "results = model.evaluate(x_test, y_test)"
      ],
      "execution_count": null,
      "outputs": [
        {
          "output_type": "stream",
          "text": [
            "Epoch 1/4\n",
            "49/49 [==============================] - 12s 252ms/step - loss: 0.0974 - accuracy: 0.9886\n",
            "Epoch 2/4\n",
            "49/49 [==============================] - 12s 252ms/step - loss: 6.2378e-04 - accuracy: 0.9999\n",
            "Epoch 3/4\n",
            "49/49 [==============================] - 12s 252ms/step - loss: 2.0691e-05 - accuracy: 1.0000\n",
            "Epoch 4/4\n",
            "49/49 [==============================] - 12s 252ms/step - loss: 1.3497e-06 - accuracy: 1.0000\n",
            "782/782 [==============================] - 10s 13ms/step - loss: 1.3304 - accuracy: 0.8792\n"
          ],
          "name": "stdout"
        }
      ]
    },
    {
      "cell_type": "markdown",
      "metadata": {
        "id": "4heXP3kIB-xp"
      },
      "source": [
        "# Summary of the results:"
      ]
    },
    {
      "cell_type": "markdown",
      "metadata": {
        "id": "VIxNDVRWYU-1"
      },
      "source": [
        "When the model is doing well on training but not well on validation, the model might be overfitting. There are some ways that can be implemented to prevent overfitting. Dropout is one of the common methods.\n",
        "In a binary classification problem (two output classes), your network should end with a Dense layer with 1 unit and a sigmoid activation, and the loss function you should use is binary_crossentropy.\n",
        "The rmsprop optimizer is generally a good enough choice of optimizer, whatever your problem.\n",
        "\n",
        "\n",
        "\n",
        "> In the table below, we can see how the models with more hidden layers, more hidden units and the model the implemented Dropout have generalized better on both training and test data.\n",
        "\n",
        "\n"
      ]
    },
    {
      "cell_type": "code",
      "metadata": {
        "colab": {
          "base_uri": "https://localhost:8080/",
          "height": 283
        },
        "id": "tYPucNou92yx",
        "outputId": "ea64c4de-4654-47cd-e13f-71f18927c4a4"
      },
      "source": [
        "from google.colab import drive\n",
        "drive.mount('/content/drive')\n",
        "\n",
        "pd.read_excel('/content/drive/My Drive/results.xlsx')"
      ],
      "execution_count": 125,
      "outputs": [
        {
          "output_type": "stream",
          "text": [
            "Drive already mounted at /content/drive; to attempt to forcibly remount, call drive.mount(\"/content/drive\", force_remount=True).\n"
          ],
          "name": "stdout"
        },
        {
          "output_type": "execute_result",
          "data": {
            "text/html": [
              "<div>\n",
              "<style scoped>\n",
              "    .dataframe tbody tr th:only-of-type {\n",
              "        vertical-align: middle;\n",
              "    }\n",
              "\n",
              "    .dataframe tbody tr th {\n",
              "        vertical-align: top;\n",
              "    }\n",
              "\n",
              "    .dataframe thead th {\n",
              "        text-align: right;\n",
              "    }\n",
              "</style>\n",
              "<table border=\"1\" class=\"dataframe\">\n",
              "  <thead>\n",
              "    <tr style=\"text-align: right;\">\n",
              "      <th></th>\n",
              "      <th>Hyperparameters</th>\n",
              "      <th>Loss</th>\n",
              "      <th>Accuracy</th>\n",
              "      <th>Validation loss</th>\n",
              "      <th>Validation Accuracy</th>\n",
              "      <th>Test Accuracy</th>\n",
              "    </tr>\n",
              "  </thead>\n",
              "  <tbody>\n",
              "    <tr>\n",
              "      <th>0</th>\n",
              "      <td>Original Model (2 layers)</td>\n",
              "      <td>6.567300e-07</td>\n",
              "      <td>1.0000</td>\n",
              "      <td>1.7403</td>\n",
              "      <td>0.8591</td>\n",
              "      <td>0.8514</td>\n",
              "    </tr>\n",
              "    <tr>\n",
              "      <th>1</th>\n",
              "      <td>3 Layers Model</td>\n",
              "      <td>2.637600e-07</td>\n",
              "      <td>1.0000</td>\n",
              "      <td>2.0057</td>\n",
              "      <td>0.8579</td>\n",
              "      <td>0.8801</td>\n",
              "    </tr>\n",
              "    <tr>\n",
              "      <th>2</th>\n",
              "      <td>More hidden Units Model (512 units)</td>\n",
              "      <td>2.126400e-09</td>\n",
              "      <td>1.0000</td>\n",
              "      <td>1.3738</td>\n",
              "      <td>0.8896</td>\n",
              "      <td>0.8809</td>\n",
              "    </tr>\n",
              "    <tr>\n",
              "      <th>3</th>\n",
              "      <td>MSE loss function</td>\n",
              "      <td>3.600000e-03</td>\n",
              "      <td>0.9967</td>\n",
              "      <td>0.1098</td>\n",
              "      <td>0.8653</td>\n",
              "      <td>0.8624</td>\n",
              "    </tr>\n",
              "    <tr>\n",
              "      <th>4</th>\n",
              "      <td>tanh activation function</td>\n",
              "      <td>4.086200e-04</td>\n",
              "      <td>1.0000</td>\n",
              "      <td>0.8730</td>\n",
              "      <td>0.8589</td>\n",
              "      <td>0.8590</td>\n",
              "    </tr>\n",
              "    <tr>\n",
              "      <th>5</th>\n",
              "      <td>Dropout (2 layers-rate 0.5)</td>\n",
              "      <td>3.940000e-02</td>\n",
              "      <td>0.9956</td>\n",
              "      <td>1.2060</td>\n",
              "      <td>0.8683</td>\n",
              "      <td>0.8798</td>\n",
              "    </tr>\n",
              "    <tr>\n",
              "      <th>6</th>\n",
              "      <td>Dropout (3 layers-rate 0.5)</td>\n",
              "      <td>5.900000e-03</td>\n",
              "      <td>0.9990</td>\n",
              "      <td>1.1816</td>\n",
              "      <td>0.8734</td>\n",
              "      <td>0.8792</td>\n",
              "    </tr>\n",
              "  </tbody>\n",
              "</table>\n",
              "</div>"
            ],
            "text/plain": [
              "                      Hyperparameters   ...  Test Accuracy\n",
              "0            Original Model (2 layers)  ...         0.8514\n",
              "1                       3 Layers Model  ...         0.8801\n",
              "2  More hidden Units Model (512 units)  ...         0.8809\n",
              "3                    MSE loss function  ...         0.8624\n",
              "4            tanh activation function   ...         0.8590\n",
              "5          Dropout (2 layers-rate 0.5)  ...         0.8798\n",
              "6          Dropout (3 layers-rate 0.5)  ...         0.8792\n",
              "\n",
              "[7 rows x 6 columns]"
            ]
          },
          "metadata": {
            "tags": []
          },
          "execution_count": 125
        }
      ]
    }
  ]
}