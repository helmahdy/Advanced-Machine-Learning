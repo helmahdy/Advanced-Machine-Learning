{
  "nbformat": 4,
  "nbformat_minor": 0,
  "metadata": {
    "colab": {
      "name": "helmahdy #4- RNN Timeseries.ipynb",
      "provenance": [],
      "collapsed_sections": [],
      "authorship_tag": "ABX9TyMNbKlWzPvOQZ3/Ceydjqp8",
      "include_colab_link": true
    },
    "kernelspec": {
      "name": "python3",
      "display_name": "Python 3"
    },
    "language_info": {
      "name": "python"
    }
  },
  "cells": [
    {
      "cell_type": "markdown",
      "metadata": {
        "id": "view-in-github",
        "colab_type": "text"
      },
      "source": [
        "<a href=\"https://colab.research.google.com/github/helmahdy/Advanced-Machine-Learning/blob/main/helmahdy_4_RNN_Timeseries.ipynb\" target=\"_parent\"><img src=\"https://colab.research.google.com/assets/colab-badge.svg\" alt=\"Open In Colab\"/></a>"
      ]
    },
    {
      "cell_type": "markdown",
      "metadata": {
        "id": "r76m7ghU4YWw"
      },
      "source": [
        "Use any or all of the methods we discussed in class to improve weather time-series forecasting\n",
        "problem discussed in class. These methods can include:\n",
        "1. Adjusting the number of units in each recurrent layer in the stacked setup\n",
        "2. Using layer_lstm() instead of layer_gru().\n",
        "3. Using a combination of 1d_convnets and RNN.\n",
        "Don’t forget to eventually run the best-performing models (in terms of validation MAE) on the\n",
        "test set!\n"
      ]
    },
    {
      "cell_type": "code",
      "metadata": {
        "id": "AxrQxD5MWRSM"
      },
      "source": [
        "import keras\n",
        "from keras.layers import LSTM\n",
        "import os\n",
        "import numpy as np\n",
        "from matplotlib import pyplot as plt\n",
        "import pandas as pd\n",
        "from keras.models import Sequential\n",
        "from keras import layers\n",
        "from keras.optimizers import RMSprop\n",
        "from google.colab import drive\n",
        "from keras.layers import LSTM\n",
        "from keras.layers import Embedding"
      ],
      "execution_count": null,
      "outputs": []
    },
    {
      "cell_type": "code",
      "metadata": {
        "colab": {
          "base_uri": "https://localhost:8080/"
        },
        "id": "WiDfahyMdYSb",
        "outputId": "8799b968-808c-42e3-f364-fe4bb1088311"
      },
      "source": [
        "drive.mount('/content/gdrive')\n"
      ],
      "execution_count": null,
      "outputs": [
        {
          "output_type": "stream",
          "text": [
            "Mounted at /content/gdrive\n"
          ],
          "name": "stdout"
        }
      ]
    },
    {
      "cell_type": "markdown",
      "metadata": {
        "id": "EQbfTEJ1eSmV"
      },
      "source": [
        "# Data Preparation"
      ]
    },
    {
      "cell_type": "code",
      "metadata": {
        "colab": {
          "base_uri": "https://localhost:8080/"
        },
        "id": "k-ViFqZfc9Eo",
        "outputId": "f43c28b4-de05-4b8e-fc83-2ea4bcdd0f62"
      },
      "source": [
        "data_dir = '/content/gdrive/MyDrive/Colab Notebooks'\n",
        "fname = os.path.join(data_dir, 'jena_climate_2009_2016.csv')\n",
        "\n",
        "f = open(fname)\n",
        "data = f.read()\n",
        "f.close()\n",
        "\n",
        "lines = data.split('\\n')\n",
        "header = lines[0].split(',')\n",
        "lines = lines[1:]\n",
        "\n",
        "print(header)\n",
        "print(len(lines))"
      ],
      "execution_count": null,
      "outputs": [
        {
          "output_type": "stream",
          "text": [
            "['\"Date Time\"', '\"p (mbar)\"', '\"T (degC)\"', '\"Tpot (K)\"', '\"Tdew (degC)\"', '\"rh (%)\"', '\"VPmax (mbar)\"', '\"VPact (mbar)\"', '\"VPdef (mbar)\"', '\"sh (g/kg)\"', '\"H2OC (mmol/mol)\"', '\"rho (g/m**3)\"', '\"wv (m/s)\"', '\"max. wv (m/s)\"', '\"wd (deg)\"']\n",
            "420551\n"
          ],
          "name": "stdout"
        }
      ]
    },
    {
      "cell_type": "code",
      "metadata": {
        "id": "uCjkREzceKeQ"
      },
      "source": [
        "#convert all of these lines of data into a Numpy array\n",
        "import numpy as np\n",
        "\n",
        "float_data = np.zeros((len(lines), len(header) - 1))\n",
        "for i, line in enumerate(lines):\n",
        "    values = [float(x) for x in line.split(',')[1:]]\n",
        "    float_data[i, :] = values\n"
      ],
      "execution_count": null,
      "outputs": []
    },
    {
      "cell_type": "markdown",
      "metadata": {
        "id": "XiM7RXvHgQnm"
      },
      "source": [
        "We will create data generator that yields a tuple (samples, targets) where samples is one batch of input data and targets is the corresponding array of target temperatures.\n",
        "\n"
      ]
    },
    {
      "cell_type": "code",
      "metadata": {
        "id": "fmXE4V_R209s"
      },
      "source": [
        "   def generator(data, lookback, delay, min_index, max_index,\n",
        "              shuffle=False, batch_size=128, step=6):\n",
        "    if max_index is None:\n",
        "        max_index = len(data) - delay - 1\n",
        "    i = min_index + lookback\n",
        "    while 1:\n",
        "        if shuffle:\n",
        "            rows = np.random.randint(\n",
        "                min_index + lookback, max_index, size=batch_size)\n",
        "        else:\n",
        "            if i + batch_size >= max_index:\n",
        "                i = min_index + lookback\n",
        "            rows = np.arange(i, min(i + batch_size, max_index))\n",
        "            i += len(rows)\n",
        "\n",
        "        samples = np.zeros((len(rows),\n",
        "                           lookback // step,\n",
        "                           data.shape[-1]))\n",
        "        targets = np.zeros((len(rows),))\n",
        "        for j, row in enumerate(rows):\n",
        "            indices = range(rows[j] - lookback, rows[j], step)\n",
        "            samples[j] = data[indices]\n",
        "            targets[j] = data[rows[j] + delay][1]\n",
        "        yield samples, targets\n",
        "        "
      ],
      "execution_count": null,
      "outputs": []
    },
    {
      "cell_type": "markdown",
      "metadata": {
        "id": "vRfxBubT3Iow"
      },
      "source": [
        "We will use the following parameters values:\n",
        "\n",
        " * lookback = 720, i.e. our observations will go back 5 days.\n",
        "\n",
        " * steps = 6, i.e. our observations will be sampled at one data point per hour.\n",
        " * delay = 144, i.e. our targets will be 24 hours in the future.\n",
        "\n",
        "\n"
      ]
    },
    {
      "cell_type": "code",
      "metadata": {
        "id": "XRfyDemcf_7P"
      },
      "source": [
        "lookback = 1440\n",
        "step = 6\n",
        "delay = 144\n",
        "batch_size = 128\n",
        "\n",
        "train_gen = generator(float_data,\n",
        "                      lookback=lookback,\n",
        "                      delay=delay,\n",
        "                      min_index=0,\n",
        "                      max_index=200000,\n",
        "                      shuffle=True,\n",
        "                      step=step, \n",
        "                      batch_size=batch_size)\n",
        "val_gen = generator(float_data,\n",
        "                    lookback=lookback,\n",
        "                    delay=delay,\n",
        "                    min_index=200001,\n",
        "                    max_index=300000,\n",
        "                    step=step,\n",
        "                    batch_size=batch_size)\n",
        "test_gen = generator(float_data,\n",
        "                     lookback=lookback,\n",
        "                     delay=delay,\n",
        "                     min_index=300001,\n",
        "                     max_index=None,\n",
        "                     step=step,\n",
        "                     batch_size=batch_size)\n",
        "\n",
        "# This is how many steps to draw from `val_gen`\n",
        "# in order to see the whole validation set:\n",
        "val_steps = (300000 - 200001 - lookback) // batch_size\n",
        "\n",
        "# This is how many steps to draw from `test_gen`\n",
        "# in order to see the whole test set:\n",
        "test_steps = (len(float_data) - 300001 - lookback) // batch_size"
      ],
      "execution_count": null,
      "outputs": []
    },
    {
      "cell_type": "markdown",
      "metadata": {
        "id": "dQ4PcIGOggzy"
      },
      "source": [
        "Next we will preprocess the data by normalizing each timeseries independently so that they all take small values on a similar scale"
      ]
    },
    {
      "cell_type": "code",
      "metadata": {
        "id": "ny4VGAAkggW5"
      },
      "source": [
        "#using the first 200,000 timesteps as training data, we compute the mean and standard deviation only on this fraction of the data:\n",
        "mean = float_data[:200000].mean(axis=0)\n",
        "float_data -= mean\n",
        "std = float_data[:200000].std(axis=0)\n",
        "float_data /= std"
      ],
      "execution_count": null,
      "outputs": []
    },
    {
      "cell_type": "markdown",
      "metadata": {
        "id": "aVPmLd0C3qwg"
      },
      "source": [
        "# Using layer_lstm() instead of layer_gru()"
      ]
    },
    {
      "cell_type": "markdown",
      "metadata": {
        "id": "sVs7tCfWAMT4"
      },
      "source": [
        "Using layer_gru() gave training loss: 0.2074 and validation loss: 0.3034. Now let's use layer_lstm() instead"
      ]
    },
    {
      "cell_type": "code",
      "metadata": {
        "colab": {
          "base_uri": "https://localhost:8080/"
        },
        "id": "0HqG-gZF4vWK",
        "outputId": "213236c3-6437-4a14-9aa6-ec983572f952"
      },
      "source": [
        "model = Sequential()\n",
        "model.add(LSTM(32))\n",
        "model.add(layers.Dense(1))\n",
        "\n",
        "model.compile(optimizer=RMSprop(), loss='mae')\n",
        "\n",
        "history = model.fit_generator(train_gen,\n",
        "                              steps_per_epoch=500,\n",
        "                              epochs=20,\n",
        "                              validation_data=val_gen,\n",
        "                              validation_steps=val_steps)"
      ],
      "execution_count": null,
      "outputs": [
        {
          "output_type": "stream",
          "text": [
            "/usr/local/lib/python3.7/dist-packages/tensorflow/python/keras/engine/training.py:1844: UserWarning: `Model.fit_generator` is deprecated and will be removed in a future version. Please use `Model.fit`, which supports generators.\n",
            "  warnings.warn('`Model.fit_generator` is deprecated and '\n"
          ],
          "name": "stderr"
        },
        {
          "output_type": "stream",
          "text": [
            "Epoch 1/20\n",
            "500/500 [==============================] - 101s 198ms/step - loss: 0.3363 - val_loss: 0.2693\n",
            "Epoch 2/20\n",
            "500/500 [==============================] - 100s 200ms/step - loss: 0.2774 - val_loss: 0.2702\n",
            "Epoch 3/20\n",
            "500/500 [==============================] - 99s 199ms/step - loss: 0.2660 - val_loss: 0.2757\n",
            "Epoch 4/20\n",
            "500/500 [==============================] - 99s 199ms/step - loss: 0.2576 - val_loss: 0.2762\n",
            "Epoch 5/20\n",
            "500/500 [==============================] - 97s 194ms/step - loss: 0.2474 - val_loss: 0.2858\n",
            "Epoch 6/20\n",
            "500/500 [==============================] - 98s 197ms/step - loss: 0.2416 - val_loss: 0.2851\n",
            "Epoch 7/20\n",
            "500/500 [==============================] - 98s 196ms/step - loss: 0.2325 - val_loss: 0.2858\n",
            "Epoch 8/20\n",
            "500/500 [==============================] - 97s 194ms/step - loss: 0.2303 - val_loss: 0.2882\n",
            "Epoch 9/20\n",
            "500/500 [==============================] - 100s 200ms/step - loss: 0.2254 - val_loss: 0.2888\n",
            "Epoch 10/20\n",
            "500/500 [==============================] - 98s 196ms/step - loss: 0.2185 - val_loss: 0.2930\n",
            "Epoch 11/20\n",
            "500/500 [==============================] - 98s 196ms/step - loss: 0.2156 - val_loss: 0.2978\n",
            "Epoch 12/20\n",
            "500/500 [==============================] - 97s 194ms/step - loss: 0.2112 - val_loss: 0.2991\n",
            "Epoch 13/20\n",
            "500/500 [==============================] - 97s 194ms/step - loss: 0.2075 - val_loss: 0.3048\n",
            "Epoch 14/20\n",
            "500/500 [==============================] - 99s 198ms/step - loss: 0.2028 - val_loss: 0.3024\n",
            "Epoch 15/20\n",
            "500/500 [==============================] - 97s 194ms/step - loss: 0.2002 - val_loss: 0.3075\n",
            "Epoch 16/20\n",
            "500/500 [==============================] - 101s 202ms/step - loss: 0.1966 - val_loss: 0.3073\n",
            "Epoch 17/20\n",
            "500/500 [==============================] - 101s 201ms/step - loss: 0.1933 - val_loss: 0.3082\n",
            "Epoch 18/20\n",
            "500/500 [==============================] - 99s 199ms/step - loss: 0.1903 - val_loss: 0.3055\n",
            "Epoch 19/20\n",
            "500/500 [==============================] - 101s 201ms/step - loss: 0.1899 - val_loss: 0.3146\n",
            "Epoch 20/20\n",
            "500/500 [==============================] - 99s 198ms/step - loss: 0.1843 - val_loss: 0.3158\n"
          ],
          "name": "stdout"
        }
      ]
    },
    {
      "cell_type": "code",
      "metadata": {
        "colab": {
          "base_uri": "https://localhost:8080/",
          "height": 281
        },
        "id": "ixsLjZcY9xzu",
        "outputId": "4e0678c0-e4f9-4309-ec09-22a06f64b25e"
      },
      "source": [
        "\n",
        "loss = history.history['loss']\n",
        "val_loss = history.history['val_loss']\n",
        "\n",
        "epochs = range(len(loss))\n",
        "\n",
        "plt.figure()\n",
        "\n",
        "plt.plot(epochs, loss, 'bo', label='Training loss')\n",
        "plt.plot(epochs, val_loss, 'b', label='Validation loss')\n",
        "plt.title('Training and validation loss')\n",
        "plt.legend()\n",
        "\n",
        "plt.show()"
      ],
      "execution_count": null,
      "outputs": [
        {
          "output_type": "display_data",
          "data": {
            "image/png": "[encoded data removed]",
            "text/plain": [
              "<Figure size 432x288 with 1 Axes>"
            ]
          },
          "metadata": {
            "tags": [],
            "needs_background": "light"
          }
        }
      ]
    },
    {
      "cell_type": "markdown",
      "metadata": {
        "id": "hhp5WC7p99SJ"
      },
      "source": [
        "# Using recurrent dropout to fight overfitting with Layer_LSTM()\n"
      ]
    },
    {
      "cell_type": "code",
      "metadata": {
        "colab": {
          "base_uri": "https://localhost:8080/"
        },
        "id": "siucgmZbnp7c",
        "outputId": "92b660bd-ecc4-429a-c18e-4824c94fb68b"
      },
      "source": [
        "#a temporally constant dropout mask should be applied to the inner recurrent activations of the layer (a \"recurrent\" dropout mask)\n",
        "from keras import layers\n",
        "model = Sequential()\n",
        "model.add(LSTM(32, \n",
        "               dropout=0.5,\n",
        "               recurrent_dropout=0.2,\n",
        "               input_shape=(None, float_data.shape[-1])))\n",
        "model.add(layers.Dense(1))\n",
        "\n",
        "model.compile(optimizer=RMSprop(), loss='mae')\n",
        "\n",
        "history = model.fit_generator(train_gen,\n",
        "                              steps_per_epoch=500,\n",
        "                              epochs=40,\n",
        "                              validation_data=val_gen,\n",
        "                              validation_steps=val_steps)"
      ],
      "execution_count": null,
      "outputs": [
        {
          "output_type": "stream",
          "text": [
            "/usr/local/lib/python3.7/dist-packages/tensorflow/python/keras/engine/training.py:1844: UserWarning: `Model.fit_generator` is deprecated and will be removed in a future version. Please use `Model.fit`, which supports generators.\n",
            "  warnings.warn('`Model.fit_generator` is deprecated and '\n"
          ],
          "name": "stderr"
        },
        {
          "output_type": "stream",
          "text": [
            "Epoch 1/40\n",
            "500/500 [==============================] - 173s 341ms/step - loss: 0.3828 - val_loss: 0.2919\n",
            "Epoch 2/40\n",
            "500/500 [==============================] - 171s 343ms/step - loss: 0.3109 - val_loss: 0.2795\n",
            "Epoch 3/40\n",
            "500/500 [==============================] - 170s 340ms/step - loss: 0.3002 - val_loss: 0.2782\n",
            "Epoch 4/40\n",
            "500/500 [==============================] - 171s 342ms/step - loss: 0.2956 - val_loss: 0.2920\n",
            "Epoch 5/40\n",
            "500/500 [==============================] - 171s 342ms/step - loss: 0.2902 - val_loss: 0.2824\n",
            "Epoch 6/40\n",
            "500/500 [==============================] - 172s 344ms/step - loss: 0.2840 - val_loss: 0.2777\n",
            "Epoch 7/40\n",
            "500/500 [==============================] - 172s 344ms/step - loss: 0.2784 - val_loss: 0.2828\n",
            "Epoch 8/40\n",
            "500/500 [==============================] - 169s 339ms/step - loss: 0.2710 - val_loss: 0.2812\n",
            "Epoch 9/40\n",
            "500/500 [==============================] - 169s 338ms/step - loss: 0.2688 - val_loss: 0.2827\n",
            "Epoch 10/40\n",
            "500/500 [==============================] - 168s 337ms/step - loss: 0.2663 - val_loss: 0.2858\n",
            "Epoch 11/40\n",
            "500/500 [==============================] - 170s 340ms/step - loss: 0.2619 - val_loss: 0.2866\n",
            "Epoch 12/40\n",
            "500/500 [==============================] - 171s 343ms/step - loss: 0.2611 - val_loss: 0.2889\n",
            "Epoch 13/40\n",
            "500/500 [==============================] - 173s 346ms/step - loss: 0.2575 - val_loss: 0.2963\n",
            "Epoch 14/40\n",
            "500/500 [==============================] - 169s 338ms/step - loss: 0.2549 - val_loss: 0.2947\n",
            "Epoch 15/40\n",
            "500/500 [==============================] - 169s 339ms/step - loss: 0.2526 - val_loss: 0.2991\n",
            "Epoch 16/40\n",
            "500/500 [==============================] - 169s 338ms/step - loss: 0.2516 - val_loss: 0.2982\n",
            "Epoch 17/40\n",
            "500/500 [==============================] - 168s 336ms/step - loss: 0.2469 - val_loss: 0.3008\n",
            "Epoch 18/40\n",
            "500/500 [==============================] - 169s 338ms/step - loss: 0.2457 - val_loss: 0.3043\n",
            "Epoch 19/40\n",
            "500/500 [==============================] - 170s 339ms/step - loss: 0.2441 - val_loss: 0.3114\n",
            "Epoch 20/40\n",
            "500/500 [==============================] - 169s 337ms/step - loss: 0.2442 - val_loss: 0.3074\n",
            "Epoch 21/40\n",
            "500/500 [==============================] - 168s 337ms/step - loss: 0.2416 - val_loss: 0.2973\n",
            "Epoch 22/40\n",
            "500/500 [==============================] - 173s 346ms/step - loss: 0.2409 - val_loss: 0.3080\n",
            "Epoch 23/40\n",
            "500/500 [==============================] - 173s 345ms/step - loss: 0.2398 - val_loss: 0.3136\n",
            "Epoch 24/40\n",
            "500/500 [==============================] - 173s 346ms/step - loss: 0.2372 - val_loss: 0.3163\n",
            "Epoch 25/40\n",
            "500/500 [==============================] - 174s 348ms/step - loss: 0.2383 - val_loss: 0.3044\n",
            "Epoch 26/40\n",
            "500/500 [==============================] - 174s 347ms/step - loss: 0.2356 - val_loss: 0.3104\n",
            "Epoch 27/40\n",
            "500/500 [==============================] - 173s 347ms/step - loss: 0.2342 - val_loss: 0.3108\n",
            "Epoch 28/40\n",
            "500/500 [==============================] - 172s 344ms/step - loss: 0.2325 - val_loss: 0.3169\n",
            "Epoch 29/40\n",
            "500/500 [==============================] - 172s 344ms/step - loss: 0.2305 - val_loss: 0.3175\n",
            "Epoch 30/40\n",
            "500/500 [==============================] - 172s 344ms/step - loss: 0.2307 - val_loss: 0.3206\n",
            "Epoch 31/40\n",
            "500/500 [==============================] - 173s 346ms/step - loss: 0.2287 - val_loss: 0.3194\n",
            "Epoch 32/40\n",
            "500/500 [==============================] - 174s 347ms/step - loss: 0.2282 - val_loss: 0.3286\n",
            "Epoch 33/40\n",
            "500/500 [==============================] - 174s 347ms/step - loss: 0.2279 - val_loss: 0.3243\n",
            "Epoch 34/40\n",
            "500/500 [==============================] - 172s 345ms/step - loss: 0.2279 - val_loss: 0.3209\n",
            "Epoch 35/40\n",
            "500/500 [==============================] - 172s 344ms/step - loss: 0.2274 - val_loss: 0.3236\n",
            "Epoch 36/40\n",
            "500/500 [==============================] - 172s 343ms/step - loss: 0.2256 - val_loss: 0.3201\n",
            "Epoch 37/40\n",
            "500/500 [==============================] - 172s 344ms/step - loss: 0.2258 - val_loss: 0.3265\n",
            "Epoch 38/40\n",
            "500/500 [==============================] - 171s 343ms/step - loss: 0.2240 - val_loss: 0.3239\n",
            "Epoch 39/40\n",
            "500/500 [==============================] - 172s 344ms/step - loss: 0.2234 - val_loss: 0.3266\n",
            "Epoch 40/40\n",
            "500/500 [==============================] - 171s 342ms/step - loss: 0.2223 - val_loss: 0.3314\n"
          ],
          "name": "stdout"
        }
      ]
    },
    {
      "cell_type": "code",
      "metadata": {
        "colab": {
          "base_uri": "https://localhost:8080/",
          "height": 281
        },
        "id": "vpPS-IJ5qdfG",
        "outputId": "4f426567-0109-4f38-e0ab-748d3d72c5a8"
      },
      "source": [
        "loss = history.history['loss']\n",
        "val_loss = history.history['val_loss']\n",
        "\n",
        "epochs = range(len(loss))\n",
        "\n",
        "plt.figure()\n",
        "\n",
        "plt.plot(epochs, loss, 'bo', label='Training loss')\n",
        "plt.plot(epochs, val_loss, 'b', label='Validation loss')\n",
        "plt.title('Training and validation loss')\n",
        "plt.legend()\n",
        "\n",
        "plt.show()\n"
      ],
      "execution_count": null,
      "outputs": [
        {
          "output_type": "display_data",
          "data": {
            "image/png": "[encoded data removed]",
            "text/plain": [
              "<Figure size 432x288 with 1 Axes>"
            ]
          },
          "metadata": {
            "tags": [],
            "needs_background": "light"
          }
        }
      ]
    },
    {
      "cell_type": "markdown",
      "metadata": {
        "id": "pwQxJAZYO_2j"
      },
      "source": [
        "# Using recurrent dropout to fight overfitting with layers_gru()"
      ]
    },
    {
      "cell_type": "code",
      "metadata": {
        "colab": {
          "base_uri": "https://localhost:8080/"
        },
        "id": "DY6fGYyBPH95",
        "outputId": "240817e8-b4b9-44d5-ee2d-55646638915c"
      },
      "source": [
        "model = Sequential()\n",
        "model.add(layers.GRU(32,\n",
        "                     dropout=0.2,\n",
        "                     recurrent_dropout=0.2,\n",
        "                     input_shape=(None, float_data.shape[-1])))\n",
        "model.add(layers.Dense(1))\n",
        "\n",
        "model.compile(optimizer=RMSprop(), loss='mae')\n",
        "history = model.fit_generator(train_gen,\n",
        "                              steps_per_epoch=500,\n",
        "                              epochs=40,\n",
        "                              validation_data=val_gen,\n",
        "                              validation_steps=val_steps)\n",
        "\n"
      ],
      "execution_count": null,
      "outputs": [
        {
          "output_type": "stream",
          "text": [
            "/usr/local/lib/python3.7/dist-packages/tensorflow/python/keras/engine/training.py:1844: UserWarning: `Model.fit_generator` is deprecated and will be removed in a future version. Please use `Model.fit`, which supports generators.\n",
            "  warnings.warn('`Model.fit_generator` is deprecated and '\n"
          ],
          "name": "stderr"
        },
        {
          "output_type": "stream",
          "text": [
            "Epoch 1/40\n",
            "500/500 [==============================] - 152s 300ms/step - loss: 0.3550 - val_loss: 0.2804\n",
            "Epoch 2/40\n",
            "500/500 [==============================] - 150s 300ms/step - loss: 0.3114 - val_loss: 0.2749\n",
            "Epoch 3/40\n",
            "500/500 [==============================] - 152s 304ms/step - loss: 0.3009 - val_loss: 0.2763\n",
            "Epoch 4/40\n",
            "500/500 [==============================] - 150s 299ms/step - loss: 0.2996 - val_loss: 0.2684\n",
            "Epoch 5/40\n",
            "500/500 [==============================] - 149s 299ms/step - loss: 0.2929 - val_loss: 0.2753\n",
            "Epoch 6/40\n",
            "500/500 [==============================] - 149s 299ms/step - loss: 0.2882 - val_loss: 0.2680\n",
            "Epoch 7/40\n",
            "500/500 [==============================] - 150s 300ms/step - loss: 0.2866 - val_loss: 0.2679\n",
            "Epoch 8/40\n",
            "500/500 [==============================] - 150s 299ms/step - loss: 0.2821 - val_loss: 0.2711\n",
            "Epoch 9/40\n",
            "500/500 [==============================] - 151s 302ms/step - loss: 0.2786 - val_loss: 0.2825\n",
            "Epoch 10/40\n",
            "500/500 [==============================] - 151s 303ms/step - loss: 0.2750 - val_loss: 0.2766\n",
            "Epoch 11/40\n",
            "500/500 [==============================] - 151s 303ms/step - loss: 0.2717 - val_loss: 0.2741\n",
            "Epoch 12/40\n",
            "500/500 [==============================] - 151s 302ms/step - loss: 0.2700 - val_loss: 0.2731\n",
            "Epoch 13/40\n",
            "500/500 [==============================] - 153s 306ms/step - loss: 0.2659 - val_loss: 0.2776\n",
            "Epoch 14/40\n",
            "500/500 [==============================] - 151s 302ms/step - loss: 0.2631 - val_loss: 0.2745\n",
            "Epoch 15/40\n",
            "500/500 [==============================] - 152s 304ms/step - loss: 0.2618 - val_loss: 0.2795\n",
            "Epoch 16/40\n",
            "500/500 [==============================] - 151s 301ms/step - loss: 0.2580 - val_loss: 0.2783\n",
            "Epoch 17/40\n",
            "500/500 [==============================] - 150s 300ms/step - loss: 0.2578 - val_loss: 0.2799\n",
            "Epoch 18/40\n",
            "500/500 [==============================] - 151s 301ms/step - loss: 0.2568 - val_loss: 0.2844\n",
            "Epoch 19/40\n",
            "500/500 [==============================] - 149s 298ms/step - loss: 0.2530 - val_loss: 0.2814\n",
            "Epoch 20/40\n",
            "500/500 [==============================] - 149s 299ms/step - loss: 0.2544 - val_loss: 0.2873\n",
            "Epoch 21/40\n",
            "500/500 [==============================] - 150s 300ms/step - loss: 0.2475 - val_loss: 0.2889\n",
            "Epoch 22/40\n",
            "500/500 [==============================] - 150s 300ms/step - loss: 0.2486 - val_loss: 0.2905\n",
            "Epoch 23/40\n",
            "500/500 [==============================] - 149s 298ms/step - loss: 0.2470 - val_loss: 0.2966\n",
            "Epoch 24/40\n",
            "500/500 [==============================] - 149s 298ms/step - loss: 0.2481 - val_loss: 0.2918\n",
            "Epoch 25/40\n",
            "500/500 [==============================] - 150s 300ms/step - loss: 0.2433 - val_loss: 0.2951\n",
            "Epoch 26/40\n",
            "500/500 [==============================] - 148s 296ms/step - loss: 0.2434 - val_loss: 0.2931\n",
            "Epoch 27/40\n",
            "500/500 [==============================] - 150s 299ms/step - loss: 0.2405 - val_loss: 0.2967\n",
            "Epoch 28/40\n",
            "500/500 [==============================] - 151s 301ms/step - loss: 0.2421 - val_loss: 0.2948\n",
            "Epoch 29/40\n",
            "500/500 [==============================] - 149s 298ms/step - loss: 0.2373 - val_loss: 0.3026\n",
            "Epoch 30/40\n",
            "500/500 [==============================] - 148s 297ms/step - loss: 0.2376 - val_loss: 0.3045\n",
            "Epoch 31/40\n",
            "500/500 [==============================] - 149s 298ms/step - loss: 0.2360 - val_loss: 0.3051\n",
            "Epoch 32/40\n",
            "500/500 [==============================] - 149s 297ms/step - loss: 0.2350 - val_loss: 0.2975\n",
            "Epoch 33/40\n",
            "500/500 [==============================] - 152s 304ms/step - loss: 0.2302 - val_loss: 0.3048\n",
            "Epoch 34/40\n",
            "500/500 [==============================] - 152s 305ms/step - loss: 0.2309 - val_loss: 0.3027\n",
            "Epoch 35/40\n",
            "500/500 [==============================] - 151s 303ms/step - loss: 0.2306 - val_loss: 0.3104\n",
            "Epoch 36/40\n",
            "500/500 [==============================] - 150s 301ms/step - loss: 0.2298 - val_loss: 0.3053\n",
            "Epoch 37/40\n",
            "500/500 [==============================] - 150s 300ms/step - loss: 0.2283 - val_loss: 0.3115\n",
            "Epoch 38/40\n",
            "500/500 [==============================] - 149s 298ms/step - loss: 0.2275 - val_loss: 0.3156\n",
            "Epoch 39/40\n",
            "500/500 [==============================] - 149s 298ms/step - loss: 0.2240 - val_loss: 0.3118\n",
            "Epoch 40/40\n",
            "500/500 [==============================] - 149s 298ms/step - loss: 0.2248 - val_loss: 0.3179\n"
          ],
          "name": "stdout"
        }
      ]
    },
    {
      "cell_type": "code",
      "metadata": {
        "colab": {
          "base_uri": "https://localhost:8080/",
          "height": 282
        },
        "id": "wqR6ONMvPNM2",
        "outputId": "f6b74702-dd4c-4834-d3fb-b6167c637b81"
      },
      "source": [
        "loss = history.history['loss']\n",
        "val_loss = history.history['val_loss']\n",
        "\n",
        "epochs = range(len(loss))\n",
        "\n",
        "plt.figure()\n",
        "\n",
        "plt.plot(epochs, loss, 'bo', label='Training loss')\n",
        "plt.plot(epochs, val_loss, 'b', label='Validation loss')\n",
        "plt.title('Training and validation loss')\n",
        "plt.legend()\n",
        "\n",
        "plt.show()\n"
      ],
      "execution_count": null,
      "outputs": [
        {
          "output_type": "display_data",
          "data": {
            "image/png": "[encoded data removed]",
            "text/plain": [
              "<Figure size 432x288 with 1 Axes>"
            ]
          },
          "metadata": {
            "tags": [],
            "needs_background": "light"
          }
        }
      ]
    },
    {
      "cell_type": "markdown",
      "metadata": {
        "id": "puxhWOtx-HRO"
      },
      "source": [
        "# Stacking recurrent layers and changing the number of units "
      ]
    },
    {
      "cell_type": "markdown",
      "metadata": {
        "id": "Hlwu4wTJqGNP"
      },
      "source": [
        "To further imporve the model performance, we can increase the capacity of the network. To stack recurrent layers on top of each other in Keras, all intermediate layers should return their full sequence of outputs (a 3D tensor) rather than their output at the last timestep. This is done by specifying return_sequences=True:"
      ]
    },
    {
      "cell_type": "code",
      "metadata": {
        "id": "Q1WKRSkYqHaG",
        "colab": {
          "base_uri": "https://localhost:8080/"
        },
        "outputId": "7e64a1a3-0e44-410b-a243-7b4367ed7a4c"
      },
      "source": [
        "from keras import layers\n",
        "model = Sequential()\n",
        "model.add(layers.GRU(32,\n",
        "                     dropout=0.3,\n",
        "                     recurrent_dropout=0.5,\n",
        "                     return_sequences=True,\n",
        "                     input_shape=(None, float_data.shape[-1])))\n",
        "model.add(layers.GRU(128, activation='relu',\n",
        "                     dropout=0.3, \n",
        "                     recurrent_dropout=0.5,))\n",
        "model.add(layers.Dense(1))\n",
        "\n",
        "model.compile(optimizer=RMSprop(), loss='mae')\n",
        "history = model.fit_generator(train_gen,\n",
        "                              steps_per_epoch=300,\n",
        "                              epochs=20,\n",
        "                              validation_data=val_gen,\n",
        "                              validation_steps=val_steps)"
      ],
      "execution_count": null,
      "outputs": [
        {
          "output_type": "stream",
          "text": [
            "WARNING:tensorflow:Layer gru_2 will not use cuDNN kernel since it doesn't meet the cuDNN kernel criteria. It will use generic GPU kernel as fallback when running on GPU\n",
            "WARNING:tensorflow:Layer gru_3 will not use cuDNN kernel since it doesn't meet the cuDNN kernel criteria. It will use generic GPU kernel as fallback when running on GPU\n",
            "Epoch 1/20\n"
          ],
          "name": "stdout"
        },
        {
          "output_type": "stream",
          "text": [
            "/usr/local/lib/python3.7/dist-packages/tensorflow/python/keras/engine/training.py:1844: UserWarning: `Model.fit_generator` is deprecated and will be removed in a future version. Please use `Model.fit`, which supports generators.\n",
            "  warnings.warn('`Model.fit_generator` is deprecated and '\n"
          ],
          "name": "stderr"
        },
        {
          "output_type": "stream",
          "text": [
            "300/300 [==============================] - 454s 1s/step - loss: 0.3687 - val_loss: 0.3007\n",
            "Epoch 2/20\n",
            "300/300 [==============================] - 451s 2s/step - loss: 0.3237 - val_loss: 0.2814\n",
            "Epoch 3/20\n",
            "300/300 [==============================] - 451s 2s/step - loss: 0.3136 - val_loss: 0.2887\n",
            "Epoch 4/20\n",
            "300/300 [==============================] - 453s 2s/step - loss: 0.3059 - val_loss: 0.2755\n",
            "Epoch 5/20\n",
            "300/300 [==============================] - 450s 1s/step - loss: 0.2985 - val_loss: 0.2768\n",
            "Epoch 6/20\n",
            "300/300 [==============================] - 443s 1s/step - loss: 0.2920 - val_loss: 0.2771\n",
            "Epoch 7/20\n",
            "300/300 [==============================] - 458s 2s/step - loss: 0.2866 - val_loss: 0.2844\n",
            "Epoch 8/20\n",
            "300/300 [==============================] - 463s 2s/step - loss: 0.2815 - val_loss: 0.2823\n",
            "Epoch 9/20\n",
            "300/300 [==============================] - 469s 2s/step - loss: 0.2791 - val_loss: 0.2756\n",
            "Epoch 10/20\n",
            "300/300 [==============================] - 467s 2s/step - loss: 0.2764 - val_loss: 0.2824\n",
            "Epoch 11/20\n",
            "300/300 [==============================] - 463s 2s/step - loss: 0.2721 - val_loss: 0.2840\n",
            "Epoch 12/20\n",
            "300/300 [==============================] - 459s 2s/step - loss: 0.2673 - val_loss: 0.2888\n",
            "Epoch 13/20\n",
            "300/300 [==============================] - 466s 2s/step - loss: 0.2619 - val_loss: 0.2924\n",
            "Epoch 14/20\n",
            "300/300 [==============================] - 460s 2s/step - loss: 0.2616 - val_loss: 0.2926\n",
            "Epoch 15/20\n",
            "300/300 [==============================] - 464s 2s/step - loss: 0.2529 - val_loss: 0.2917\n",
            "Epoch 16/20\n",
            "300/300 [==============================] - 459s 2s/step - loss: 0.2525 - val_loss: 0.2936\n",
            "Epoch 17/20\n",
            "300/300 [==============================] - 466s 2s/step - loss: 0.2475 - val_loss: 0.3040\n",
            "Epoch 18/20\n",
            "300/300 [==============================] - 472s 2s/step - loss: 0.2458 - val_loss: 0.2971\n",
            "Epoch 19/20\n",
            "300/300 [==============================] - 474s 2s/step - loss: 0.2428 - val_loss: 0.3051\n",
            "Epoch 20/20\n",
            "300/300 [==============================] - 476s 2s/step - loss: 0.2413 - val_loss: 0.3118\n"
          ],
          "name": "stdout"
        }
      ]
    },
    {
      "cell_type": "markdown",
      "metadata": {
        "id": "LwPdaUABWhg3"
      },
      "source": [
        "https://github.com/tensorflow/tensorflow/issues/40944\n",
        "\n",
        "\n",
        "\n",
        "https://www.tensorflow.org/api_docs/python/tf/keras/layers/GRU#used-in-the-notebooks_1\n"
      ]
    },
    {
      "cell_type": "code",
      "metadata": {
        "id": "FTIKJ9DUqbl-",
        "colab": {
          "base_uri": "https://localhost:8080/",
          "height": 282
        },
        "outputId": "f3a022c4-93f1-4ab4-8839-3dff02514d9a"
      },
      "source": [
        "loss = history.history['loss']\n",
        "val_loss = history.history['val_loss']\n",
        "\n",
        "epochs = range(len(loss))\n",
        "\n",
        "plt.figure()\n",
        "\n",
        "plt.plot(epochs, loss, 'bo', label='Training loss')\n",
        "plt.plot(epochs, val_loss, 'b', label='Validation loss')\n",
        "plt.title('Training and validation loss')\n",
        "plt.legend()\n",
        "\n",
        "plt.show()\n"
      ],
      "execution_count": null,
      "outputs": [
        {
          "output_type": "display_data",
          "data": {
            "image/png": "[encoded data removed]",
            "text/plain": [
              "<Figure size 432x288 with 1 Axes>"
            ]
          },
          "metadata": {
            "tags": [],
            "needs_background": "light"
          }
        }
      ]
    },
    {
      "cell_type": "code",
      "metadata": {
        "colab": {
          "base_uri": "https://localhost:8080/"
        },
        "id": "ihU9hzbw4aE9",
        "outputId": "172e0d69-8ed5-4ded-e827-8fc5766f217e"
      },
      "source": [
        "from keras import layers\n",
        "model = Sequential()\n",
        "model.add(layers.GRU(80,\n",
        "                     dropout=0.2,\n",
        "                     recurrent_dropout=0.5,\n",
        "                     return_sequences=True,\n",
        "                     input_shape=(None, float_data.shape[-1])))\n",
        "model.add(layers.GRU(128, activation='relu',\n",
        "                     dropout=0.2, \n",
        "                     recurrent_dropout=0.5,))\n",
        "model.add(layers.Dense(1))\n",
        "\n",
        "model.compile(optimizer=RMSprop(), loss='mae')\n",
        "history = model.fit_generator(train_gen,\n",
        "                              steps_per_epoch=100,\n",
        "                              epochs=30,\n",
        "                              validation_data=val_gen,\n",
        "                              validation_steps=val_steps)\n",
        "\n"
      ],
      "execution_count": null,
      "outputs": [
        {
          "output_type": "stream",
          "text": [
            "WARNING:tensorflow:Layer gru_6 will not use cuDNN kernel since it doesn't meet the cuDNN kernel criteria. It will use generic GPU kernel as fallback when running on GPU\n",
            "WARNING:tensorflow:Layer gru_7 will not use cuDNN kernel since it doesn't meet the cuDNN kernel criteria. It will use generic GPU kernel as fallback when running on GPU\n",
            "Epoch 1/30\n"
          ],
          "name": "stdout"
        },
        {
          "output_type": "stream",
          "text": [
            "/usr/local/lib/python3.7/dist-packages/tensorflow/python/keras/engine/training.py:1844: UserWarning: `Model.fit_generator` is deprecated and will be removed in a future version. Please use `Model.fit`, which supports generators.\n",
            "  warnings.warn('`Model.fit_generator` is deprecated and '\n"
          ],
          "name": "stderr"
        },
        {
          "output_type": "stream",
          "text": [
            "100/100 [==============================] - 214s 2s/step - loss: 0.3746 - val_loss: 0.3090\n",
            "Epoch 2/30\n",
            "100/100 [==============================] - 208s 2s/step - loss: 0.3252 - val_loss: 0.2794\n",
            "Epoch 3/30\n",
            "100/100 [==============================] - 209s 2s/step - loss: 0.3167 - val_loss: 0.2849\n",
            "Epoch 4/30\n",
            "100/100 [==============================] - 210s 2s/step - loss: 0.3186 - val_loss: 0.2816\n",
            "Epoch 5/30\n",
            "100/100 [==============================] - 210s 2s/step - loss: 0.3056 - val_loss: 0.2837\n",
            "Epoch 6/30\n",
            "100/100 [==============================] - 211s 2s/step - loss: 0.3068 - val_loss: 0.2706\n",
            "Epoch 7/30\n",
            "100/100 [==============================] - 209s 2s/step - loss: 0.3049 - val_loss: 0.2747\n",
            "Epoch 8/30\n",
            "100/100 [==============================] - 207s 2s/step - loss: 0.3007 - val_loss: 0.2768\n",
            "Epoch 9/30\n",
            "100/100 [==============================] - 207s 2s/step - loss: 0.2986 - val_loss: 0.2764\n",
            "Epoch 10/30\n",
            "100/100 [==============================] - 205s 2s/step - loss: 0.2953 - val_loss: 0.2803\n",
            "Epoch 11/30\n",
            "100/100 [==============================] - 205s 2s/step - loss: 0.2928 - val_loss: 0.2738\n",
            "Epoch 12/30\n",
            "100/100 [==============================] - 206s 2s/step - loss: 0.2893 - val_loss: 0.2751\n",
            "Epoch 13/30\n",
            "100/100 [==============================] - 204s 2s/step - loss: 0.2913 - val_loss: 0.2715\n",
            "Epoch 14/30\n",
            "100/100 [==============================] - 205s 2s/step - loss: 0.2859 - val_loss: 0.2740\n",
            "Epoch 15/30\n",
            "100/100 [==============================] - 206s 2s/step - loss: 0.2836 - val_loss: 0.2837\n",
            "Epoch 16/30\n",
            "100/100 [==============================] - 206s 2s/step - loss: 0.2882 - val_loss: 0.2726\n",
            "Epoch 17/30\n",
            "100/100 [==============================] - 205s 2s/step - loss: 0.2778 - val_loss: 0.2739\n",
            "Epoch 18/30\n",
            "100/100 [==============================] - 205s 2s/step - loss: 0.2724 - val_loss: 0.2744\n",
            "Epoch 19/30\n",
            "100/100 [==============================] - 209s 2s/step - loss: 0.2721 - val_loss: 0.2774\n",
            "Epoch 20/30\n",
            "100/100 [==============================] - 205s 2s/step - loss: 0.2704 - val_loss: 0.2753\n",
            "Epoch 21/30\n",
            "100/100 [==============================] - 206s 2s/step - loss: 0.2679 - val_loss: 0.2836\n",
            "Epoch 22/30\n",
            "100/100 [==============================] - 206s 2s/step - loss: 0.2639 - val_loss: 0.2734\n",
            "Epoch 23/30\n",
            "100/100 [==============================] - 206s 2s/step - loss: 0.2606 - val_loss: 0.2765\n",
            "Epoch 24/30\n",
            "100/100 [==============================] - 205s 2s/step - loss: 0.2639 - val_loss: 0.2747\n",
            "Epoch 25/30\n",
            "100/100 [==============================] - 206s 2s/step - loss: 0.2601 - val_loss: 0.2874\n",
            "Epoch 26/30\n",
            "100/100 [==============================] - 206s 2s/step - loss: 0.2556 - val_loss: 0.2769\n",
            "Epoch 27/30\n",
            "100/100 [==============================] - 206s 2s/step - loss: 0.2583 - val_loss: 0.2776\n",
            "Epoch 28/30\n",
            "100/100 [==============================] - 207s 2s/step - loss: 0.2577 - val_loss: 0.2849\n",
            "Epoch 29/30\n",
            "100/100 [==============================] - 206s 2s/step - loss: 0.2476 - val_loss: 0.2817\n",
            "Epoch 30/30\n",
            "100/100 [==============================] - 205s 2s/step - loss: 0.2493 - val_loss: 0.2791\n"
          ],
          "name": "stdout"
        }
      ]
    },
    {
      "cell_type": "code",
      "metadata": {
        "colab": {
          "base_uri": "https://localhost:8080/",
          "height": 282
        },
        "id": "3NWlkB8uGouy",
        "outputId": "aac02b08-756e-454a-8e93-bce16602b792"
      },
      "source": [
        "loss = history.history['loss']\n",
        "val_loss = history.history['val_loss']\n",
        "\n",
        "epochs = range(len(loss))\n",
        "\n",
        "plt.figure()\n",
        "\n",
        "plt.plot(epochs, loss, 'bo', label='Training loss')\n",
        "plt.plot(epochs, val_loss, 'b', label='Validation loss')\n",
        "plt.title('Training and validation loss')\n",
        "plt.legend()\n",
        "\n",
        "plt.show()"
      ],
      "execution_count": null,
      "outputs": [
        {
          "output_type": "display_data",
          "data": {
            "image/png": "[encoded data removed]",
            "text/plain": [
              "<Figure size 432x288 with 1 Axes>"
            ]
          },
          "metadata": {
            "tags": [],
            "needs_background": "light"
          }
        }
      ]
    },
    {
      "cell_type": "markdown",
      "metadata": {
        "id": "5w5hzvqvvFmE"
      },
      "source": [
        "# Results:"
      ]
    },
    {
      "cell_type": "code",
      "metadata": {
        "id": "pyqhnXk1HwNG"
      },
      "source": [
        "from google.colab import drive\n",
        "drive.mount('/content/drive')\n"
      ],
      "execution_count": null,
      "outputs": []
    },
    {
      "cell_type": "markdown",
      "metadata": {
        "id": "FyC43tqCPbHG"
      },
      "source": [
        "## Here is a brief summary of the results: "
      ]
    },
    {
      "cell_type": "code",
      "metadata": {
        "colab": {
          "base_uri": "https://localhost:8080/",
          "height": 197
        },
        "id": "33RW4lYRIWEi",
        "outputId": "8cc61f32-84f8-42d9-d00c-9e12039bd313"
      },
      "source": [
        "pd.read_excel('/content/drive/My Drive/results.xlsx', 'Sheet2')"
      ],
      "execution_count": null,
      "outputs": [
        {
          "output_type": "execute_result",
          "data": {
            "text/html": [
              "<div>\n",
              "<style scoped>\n",
              "    .dataframe tbody tr th:only-of-type {\n",
              "        vertical-align: middle;\n",
              "    }\n",
              "\n",
              "    .dataframe tbody tr th {\n",
              "        vertical-align: top;\n",
              "    }\n",
              "\n",
              "    .dataframe thead th {\n",
              "        text-align: right;\n",
              "    }\n",
              "</style>\n",
              "<table border=\"1\" class=\"dataframe\">\n",
              "  <thead>\n",
              "    <tr style=\"text-align: right;\">\n",
              "      <th></th>\n",
              "      <th>Model</th>\n",
              "      <th>Training Loss</th>\n",
              "      <th>Validation loss</th>\n",
              "    </tr>\n",
              "  </thead>\n",
              "  <tbody>\n",
              "    <tr>\n",
              "      <th>0</th>\n",
              "      <td>First Recurrent Baseline - layer_lstm()</td>\n",
              "      <td>0.1843</td>\n",
              "      <td>0.3158</td>\n",
              "    </tr>\n",
              "    <tr>\n",
              "      <th>1</th>\n",
              "      <td>Recurrent dropout with Layer_LSTM()</td>\n",
              "      <td>0.2223</td>\n",
              "      <td>0.3314</td>\n",
              "    </tr>\n",
              "    <tr>\n",
              "      <th>2</th>\n",
              "      <td>Recurrent dropout with layers_gru()</td>\n",
              "      <td>0.2248</td>\n",
              "      <td>0.3179</td>\n",
              "    </tr>\n",
              "    <tr>\n",
              "      <th>3</th>\n",
              "      <td>Stacking recurrent layers/ changing units number</td>\n",
              "      <td>0.2413</td>\n",
              "      <td>0.3118</td>\n",
              "    </tr>\n",
              "    <tr>\n",
              "      <th>4</th>\n",
              "      <td>Stacking recurrent layers/ increasing units nu...</td>\n",
              "      <td>0.2493</td>\n",
              "      <td>0.2791</td>\n",
              "    </tr>\n",
              "  </tbody>\n",
              "</table>\n",
              "</div>"
            ],
            "text/plain": [
              "                                               Model  ...  Validation loss\n",
              "0           First Recurrent Baseline - layer_lstm()   ...           0.3158\n",
              "1                Recurrent dropout with Layer_LSTM()  ...           0.3314\n",
              "2                Recurrent dropout with layers_gru()  ...           0.3179\n",
              "3   Stacking recurrent layers/ changing units number  ...           0.3118\n",
              "4  Stacking recurrent layers/ increasing units nu...  ...           0.2791\n",
              "\n",
              "[5 rows x 3 columns]"
            ]
          },
          "metadata": {
            "tags": []
          },
          "execution_count": 18
        }
      ]
    },
    {
      "cell_type": "markdown",
      "metadata": {
        "id": "DxegXq2qIg0T"
      },
      "source": [
        "It should be noted that all these models are computationaly expensive. Each took ~4 hrs to run in google colab. \n",
        "\n",
        "*  The first model using Layers_lstm() (baseline) was clearly overfitting as seen in the difference between the training and validation loss.\n",
        "*   Using dropout method wasn't giving better results either.\n",
        "*   Stacking the recurrent layers , using drop out and increasing the number of units slightly improved the performance in validation.\n",
        "*   The best performer model here was the one with the highest number of units, proving that increasing the network capacity plays a big part in the performance.\n",
        "\n",
        "\n",
        "\n"
      ]
    }
  ]
}